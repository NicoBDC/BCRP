{
 "cells": [
  {
   "cell_type": "code",
   "execution_count": null,
   "id": "f5c53fab-fa12-47d9-a3e5-d67d11f36ce5",
   "metadata": {},
   "outputs": [],
   "source": [
    "import stata_setup\n",
    "stata_setup.config(\"C:/Program Files/Stata17/\", \"mp\")"
   ]
  },
  {
   "cell_type": "code",
   "execution_count": null,
   "id": "10748dd7-48d8-4689-813e-9e4865392480",
   "metadata": {},
   "outputs": [],
   "source": [
    "%%stata -eret steret\n",
    "use ../Data/breathe, clear\n",
    "quietly do ../Do/no2\n",
    "elasticnet linear react no2_class $cc i.($fc), alpha(.02 (0.02) .1) nolog folds(20) rseed(52)"
   ]
  }
 ],
 "metadata": {
  "kernelspec": {
   "display_name": "Python 3",
   "language": "python",
   "name": "python3"
  },
  "language_info": {
   "codemirror_mode": {
    "name": "ipython",
    "version": 3
   },
   "file_extension": ".py",
   "mimetype": "text/x-python",
   "name": "python",
   "nbconvert_exporter": "python",
   "pygments_lexer": "ipython3",
   "version": "3.9.6"
  },
  "vscode": {
   "interpreter": {
    "hash": "11938c6bc6919ae2720b4d5011047913343b08a43b18698fd82dedb0d4417594"
   }
  }
 },
 "nbformat": 4,
 "nbformat_minor": 5
}
