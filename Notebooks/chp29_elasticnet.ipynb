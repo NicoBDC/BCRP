{
 "cells": [
  {
   "cell_type": "code",
   "execution_count": 1,
   "id": "f5c53fab-fa12-47d9-a3e5-d67d11f36ce5",
   "metadata": {},
   "outputs": [
    {
     "name": "stdout",
     "output_type": "stream",
     "text": [
      "\n",
      "  ___  ____  ____  ____  ____ ®\n",
      " /__    /   ____/   /   ____/      17.0\n",
      "___/   /   /___/   /   /___/       MP—Parallel Edition\n",
      "\n",
      " Statistics and Data Science       Copyright 1985-2021 StataCorp LLC\n",
      "                                   StataCorp\n",
      "                                   4905 Lakeway Drive\n",
      "                                   College Station, Texas 77845 USA\n",
      "                                   800-STATA-PC        https://www.stata.com\n",
      "                                   979-696-4600        stata@stata.com\n",
      "\n",
      "Stata license: Single-user 4-core  perpetual\n",
      "Serial number: 501706303466\n",
      "  Licensed to: David Tomas Jacho-Chavez\n",
      "               Emory University\n",
      "\n",
      "Notes:\n",
      "      1. Unicode is supported; see help unicode_advice.\n",
      "      2. More than 2 billion observations are allowed; see help obs_advice.\n",
      "      3. Maximum number of variables is set to 5,000; see help set_maxvar.\n"
     ]
    }
   ],
   "source": [
    "import stata_setup\n",
    "stata_setup.config(\"C:/Program Files/Stata17/\", \"mp\")"
   ]
  },
  {
   "cell_type": "code",
   "execution_count": 2,
   "id": "10748dd7-48d8-4689-813e-9e4865392480",
   "metadata": {},
   "outputs": [
    {
     "name": "stdout",
     "output_type": "stream",
     "text": [
      "\n",
      ". use https://www.stata-press.com/data/r17/breathe, clear\n",
      "(Nitrogen dioxide and attention)\n",
      "\n",
      ". quietly do https://www.stata-press.com/data/r17/no2\n",
      "\n",
      ". elasticnet linear react no2_class $cc i.($fc), alpha(.02 (0.02) .1) nolog fol\n",
      "> ds(20) rseed(52)\n",
      "\n",
      "Elastic net linear model                         No. of obs        =      1,036\n",
      "                                                 No. of covariates =         33\n",
      "Selection: Cross-validation                      No. of CV folds   =         20\n",
      "\n",
      "-------------------------------------------------------------------------------\n",
      "               |                               No. of      Out-of-      CV mean\n",
      "               |                              nonzero       sample   prediction\n",
      "alpha       ID |     Description      lambda    coef.    R-squared        error\n",
      "---------------+---------------------------------------------------------------\n",
      "0.100          |\n",
      "             1 |    first lambda    2667.985        0      -0.0016     20872.09\n",
      "           113 |     last lambda    .1023391       33       0.1987     16698.19\n",
      "---------------+---------------------------------------------------------------\n",
      "0.080          |\n",
      "           114 |    first lambda    2667.985        0      -0.0016     20872.09\n",
      "           227 |     last lambda    .0932476       33       0.1985     16701.23\n",
      "---------------+---------------------------------------------------------------\n",
      "0.060          |\n",
      "           228 |    first lambda    2667.985        0      -0.0016     20872.09\n",
      "           341 |     last lambda    .0932476       33       0.1986     16700.37\n",
      "---------------+---------------------------------------------------------------\n",
      "0.040          |\n",
      "           342 |    first lambda    2667.985        0      -0.0016     20872.09\n",
      "           455 |     last lambda    .0932476       33       0.1986     16699.54\n",
      "---------------+---------------------------------------------------------------\n",
      "0.020          |\n",
      "           456 |    first lambda    2667.985        0      -0.0016     20872.08\n",
      "           559 |   lambda before    .2364166       33       0.1998     16673.97\n",
      "         * 560 | selected lambda     .215414       33       0.1998     16673.68\n",
      "           561 |    lambda after    .1962772       33       0.1998     16674.37\n",
      "           569 |     last lambda    .0932476       33       0.1986     16698.72\n",
      "-------------------------------------------------------------------------------\n",
      "* alpha and lambda selected by cross-validation.\n",
      "\n",
      ". \n"
     ]
    }
   ],
   "source": [
    "%%stata -eret steret\n",
    "use https://www.stata-press.com/data/r17/breathe, clear\n",
    "quietly do https://www.stata-press.com/data/r17/no2\n",
    "elasticnet linear react no2_class $cc i.($fc), alpha(.02 (0.02) .1) nolog folds(20) rseed(52)"
   ]
  },
  {
   "cell_type": "code",
   "execution_count": null,
   "id": "9454e5c0-199c-4b83-bb21-878104cfe94f",
   "metadata": {},
   "outputs": [],
   "source": []
  }
 ],
 "metadata": {
  "kernelspec": {
   "display_name": "Python 3 (ipykernel)",
   "language": "python",
   "name": "python3"
  },
  "language_info": {
   "codemirror_mode": {
    "name": "ipython",
    "version": 3
   },
   "file_extension": ".py",
   "mimetype": "text/x-python",
   "name": "python",
   "nbconvert_exporter": "python",
   "pygments_lexer": "ipython3",
   "version": "3.9.6"
  }
 },
 "nbformat": 4,
 "nbformat_minor": 5
}
