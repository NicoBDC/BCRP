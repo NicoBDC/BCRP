{
 "cells": [
  {
   "cell_type": "code",
   "execution_count": null,
   "id": "3fd6ff4c-e181-444e-8d27-3eb17c230cc8",
   "metadata": {},
   "outputs": [],
   "source": [
    "import stata_setup, os\n",
    "if os.name == 'nt':\n",
    "    stata_setup.config('C:/Program Files/Stata17/','mp')\n",
    "else:\n",
    "    stata_setup.config('/usr/local/stata17','mp')"
   ]
  },
  {
   "cell_type": "markdown",
   "id": "d63d081d-7595-4cf7-a149-81bc0dd88a3e",
   "metadata": {},
   "source": [
    "## Double Selection Lasso"
   ]
  },
  {
   "cell_type": "markdown",
   "id": "392d5690-a2da-481b-8f22-9de44a60f7ca",
   "metadata": {},
   "source": [
    "The Double Selection Lasso is implemented by the ```dsregress``` Stata command. It'll utilize a 'plugin' value for the $\\lambda$s parameters by default, but they can also use standard cross-validation instead."
   ]
  },
  {
   "cell_type": "code",
   "execution_count": null,
   "id": "9eb8ff14-febe-450f-84de-42b582f52544",
   "metadata": {},
   "outputs": [],
   "source": [
    "%%stata\n",
    "use ../Data/breathe, clear\n",
    "quietly do ../Do/no2\n",
    "quietly dsregress react no2_class, controls($cc i.($fc)) rseed(52)\n",
    "estimates store ds_plugin\n",
    "quietly dsregress react no2_class, controls($cc i.($fc)) selection(cv) rseed(52)\n",
    "estimates store ds_cv"
   ]
  },
  {
   "cell_type": "code",
   "execution_count": null,
   "id": "5efccd22-a16d-4d39-aad6-a52f66f50df3",
   "metadata": {},
   "outputs": [],
   "source": [
    "%%stata\n",
    "#delimit ;\n",
    "lassocoef (ds_plugin, for(react)) (ds_cv, for(react))\n",
    "          (ds_plugin, for(no2_class)) (ds_cv, for(no2_class));\n",
    "#delimit cr"
   ]
  },
  {
   "cell_type": "code",
   "execution_count": null,
   "id": "543a6114-39d8-4b7f-be1f-3bb38fd54ad6",
   "metadata": {},
   "outputs": [],
   "source": [
    "%%stata\n",
    "estimates restore ds_cv\n",
    "dsregress"
   ]
  }
 ],
 "metadata": {
  "kernelspec": {
   "display_name": "Python 3",
   "language": "python",
   "name": "python3"
  },
  "language_info": {
   "codemirror_mode": {
    "name": "ipython",
    "version": 3
   },
   "file_extension": ".py",
   "mimetype": "text/x-python",
   "name": "python",
   "nbconvert_exporter": "python",
   "pygments_lexer": "ipython3",
   "version": "3.9.6 (tags/v3.9.6:db3ff76, Jun 28 2021, 15:26:21) [MSC v.1929 64 bit (AMD64)]"
  },
  "vscode": {
   "interpreter": {
    "hash": "11938c6bc6919ae2720b4d5011047913343b08a43b18698fd82dedb0d4417594"
   }
  }
 },
 "nbformat": 4,
 "nbformat_minor": 5
}
