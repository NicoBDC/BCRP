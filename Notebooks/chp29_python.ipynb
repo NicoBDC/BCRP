{
 "cells": [
  {
   "cell_type": "code",
   "execution_count": null,
   "id": "df9a7e17-0197-4f9c-964d-3bc2d66cb34c",
   "metadata": {},
   "outputs": [],
   "source": [
    "import stata_setup\n",
    "stata_setup.config(\"C:/Program Files/Stata17/\", \"mp\")"
   ]
  },
  {
   "cell_type": "markdown",
   "id": "b54bd0e3-e4cc-4bcc-aae3-27f56d2f2638",
   "metadata": {},
   "source": [
    "## Effect of Traffic-related air pollution on Attention in Primary School Children"
   ]
  },
  {
   "cell_type": "markdown",
   "id": "3c889ade-bc65-4bab-8bc3-d0a3e15ff9a9",
   "metadata": {},
   "source": [
    "A real-world dataset that includes children’s performance on a test of reaction time, levels of nitrogen dioxide (NO2) pollution, the children’s physical and socioeconomic characteristics, and some other environmental factors. The data were collected and analyzed by\n",
    "\n",
    "<blockquote>\n",
    "Sunyer, J., E. Suades-González, R. García-Esteban, I. Rivas, J. Pujol, M. Alvarez-Pedrerol, J. Forns, X. Querol, and X. Basagaña. 2017. Traffic-related air pollution and attention in primary school children: Short-term association. <em>Epidemiology</em> 28: 181–189.\n",
    "</blockquote>\n",
    "\n",
    "&nbsp;&nbsp;&nbsp;&nbsp;&nbsp;&nbsp;&nbsp;&nbsp;&nbsp;&nbsp;&nbsp;&nbsp;&nbsp;<a href=\"https://doi.org/10.1097/EDE.0000000000000603\">https://doi.org/10.1097/EDE.0000000000000603</a>"
   ]
  },
  {
   "cell_type": "markdown",
   "id": "1655df70-5339-4565-bad7-6213b599b434",
   "metadata": {},
   "source": [
    "Our interest is in how levels of nitrogen dioxide in the classroom affect the children’s performance on the test, while adjusting for other factors. We will focus on two _outcomes_ from the Attention Network Test (ANT)\n",
    "\n",
    "👉🏼 Reaction time (continuous)\n",
    "\n",
    "👉🏼 Omissions (count)"
   ]
  },
  {
   "cell_type": "code",
   "execution_count": null,
   "id": "37771bec",
   "metadata": {},
   "outputs": [],
   "source": [
    "%%stata\n",
    "use ../Data/breathe\n",
    "describe"
   ]
  },
  {
   "cell_type": "markdown",
   "id": "fe30f65f-74c9-402c-9d33-4a1822b5b0cd",
   "metadata": {},
   "source": [
    "Our goal is to create two lists of control covariates, for example, independent variables. One list will contain continuous control covariates and the other will contain categorical control covariates. Why not just one list? Because we want the categorical variables to enter our model as indicator variables for each level (distinct value) of the categorical variable. To expand a categorical variable into indicator variables for its levels, we must prefix it with an ```i.```, for example, ```i.grade```."
   ]
  },
  {
   "cell_type": "code",
   "execution_count": null,
   "id": "8f278a4d-40d8-4390-a509-e8d875b8fc1b",
   "metadata": {},
   "outputs": [],
   "source": [
    "%%stata\n",
    "vl set"
   ]
  },
  {
   "cell_type": "code",
   "execution_count": null,
   "id": "0286fcd5-2776-4992-a165-058006360726",
   "metadata": {},
   "outputs": [],
   "source": [
    "%%stata\n",
    "display \"$vlcategorical\""
   ]
  },
  {
   "cell_type": "markdown",
   "id": "2eae8a35-d2a2-442e-8b3b-17329b9207d4",
   "metadata": {},
   "source": [
    "## Determinants of Wages"
   ]
  },
  {
   "cell_type": "markdown",
   "id": "b50ae7b2-f12a-4d3b-ba1c-32263bb90341",
   "metadata": {},
   "source": [
    "The log of married women’s wages (```lwage```) is modeled as a function of their experience (```exper```), the square of their experience, and their years of education (```educ```). Collectively, these are called _exogenous_ covariates.\n",
    "\n",
    "<blockquote>\n",
    "Mroz, T. A. 1987. The sensitivity of an empirical model of married women’s hours of work to economic and statistical\n",
    "assumptions. <em>Econometrica</em> 55: 765–799.    \n",
    "</blockquote>    \n",
    "\n",
    "&nbsp;&nbsp;&nbsp;&nbsp;&nbsp;&nbsp;&nbsp;&nbsp;&nbsp;&nbsp;&nbsp;&nbsp;&nbsp;<a href=\"https://doi.org/10.2307/1911029\">https://doi.org/10.2307/1911029</a>\n",
    "\n",
    "As is customary, education is treated as an endogenous variable. The reasoning is that we cannot measure innate ability, and ability is likely to influence both education level and income. Some disciplines refer to this as unobserved confounding rather than endogeneity. Either way, you cannot just run a regression of wages on education and experience and learn anything about the true effect of education on wages."
   ]
  },
  {
   "cell_type": "markdown",
   "id": "d846d13c-4920-467d-a3a4-f8a13c6f4f4c",
   "metadata": {},
   "source": [
    "You need more information from variables that you presume are not affected by the woman’s unmeasured ability — let’s call them __instruments__. And, they also cannot belong in the model for wages. We will use their mothers’ education (```motheduc```), their fathers' education (```fatheduc```), and their husbands’ education (```huseduc```) as instruments for the woman’s education. The instruments are also required to be _exogenous_, but we will just call them instruments."
   ]
  },
  {
   "cell_type": "code",
   "execution_count": null,
   "id": "0eaa2c26-b475-41d3-a4a9-e93edac6a33d",
   "metadata": {},
   "outputs": [],
   "source": [
    "%%stata\n",
    "use ../Data/mroz, clear\n",
    "vl create exogbase = (exper age husage kidslt6 kidsge6 city)\n",
    "note: $exogbase initialized with 6 variables.\n",
    "vl create instbase = (motheduc fatheduc huseduc)\n",
    "note: $instbase initialized with 3 variables."
   ]
  },
  {
   "cell_type": "code",
   "execution_count": null,
   "id": "6373fa46-fd6f-4077-8dbd-4eb73b0d10bd",
   "metadata": {},
   "outputs": [],
   "source": [
    "from pystata import stata\n",
    "stata.run('describe')"
   ]
  }
 ],
 "metadata": {
  "kernelspec": {
   "display_name": "Python 3",
   "language": "python",
   "name": "python3"
  },
  "language_info": {
   "codemirror_mode": {
    "name": "ipython",
    "version": 3
   },
   "file_extension": ".py",
   "mimetype": "text/x-python",
   "name": "python",
   "nbconvert_exporter": "python",
   "pygments_lexer": "ipython3",
   "version": "3.9.6 (tags/v3.9.6:db3ff76, Jun 28 2021, 15:26:21) [MSC v.1929 64 bit (AMD64)]"
  },
  "vscode": {
   "interpreter": {
    "hash": "11938c6bc6919ae2720b4d5011047913343b08a43b18698fd82dedb0d4417594"
   }
  }
 },
 "nbformat": 4,
 "nbformat_minor": 5
}
