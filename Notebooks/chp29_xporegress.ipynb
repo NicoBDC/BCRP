{
 "cells": [
  {
   "cell_type": "code",
   "execution_count": 1,
   "id": "008021ea-c2f0-44ae-984e-155fb4705230",
   "metadata": {},
   "outputs": [
    {
     "name": "stdout",
     "output_type": "stream",
     "text": [
      "\n",
      "  ___  ____  ____  ____  ____ ®\n",
      " /__    /   ____/   /   ____/      17.0\n",
      "___/   /   /___/   /   /___/       MP—Parallel Edition\n",
      "\n",
      " Statistics and Data Science       Copyright 1985-2021 StataCorp LLC\n",
      "                                   StataCorp\n",
      "                                   4905 Lakeway Drive\n",
      "                                   College Station, Texas 77845 USA\n",
      "                                   800-STATA-PC        https://www.stata.com\n",
      "                                   979-696-4600        stata@stata.com\n",
      "\n",
      "Stata license: Single-user 4-core  perpetual\n",
      "Serial number: 501706303466\n",
      "  Licensed to: David Tomas Jacho-Chavez\n",
      "               Emory University\n",
      "\n",
      "Notes:\n",
      "      1. Unicode is supported; see help unicode_advice.\n",
      "      2. More than 2 billion observations are allowed; see help obs_advice.\n",
      "      3. Maximum number of variables is set to 5,000; see help set_maxvar.\n"
     ]
    }
   ],
   "source": [
    "import stata_setup\n",
    "stata_setup.config(\"C:/Program Files/Stata17/\", \"mp\")"
   ]
  },
  {
   "cell_type": "markdown",
   "id": "ea0d18f4-155d-4fe5-83e2-7a38af178146",
   "metadata": {},
   "source": [
    "## Double/Debiased Machine Learning"
   ]
  },
  {
   "cell_type": "markdown",
   "id": "167d5678-77b6-40c0-8566-1dbcb8cd0ada",
   "metadata": {},
   "source": [
    "The Double/Debiased Machine Learning estimator is implemented by the ```xporegress``` Stata command. It'll utilize a 'plugin' value for the $\\lambda$s parameters by default, but they can also use standard cross-validation instead."
   ]
  },
  {
   "cell_type": "code",
   "execution_count": 2,
   "id": "97445bef-a493-461b-a188-dbaa28bf00f3",
   "metadata": {},
   "outputs": [
    {
     "name": "stdout",
     "output_type": "stream",
     "text": [
      "\n",
      ". use https://www.stata-press.com/data/r17/breathe, clear\n",
      "(Nitrogen dioxide and attention)\n",
      "\n",
      ". quietly do https://www.stata-press.com/data/r17/no2\n",
      "\n",
      ". quietly xporegress react no2_class, controls($cc i.($fc)) rseed(52)\n",
      "\n",
      ". estimates store xpo_plugin\n",
      "\n",
      ". quietly xporegress react no2_class, controls($cc i.($fc)) selection(cv) rseed\n",
      "> (52)\n",
      "\n",
      ". estimates store xpo_cv\n",
      "\n",
      ". \n"
     ]
    }
   ],
   "source": [
    "%%stata\n",
    "use https://www.stata-press.com/data/r17/breathe, clear\n",
    "quietly do https://www.stata-press.com/data/r17/no2\n",
    "quietly xporegress react no2_class, controls($cc i.($fc)) rseed(52)\n",
    "estimates store xpo_plugin\n",
    "quietly xporegress react no2_class, controls($cc i.($fc)) selection(cv) rseed(52)\n",
    "estimates store xpo_cv"
   ]
  },
  {
   "cell_type": "code",
   "execution_count": 3,
   "id": "77c84cbe-d356-4476-97de-5e375615dedf",
   "metadata": {},
   "outputs": [
    {
     "name": "stdout",
     "output_type": "stream",
     "text": [
      "\n",
      ". estimates restore xpo_cv\n",
      "(results xpo_cv are active now)\n",
      "\n",
      ". xporegress\n",
      "\n",
      "Cross-fit partialing-out             Number of obs                =      1,036\n",
      "linear model                         Number of controls           =         32\n",
      "                                     Number of selected controls  =         24\n",
      "                                     Number of folds in cross-fit =         10\n",
      "                                     Number of resamples          =          1\n",
      "                                     Wald chi2(1)                 =      23.32\n",
      "                                     Prob > chi2                  =     0.0000\n",
      "\n",
      "------------------------------------------------------------------------------\n",
      "             |               Robust\n",
      "       react | Coefficient  std. err.      z    P>|z|     [95% conf. interval]\n",
      "-------------+----------------------------------------------------------------\n",
      "   no2_class |   2.358651   .4884036     4.83   0.000     1.401398    3.315904\n",
      "------------------------------------------------------------------------------\n",
      "Note: Chi-squared test is a Wald test of the coefficients of the variables\n",
      "      of interest jointly equal to zero. Lassos select controls for model\n",
      "      estimation. Type lassoinfo to see number of selected variables in each\n",
      "      lasso.\n",
      "\n",
      ". \n"
     ]
    }
   ],
   "source": [
    "%%stata\n",
    "estimates restore xpo_cv\n",
    "xporegress"
   ]
  }
 ],
 "metadata": {
  "kernelspec": {
   "display_name": "Python 3 (ipykernel)",
   "language": "python",
   "name": "python3"
  },
  "language_info": {
   "codemirror_mode": {
    "name": "ipython",
    "version": 3
   },
   "file_extension": ".py",
   "mimetype": "text/x-python",
   "name": "python",
   "nbconvert_exporter": "python",
   "pygments_lexer": "ipython3",
   "version": "3.10.8"
  }
 },
 "nbformat": 4,
 "nbformat_minor": 5
}
