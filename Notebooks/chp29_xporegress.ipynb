{
 "cells": [
  {
   "cell_type": "code",
   "execution_count": null,
   "id": "008021ea-c2f0-44ae-984e-155fb4705230",
   "metadata": {},
   "outputs": [],
   "source": [
    "import stata_setup\n",
    "stata_setup.config(\"C:/Program Files/Stata17/\", \"mp\")"
   ]
  },
  {
   "cell_type": "markdown",
   "id": "ea0d18f4-155d-4fe5-83e2-7a38af178146",
   "metadata": {},
   "source": [
    "## Double/Debiased Machine Learning"
   ]
  },
  {
   "cell_type": "markdown",
   "id": "167d5678-77b6-40c0-8566-1dbcb8cd0ada",
   "metadata": {},
   "source": [
    "The Double/Debiased Machine Learning estimator is implemented by the ```xporegress``` Stata command. It'll utilize a 'plugin' value for the $\\lambda$s parameters by default, but they can also use standard cross-validation instead."
   ]
  },
  {
   "cell_type": "code",
   "execution_count": null,
   "id": "97445bef-a493-461b-a188-dbaa28bf00f3",
   "metadata": {},
   "outputs": [],
   "source": [
    "%%stata\n",
    "use ../Data/breathe, clear\n",
    "quietly do ../Do/no2\n",
    "quietly xporegress react no2_class, controls($cc i.($fc)) rseed(52)\n",
    "estimates store xpo_plugin\n",
    "quietly xporegress react no2_class, controls($cc i.($fc)) selection(cv) rseed(52)\n",
    "estimates store xpo_cv"
   ]
  },
  {
   "cell_type": "code",
   "execution_count": null,
   "id": "77c84cbe-d356-4476-97de-5e375615dedf",
   "metadata": {},
   "outputs": [],
   "source": [
    "%%stata\n",
    "estimates restore xpo_cv\n",
    "xporegress"
   ]
  }
 ],
 "metadata": {
  "kernelspec": {
   "display_name": "Python 3",
   "language": "python",
   "name": "python3"
  },
  "language_info": {
   "codemirror_mode": {
    "name": "ipython",
    "version": 3
   },
   "file_extension": ".py",
   "mimetype": "text/x-python",
   "name": "python",
   "nbconvert_exporter": "python",
   "pygments_lexer": "ipython3",
   "version": "3.9.6"
  },
  "vscode": {
   "interpreter": {
    "hash": "11938c6bc6919ae2720b4d5011047913343b08a43b18698fd82dedb0d4417594"
   }
  }
 },
 "nbformat": 4,
 "nbformat_minor": 5
}
