{
 "cells": [
  {
   "cell_type": "code",
   "execution_count": 1,
   "id": "3fd6ff4c-e181-444e-8d27-3eb17c230cc8",
   "metadata": {},
   "outputs": [
    {
     "name": "stdout",
     "output_type": "stream",
     "text": [
      "\n",
      "  ___  ____  ____  ____  ____ ®\n",
      " /__    /   ____/   /   ____/      17.0\n",
      "___/   /   /___/   /   /___/       MP—Parallel Edition\n",
      "\n",
      " Statistics and Data Science       Copyright 1985-2021 StataCorp LLC\n",
      "                                   StataCorp\n",
      "                                   4905 Lakeway Drive\n",
      "                                   College Station, Texas 77845 USA\n",
      "                                   800-STATA-PC        https://www.stata.com\n",
      "                                   979-696-4600        stata@stata.com\n",
      "\n",
      "Stata license: Single-user 4-core  perpetual\n",
      "Serial number: 501706303466\n",
      "  Licensed to: David Tomas Jacho-Chavez\n",
      "               Emory University\n",
      "\n",
      "Notes:\n",
      "      1. Unicode is supported; see help unicode_advice.\n",
      "      2. More than 2 billion observations are allowed; see help obs_advice.\n",
      "      3. Maximum number of variables is set to 5,000; see help set_maxvar.\n"
     ]
    }
   ],
   "source": [
    "import stata_setup\n",
    "stata_setup.config(\"C:/Program Files/Stata17/\", \"mp\")"
   ]
  },
  {
   "cell_type": "markdown",
   "id": "d63d081d-7595-4cf7-a149-81bc0dd88a3e",
   "metadata": {},
   "source": [
    "## Double Selection Lasso"
   ]
  },
  {
   "cell_type": "markdown",
   "id": "392d5690-a2da-481b-8f22-9de44a60f7ca",
   "metadata": {},
   "source": [
    "The Double Selection Lasso is implemented by the ```dsregress``` Stata command. It'll utilize a 'plugin' value for the $\\lambda$s parameters by default, but they can also use standard cross-validation instead."
   ]
  },
  {
   "cell_type": "code",
   "execution_count": 2,
   "id": "9eb8ff14-febe-450f-84de-42b582f52544",
   "metadata": {},
   "outputs": [
    {
     "name": "stdout",
     "output_type": "stream",
     "text": [
      "\n",
      ". use https://www.stata-press.com/data/r17/breathe, clear\n",
      "(Nitrogen dioxide and attention)\n",
      "\n",
      ". quietly do https://www.stata-press.com/data/r17/no2\n",
      "\n",
      ". quietly dsregress react no2_class, controls($cc i.($fc)) rseed(52)\n",
      "\n",
      ". estimates store ds_plugin\n",
      "\n",
      ". quietly dsregress react no2_class, controls($cc i.($fc)) selection(cv) rseed(\n",
      "> 52)\n",
      "\n",
      ". estimates store ds_cv\n",
      "\n",
      ". \n"
     ]
    }
   ],
   "source": [
    "%%stata\n",
    "use https://www.stata-press.com/data/r17/breathe, clear\n",
    "quietly do https://www.stata-press.com/data/r17/no2\n",
    "quietly dsregress react no2_class, controls($cc i.($fc)) rseed(52)\n",
    "estimates store ds_plugin\n",
    "quietly dsregress react no2_class, controls($cc i.($fc)) selection(cv) rseed(52)\n",
    "estimates store ds_cv"
   ]
  },
  {
   "cell_type": "code",
   "execution_count": 3,
   "id": "5efccd22-a16d-4d39-aad6-a52f66f50df3",
   "metadata": {},
   "outputs": [
    {
     "name": "stdout",
     "output_type": "stream",
     "text": [
      "\n",
      ". #delimit ;\n",
      "delimiter now ;\n",
      ". lassocoef (ds_plugin, for(react)) (ds_cv, for(react))\n",
      ">           (ds_plugin, for(no2_class)) (ds_cv, for(no2_class));\n",
      "\n",
      "--------------------------------------------------------------\n",
      "                  | ds_plugin   ds_cv    ds_plugin    ds_cv   \n",
      "                  |   react     react    no2_class  no2_class \n",
      "------------------+-------------------------------------------\n",
      "              age |     x         x                     x     \n",
      "            0.sex |     x         x     \n",
      "                  |\n",
      "            grade |\n",
      "             2nd  |     x         x     \n",
      "             4th  |     x         x     \n",
      "             3rd  |                                     x     \n",
      "                  |\n",
      "       feducation |\n",
      "      University  |     x         x                     x     \n",
      "        <Primary  |               x                     x     \n",
      "         Primary  |               x     \n",
      "                  |\n",
      "             age0 |               x     \n",
      "         sev_home |               x                     x     \n",
      "     noise_school |               x          x          x     \n",
      "       sev_school |               x          x          x     \n",
      "   siblings_young |               x                     x     \n",
      "       0.lbweight |               x     \n",
      "                  |\n",
      "       breastfeed |\n",
      "       <6 months  |               x     \n",
      "       >6 months  |               x                     x     \n",
      "No breastfeeding  |                                     x     \n",
      "                  |\n",
      "           msmoke |\n",
      "      No smoking  |               x                     x     \n",
      "                  |\n",
      "       meducation |\n",
      "               1  |               x     \n",
      "               2  |               x     \n",
      "               4  |               x     \n",
      "                  |\n",
      "         no2_home |                          x          x     \n",
      "       green_home |                          x          x     \n",
      "           precip |                          x          x     \n",
      "            _cons |     x         x          x          x     \n",
      "--------------------------------------------------------------\n",
      "Legend:\n",
      "  b - base level\n",
      "  e - empty cell\n",
      "  o - omitted\n",
      "  x - estimated\n",
      "\n",
      ". #delimit cr\n",
      "delimiter now cr\n",
      ". \n"
     ]
    }
   ],
   "source": [
    "%%stata\n",
    "#delimit ;\n",
    "lassocoef (ds_plugin, for(react)) (ds_cv, for(react))\n",
    "          (ds_plugin, for(no2_class)) (ds_cv, for(no2_class));\n",
    "#delimit cr"
   ]
  },
  {
   "cell_type": "code",
   "execution_count": 4,
   "id": "543a6114-39d8-4b7f-be1f-3bb38fd54ad6",
   "metadata": {},
   "outputs": [
    {
     "name": "stdout",
     "output_type": "stream",
     "text": [
      "\n",
      ". estimates restore ds_cv\n",
      "(results ds_cv are active now)\n",
      "\n",
      ". dsregress\n",
      "\n",
      "Double-selection linear model         Number of obs               =      1,036\n",
      "                                      Number of controls          =         32\n",
      "                                      Number of selected controls =         24\n",
      "                                      Wald chi2(1)                =      24.17\n",
      "                                      Prob > chi2                 =     0.0000\n",
      "\n",
      "------------------------------------------------------------------------------\n",
      "             |               Robust\n",
      "       react | Coefficient  std. err.      z    P>|z|     [95% conf. interval]\n",
      "-------------+----------------------------------------------------------------\n",
      "   no2_class |   2.405792    .489301     4.92   0.000      1.44678    3.364804\n",
      "------------------------------------------------------------------------------\n",
      "Note: Chi-squared test is a Wald test of the coefficients of the variables\n",
      "      of interest jointly equal to zero. Lassos select controls for model\n",
      "      estimation. Type lassoinfo to see number of selected variables in each\n",
      "      lasso.\n",
      "\n",
      ". \n"
     ]
    }
   ],
   "source": [
    "%%stata\n",
    "estimates restore ds_cv\n",
    "dsregress"
   ]
  }
 ],
 "metadata": {
  "kernelspec": {
   "display_name": "Python 3 (ipykernel)",
   "language": "python",
   "name": "python3"
  },
  "language_info": {
   "codemirror_mode": {
    "name": "ipython",
    "version": 3
   },
   "file_extension": ".py",
   "mimetype": "text/x-python",
   "name": "python",
   "nbconvert_exporter": "python",
   "pygments_lexer": "ipython3",
   "version": "3.10.8"
  }
 },
 "nbformat": 4,
 "nbformat_minor": 5
}
