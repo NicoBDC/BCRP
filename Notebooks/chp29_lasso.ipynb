{
 "cells": [
  {
   "cell_type": "code",
   "execution_count": 1,
   "id": "6bfea1be-fb18-415b-9cca-b26df01b84de",
   "metadata": {},
   "outputs": [
    {
     "name": "stdout",
     "output_type": "stream",
     "text": [
      "\n",
      "  ___  ____  ____  ____  ____ ®\n",
      " /__    /   ____/   /   ____/      17.0\n",
      "___/   /   /___/   /   /___/       MP—Parallel Edition\n",
      "\n",
      " Statistics and Data Science       Copyright 1985-2021 StataCorp LLC\n",
      "                                   StataCorp\n",
      "                                   4905 Lakeway Drive\n",
      "                                   College Station, Texas 77845 USA\n",
      "                                   800-STATA-PC        https://www.stata.com\n",
      "                                   979-696-4600        stata@stata.com\n",
      "\n",
      "Stata license: Single-user 4-core  perpetual\n",
      "Serial number: 501706303466\n",
      "  Licensed to: David Tomas Jacho-Chavez\n",
      "               Emory University\n",
      "\n",
      "Notes:\n",
      "      1. Unicode is supported; see help unicode_advice.\n",
      "      2. More than 2 billion observations are allowed; see help obs_advice.\n",
      "      3. Maximum number of variables is set to 5,000; see help set_maxvar.\n"
     ]
    }
   ],
   "source": [
    "import stata_setup, os\n",
    "if os.name == 'nt':\n",
    "    stata_setup.config('C:/Program Files/Stata17/','mp')\n",
    "else:\n",
    "    stata_setup.config('/usr/local/stata17','mp')"
   ]
  },
  {
   "cell_type": "code",
   "execution_count": 2,
   "id": "48f1a445-bad1-40ac-a418-4003534acc09",
   "metadata": {},
   "outputs": [
    {
     "name": "stdout",
     "output_type": "stream",
     "text": [
      "\n",
      ". use ../Data/breathe, clear\n",
      "(Nitrogen dioxide and attention)\n",
      "\n",
      ". quietly do ../Do/no2\n",
      "\n",
      ". quietly lasso linear react no2_class $cc i.($fc), lambda(5) nolog\n",
      "\n",
      ". estimates store lasso\n",
      "\n",
      ". ereturn display\n",
      "------------------------------------------------------------------------------\n",
      "       react | Coefficient\n",
      "-------------+----------------------------------------------------------------\n",
      "   no2_class |   1.165769\n",
      "         age |  -23.05832\n",
      "        age0 |   1.709349\n",
      "siblings_y~g |   4.110398\n",
      "             |\n",
      "         sex |\n",
      "       Male  |  -40.23783\n",
      "             |\n",
      "       grade |\n",
      "        2nd  |   57.01339\n",
      "        4th  |  -20.97476\n",
      "             |\n",
      "    lbweight |\n",
      "Normal bi..  |   .4017282\n",
      "             |\n",
      "  meducation |\n",
      "   <Primary  |  -46.85885\n",
      "    Primary  |   14.85523\n",
      "             |\n",
      "  feducation |\n",
      "    Primary  |    7.39135\n",
      " University  |  -23.11462\n",
      "             |\n",
      "       _cons |   926.1271\n",
      "------------------------------------------------------------------------------\n",
      "\n",
      ". \n"
     ]
    }
   ],
   "source": [
    "%%stata -eret steret\n",
    "use ../Data/breathe, clear\n",
    "quietly do ../Do/no2\n",
    "quietly lasso linear react no2_class $cc i.($fc), lambda(5) nolog\n",
    "estimates store lasso\n",
    "ereturn display"
   ]
  },
  {
   "cell_type": "code",
   "execution_count": 3,
   "id": "2ddf7cfa-91ac-4475-83a8-5cfaa2d01e24",
   "metadata": {},
   "outputs": [
    {
     "name": "stdout",
     "output_type": "stream",
     "text": [
      "\n",
      "------------------------------------------\n",
      "                    |   ridge     lasso   \n",
      "--------------------+---------------------\n",
      "          no2_class |     x         x     \n",
      "           no2_home |     x    \n",
      "                age |     x         x     \n",
      "               age0 |     x         x     \n",
      "           sev_home |     x    \n",
      "         green_home |     x    \n",
      "       noise_school |     x    \n",
      "         sev_school |     x    \n",
      "             precip |     x    \n",
      "       siblings_old |     x    \n",
      "     siblings_young |     x         x     \n",
      "                    |\n",
      "                sex |\n",
      "              Male  |     x         x     \n",
      "            Female  |     x    \n",
      "                    |\n",
      "              grade |\n",
      "               2nd  |     x         x     \n",
      "               3rd  |     x    \n",
      "               4th  |     x         x     \n",
      "                    |\n",
      "         overweight |\n",
      "                 0  |     x    \n",
      "                 1  |     x    \n",
      "                    |\n",
      "           lbweight |\n",
      "Normal birthweight  |     x         x     \n",
      "   Low birthweight  |     x    \n",
      "                    |\n",
      "         breastfeed |\n",
      "                 1  |     x    \n",
      "                 2  |     x    \n",
      "                 3  |     x    \n",
      "                    |\n",
      "             msmoke |\n",
      "                 0  |     x    \n",
      "                 1  |     x    \n",
      "                    |\n",
      "         meducation |\n",
      "          <Primary  |     x         x     \n",
      "           Primary  |     x         x     \n",
      "         Secondary  |     x    \n",
      "        University  |     x    \n",
      "                    |\n",
      "         feducation |\n",
      "          <Primary  |     x    \n",
      "           Primary  |     x         x     \n",
      "         Secondary  |     x    \n",
      "        University  |     x         x     \n",
      "                    |\n",
      "              _cons |     x         x     \n",
      "------------------------------------------\n",
      "Legend:\n",
      "  b - base level\n",
      "  e - empty cell\n",
      "  o - omitted\n",
      "  x - estimated\n"
     ]
    }
   ],
   "source": [
    "%stata quietly elasticnet linear react no2_class $cc i.($fc), alpha(0) lambda(0.1(.005)0.3) folds(1036) nolog\n",
    "%stata estimates store ridge\n",
    "%stata lassocoef ridge lasso"
   ]
  },
  {
   "cell_type": "code",
   "execution_count": 4,
   "id": "06df9bbf-a2b6-475d-9c80-3895826e8e4a",
   "metadata": {},
   "outputs": [
    {
     "name": "stdout",
     "output_type": "stream",
     "text": [
      "\n",
      ". lasso linear react no2_class $cc i.($fc), nolog folds(20) rseed(52)\n",
      "\n",
      "Lasso linear model                          No. of obs        =      1,036\n",
      "                                            No. of covariates =         33\n",
      "Selection: Cross-validation                 No. of CV folds   =         20\n",
      "\n",
      "--------------------------------------------------------------------------\n",
      "         |                                No. of      Out-of-      CV mean\n",
      "         |                               nonzero       sample   prediction\n",
      "      ID |     Description      lambda     coef.    R-squared        error\n",
      "---------+----------------------------------------------------------------\n",
      "       1 |    first lambda    53.35969         0      -0.0008      20855.7\n",
      "      26 |   lambda before    5.213295        11       0.1956     16763.18\n",
      "    * 27 | selected lambda     4.75016        12       0.1962     16750.66\n",
      "      28 |    lambda after    4.328169        13       0.1960     16754.23\n",
      "      32 |     last lambda    2.983239        19       0.1953     16769.18\n",
      "--------------------------------------------------------------------------\n",
      "* lambda selected by cross-validation.\n",
      "\n",
      ". estimates store cv\n",
      "\n",
      ". cvplot, minmax\n",
      "\n",
      ". \n"
     ]
    },
    {
     "data": {
      "image/svg+xml": "<svg xmlns=\"http://www.w3.org/2000/svg\" xmlns:xlink=\"http://www.w3.org/1999/xlink\" version=\"1.1\" width=\"5.500in\" height=\"4.000in\" viewBox=\"0 0 3960 2880\">\n\t<desc>Stata Graph - Graph</desc>\n\t<rect x=\"0\" y=\"0\" width=\"3960\" height=\"2880\" style=\"fill:#EAF2F3;stroke:none\"/>\n\t<rect x=\"0.00\" y=\"0.00\" width=\"3959.88\" height=\"2880.00\" style=\"fill:#EAF2F3\"/>\n\t<rect x=\"2.88\" y=\"2.88\" width=\"3954.12\" height=\"2874.24\" style=\"fill:none;stroke:#EAF2F3;stroke-width:5.76\"/>\n\t<rect x=\"390.80\" y=\"425.34\" width=\"3468.22\" height=\"1949.37\" style=\"fill:#FFFFFF\"/>\n\t<rect x=\"393.68\" y=\"428.22\" width=\"3462.46\" height=\"1943.61\" style=\"fill:none;stroke:#FFFFFF;stroke-width:5.76\"/>\n\t<line x1=\"390.80\" y1=\"2204.30\" x2=\"3859.02\" y2=\"2204.30\" style=\"stroke:#EAF2F3;stroke-width:8.64\"/>\n\t<line x1=\"390.80\" y1=\"1775.50\" x2=\"3859.02\" y2=\"1775.50\" style=\"stroke:#EAF2F3;stroke-width:8.64\"/>\n\t<line x1=\"390.80\" y1=\"1346.57\" x2=\"3859.02\" y2=\"1346.57\" style=\"stroke:#EAF2F3;stroke-width:8.64\"/>\n\t<line x1=\"390.80\" y1=\"917.63\" x2=\"3859.02\" y2=\"917.63\" style=\"stroke:#EAF2F3;stroke-width:8.64\"/>\n\t<line x1=\"390.80\" y1=\"488.70\" x2=\"3859.02\" y2=\"488.70\" style=\"stroke:#EAF2F3;stroke-width:8.64\"/>\n\t<line x1=\"3255.74\" y1=\"2374.71\" x2=\"3255.74\" y2=\"425.34\" style=\"stroke:#FF0000;stroke-width:5.76\"/>\n\t<path d=\" M454.04 550.70 L561.83 736.21 L669.61 918.01 L777.40 1077.03 L885.06 1208.95 L992.85 1318.47 L1100.63 1409.43 L1208.30 1483.93 L1316.08 1569.57 L1423.87 1665.97 L1531.65 1747.16 L1639.32 1813.86 L1747.10 1869.67 L1854.89 1930.93 L1962.68 2002.34 L2070.34 2065.58 L2178.12 2116.81 L2285.91 2157.65 L2393.57 2191.06 L2501.36 2218.04 L2609.15 2240.19 L2716.93 2256.28 L2824.59 2268.16 L2932.38 2281.40 L3040.17 2295.02 L3147.83 2306.03 L3255.62 2311.35 L3363.40 2309.87 L3471.19 2306.52 L3578.85 2303.80 L3686.64 2303.43 L3794.42 2303.43\" stroke-linejoin=\"round\" style=\"fill:none;stroke:#1A476F;stroke-width:8.64\"/>\n\t<line x1=\"390.80\" y1=\"2374.71\" x2=\"390.80\" y2=\"425.34\" style=\"stroke:#000000;stroke-width:5.76\"/>\n\t<line x1=\"390.80\" y1=\"2204.30\" x2=\"350.83\" y2=\"2204.30\" style=\"stroke:#000000;stroke-width:5.76\"/>\n\t<text x=\"300.72\" y=\"2204.30\" style=\"font-family:'Helvetica';font-size:99.99px;fill:#000000\" transform=\"rotate(-90 300.72,2204.30)\" text-anchor=\"middle\">17000</text>\n\t<line x1=\"390.80\" y1=\"1775.50\" x2=\"350.83\" y2=\"1775.50\" style=\"stroke:#000000;stroke-width:5.76\"/>\n\t<text x=\"300.72\" y=\"1775.50\" style=\"font-family:'Helvetica';font-size:99.99px;fill:#000000\" transform=\"rotate(-90 300.72,1775.50)\" text-anchor=\"middle\">18000</text>\n\t<line x1=\"390.80\" y1=\"1346.57\" x2=\"350.83\" y2=\"1346.57\" style=\"stroke:#000000;stroke-width:5.76\"/>\n\t<text x=\"300.72\" y=\"1346.57\" style=\"font-family:'Helvetica';font-size:99.99px;fill:#000000\" transform=\"rotate(-90 300.72,1346.57)\" text-anchor=\"middle\">19000</text>\n\t<line x1=\"390.80\" y1=\"917.63\" x2=\"350.83\" y2=\"917.63\" style=\"stroke:#000000;stroke-width:5.76\"/>\n\t<text x=\"300.72\" y=\"917.63\" style=\"font-family:'Helvetica';font-size:99.99px;fill:#000000\" transform=\"rotate(-90 300.72,917.63)\" text-anchor=\"middle\">20000</text>\n\t<line x1=\"390.80\" y1=\"488.70\" x2=\"350.83\" y2=\"488.70\" style=\"stroke:#000000;stroke-width:5.76\"/>\n\t<text x=\"300.72\" y=\"488.70\" style=\"font-family:'Helvetica';font-size:99.99px;fill:#000000\" transform=\"rotate(-90 300.72,488.70)\" text-anchor=\"middle\">21000</text>\n\t<text x=\"190.71\" y=\"1400.03\" style=\"font-family:'Helvetica';font-size:99.99px;fill:#000000\" transform=\"rotate(-90 190.71,1400.03)\" text-anchor=\"middle\">Cross-validation function</text>\n\t<text x=\"3255.74\" y=\"375.36\" style=\"fill:#000000\" text-anchor=\"middle\">\n\t\t<tspan style=\"font-family:'Helvetica';font-size:99.99px\">λ</tspan>\n\t\t<tspan dy=\"14.28px\" style=\"font-family:'Helvetica';font-size:58.29px\">CV</tspan>\n\t</text>\n\t<line x1=\"390.80\" y1=\"2374.71\" x2=\"3859.02\" y2=\"2374.71\" style=\"stroke:#000000;stroke-width:5.76\"/>\n\t<line x1=\"3795.66\" y1=\"2374.71\" x2=\"3795.66\" y2=\"2414.69\" style=\"stroke:#000000;stroke-width:5.76\"/>\n\t<text x=\"3795.66\" y=\"2504.54\" style=\"font-family:'Helvetica';font-size:99.99px;fill:#000000\" text-anchor=\"middle\">2.98</text>\n\t<line x1=\"454.16\" y1=\"2374.71\" x2=\"454.16\" y2=\"2414.69\" style=\"stroke:#000000;stroke-width:5.76\"/>\n\t<text x=\"454.16\" y=\"2504.54\" style=\"font-family:'Helvetica';font-size:99.99px;fill:#000000\" text-anchor=\"middle\">53.36</text>\n\t<line x1=\"2393.57\" y1=\"2374.71\" x2=\"2393.57\" y2=\"2414.69\" style=\"stroke:#000000;stroke-width:5.76\"/>\n\t<text x=\"2393.57\" y=\"2504.54\" style=\"font-family:'Helvetica';font-size:99.99px;fill:#000000\" text-anchor=\"middle\">10</text>\n\t<text x=\"2124.91\" y=\"2614.56\" style=\"font-family:'Helvetica';font-size:99.99px;fill:#000000\" text-anchor=\"middle\">λ</text>\n\t<text x=\"408.00\" y=\"2737.89\" style=\"fill:#000000\">\n\t\t<tspan style=\"font-family:'Helvetica';font-size:79.94px\">λ</tspan>\n\t\t<tspan dy=\"11.42px\" style=\"font-family:'Helvetica';font-size:46.61px\">CV</tspan>\n\t\t<tspan dy=\"-11.42px\" style=\"font-family:'Helvetica';font-size:79.94px\">  Cross-validation minimum lambda.  λ=4.8, # Coefficients=12.</tspan>\n\t</text>\n\t<text x=\"2124.91\" y=\"215.98\" style=\"font-family:'Helvetica';font-size:139.96px;fill:#1E2D53\" text-anchor=\"middle\">Cross-validation plot</text>\n</svg>",
      "text/plain": [
       "<IPython.core.display.SVG object>"
      ]
     },
     "metadata": {},
     "output_type": "display_data"
    }
   ],
   "source": [
    "%%stata\n",
    "lasso linear react no2_class $cc i.($fc), nolog folds(20) rseed(52)\n",
    "estimates store cv\n",
    "cvplot, minmax"
   ]
  },
  {
   "cell_type": "code",
   "execution_count": 5,
   "id": "c3469f2a-6493-42b9-a1ae-71ac2047134d",
   "metadata": {},
   "outputs": [
    {
     "name": "stdout",
     "output_type": "stream",
     "text": [
      "\n",
      "Lasso linear model                          No. of obs        =      1,036\n",
      "                                            No. of covariates =         33\n",
      "Selection: Cross-validation one s.e. rule   No. of CV folds   =         20\n",
      "\n",
      "--------------------------------------------------------------------------\n",
      "         |                                No. of      Out-of-      CV mean\n",
      "         |                               nonzero       sample   prediction\n",
      "      ID |     Description      lambda     coef.    R-squared        error\n",
      "---------+----------------------------------------------------------------\n",
      "       1 |    first lambda    53.35969         0      -0.0008      20855.7\n",
      "       2 |   lambda before    48.61936         2       0.0199     20423.25\n",
      "     * 3 | selected lambda    44.30015         2       0.0403     19999.24\n",
      "       4 |    lambda after    40.36465         2       0.0580     19628.57\n",
      "      32 |     last lambda    2.983239        19       0.1953     16769.18\n",
      "--------------------------------------------------------------------------\n",
      "* lambda selected by cross-validation one s.e. rule.\n"
     ]
    }
   ],
   "source": [
    "%%stata\n",
    "lasso linear react no2_class $cc i.($fc), nolog sel(cv,serule) folds(20) rseed(52)"
   ]
  },
  {
   "cell_type": "code",
   "execution_count": 6,
   "id": "f5a77aff-1e19-4bba-ac9a-d3d835687e04",
   "metadata": {},
   "outputs": [
    {
     "name": "stdout",
     "output_type": "stream",
     "text": [
      "\n",
      "Lasso linear model                          No. of obs        =      1,036\n",
      "                                            No. of covariates =         33\n",
      "Selection: Cross-validation                 No. of CV folds   =         20\n",
      "\n",
      "--------------------------------------------------------------------------\n",
      "         |                                No. of      Out-of-      CV mean\n",
      "         |                               nonzero       sample   prediction\n",
      "      ID |     Description      lambda     coef.    R-squared        error\n",
      "---------+----------------------------------------------------------------\n",
      "       1 |    first lambda    53.35969         0      -0.0008      20855.7\n",
      "      26 |   lambda before    5.213295        11       0.1956     16763.18\n",
      "    * 27 | selected lambda     4.75016        12       0.1962     16750.66\n",
      "      28 |    lambda after    4.328169        13       0.1960     16754.23\n",
      "      32 |     last lambda    2.983239        19       0.1953     16769.18\n",
      "--------------------------------------------------------------------------\n",
      "* lambda selected by cross-validation.\n"
     ]
    }
   ],
   "source": [
    "%%stata -eret steret\n",
    "lasso linear react no2_class $cc i.($fc), nolog folds(20) rseed(52)"
   ]
  },
  {
   "cell_type": "markdown",
   "id": "e5af209c-af8b-4b74-bafc-e875ab5fe4d3",
   "metadata": {},
   "source": [
    "Step 1"
   ]
  },
  {
   "cell_type": "code",
   "execution_count": 7,
   "id": "7044db1e-4d0c-43d5-b225-2daecdac9b35",
   "metadata": {},
   "outputs": [
    {
     "data": {
      "text/plain": [
       "'no2_class age age0 siblings_young 0bn.sex 1bn.grade 3bn.grade 0bn.lbweight 1bn.meducation 2bn.meducation 2bn.feducation 4bn.feducation'"
      ]
     },
     "execution_count": 7,
     "metadata": {},
     "output_type": "execute_result"
    }
   ],
   "source": [
    "steret['e(allvars_sel)']"
   ]
  },
  {
   "cell_type": "markdown",
   "id": "6382d4a2-ef38-42f5-9295-d26da0a11105",
   "metadata": {},
   "source": [
    "Step 2"
   ]
  },
  {
   "cell_type": "code",
   "execution_count": 8,
   "id": "f3b7f455-2cc6-47f2-a5c0-c0d57ae34666",
   "metadata": {},
   "outputs": [
    {
     "data": {
      "text/plain": [
       "array([[   1.72979031,  -22.80612984,    6.31751872,   12.92707349,\n",
       "         -48.70310792,   66.00195855,  -29.86744489,   18.85975766,\n",
       "        -130.86278077,   25.52701653,   16.12541176,  -31.82910851,\n",
       "         877.88369881]])"
      ]
     },
     "execution_count": 8,
     "metadata": {},
     "output_type": "execute_result"
    }
   ],
   "source": [
    "steret['e(b_postselection)']"
   ]
  }
 ],
 "metadata": {
  "kernelspec": {
   "display_name": "Python 3",
   "language": "python",
   "name": "python3"
  },
  "language_info": {
   "codemirror_mode": {
    "name": "ipython",
    "version": 3
   },
   "file_extension": ".py",
   "mimetype": "text/x-python",
   "name": "python",
   "nbconvert_exporter": "python",
   "pygments_lexer": "ipython3",
   "version": "3.9.6"
  },
  "vscode": {
   "interpreter": {
    "hash": "11938c6bc6919ae2720b4d5011047913343b08a43b18698fd82dedb0d4417594"
   }
  }
 },
 "nbformat": 4,
 "nbformat_minor": 5
}
