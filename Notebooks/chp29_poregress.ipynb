{
 "cells": [
  {
   "cell_type": "code",
   "execution_count": null,
   "id": "f3cdccb6-a47f-4d5f-92f2-09523bed035d",
   "metadata": {},
   "outputs": [],
   "source": [
    "import stata_setup\n",
    "stata_setup.config(\"C:/Program Files/Stata17/\", \"mp\")"
   ]
  },
  {
   "cell_type": "markdown",
   "id": "37feb40d-dda2-4963-a01f-5d5d090a6772",
   "metadata": {},
   "source": [
    "## Post-Regularization Lasso"
   ]
  },
  {
   "cell_type": "markdown",
   "id": "ecbb6035-7bee-453b-b675-5515db36e9f4",
   "metadata": {},
   "source": [
    "The Post-Regularization (Partialing-Out) Lasso is implemented by the ```poregress``` Stata command. It'll utilize a 'plugin' value for the $\\lambda$s parameters by default, but they can also use standard cross-validation instead."
   ]
  },
  {
   "cell_type": "code",
   "execution_count": null,
   "id": "913aceba-ef6a-4c92-97c4-789be10f41c3",
   "metadata": {},
   "outputs": [],
   "source": [
    "%%stata\n",
    "use https://www.stata-press.com/data/r17/breathe, clear\n",
    "quietly do https://www.stata-press.com/data/r17/no2\n",
    "quietly poregress react no2_class, controls($cc i.($fc)) rseed(52)\n",
    "estimates store po_plugin\n",
    "quietly poregress react no2_class, controls($cc i.($fc)) selection(cv) rseed(52)\n",
    "estimates store po_cv"
   ]
  },
  {
   "cell_type": "code",
   "execution_count": null,
   "id": "a942431d-1816-4481-94f0-10aa7f6b1472",
   "metadata": {},
   "outputs": [],
   "source": [
    "%%stata\n",
    "#delimit ;\n",
    "lassocoef (po_plugin, for(react)) (po_cv, for(react))\n",
    "          (po_plugin, for(no2_class)) (po_cv, for(no2_class));\n",
    "#delimit cr"
   ]
  },
  {
   "cell_type": "code",
   "execution_count": null,
   "id": "465badfd-0dc0-4c52-a4b5-8ed5742e4b34",
   "metadata": {},
   "outputs": [],
   "source": [
    "%%stata\n",
    "estimates restore po_cv\n",
    "poregress"
   ]
  }
 ],
 "metadata": {
  "kernelspec": {
   "display_name": "Python 3 (ipykernel)",
   "language": "python",
   "name": "python3"
  },
  "language_info": {
   "codemirror_mode": {
    "name": "ipython",
    "version": 3
   },
   "file_extension": ".py",
   "mimetype": "text/x-python",
   "name": "python",
   "nbconvert_exporter": "python",
   "pygments_lexer": "ipython3",
   "version": "3.9.6"
  }
 },
 "nbformat": 4,
 "nbformat_minor": 5
}
