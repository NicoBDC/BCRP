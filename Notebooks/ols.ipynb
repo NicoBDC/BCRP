{
 "cells": [
  {
   "cell_type": "code",
   "execution_count": null,
   "metadata": {},
   "outputs": [],
   "source": [
    "import stata_setup, os\n",
    "if os.name == 'nt':\n",
    "    stata_setup.config('C:/Program Files/Stata17/','mp')\n",
    "else:\n",
    "    stata_setup.config('/usr/local/stata17','mp')"
   ]
  },
  {
   "cell_type": "markdown",
   "metadata": {},
   "source": [
    "Loading the data set"
   ]
  },
  {
   "cell_type": "code",
   "execution_count": null,
   "metadata": {},
   "outputs": [],
   "source": [
    "import pandas as pd\n",
    "import numpy as np\n",
    "cps09mr = pd.read_stata('../Data/cps09mar.dta')"
   ]
  },
  {
   "cell_type": "markdown",
   "metadata": {},
   "source": [
    "Constructing the relevant variables"
   ]
  },
  {
   "cell_type": "code",
   "execution_count": null,
   "metadata": {},
   "outputs": [],
   "source": [
    "cps09mr['wage'] = np.log(cps09mr.earnings/(cps09mr.hours*cps09mr.week))\n",
    "cps09mr['experience'] = cps09mr.age - cps09mr.education - 6\n",
    "cps09mr['exp2'] = (cps09mr.experience**2)/100"
   ]
  },
  {
   "cell_type": "markdown",
   "metadata": {},
   "source": [
    "Filtering data based on marital status, race and gender"
   ]
  },
  {
   "cell_type": "code",
   "execution_count": null,
   "metadata": {},
   "outputs": [],
   "source": [
    "cps09mr['mnwf'] = np.logical_and(np.logical_and(cps09mr.marital<=2, cps09mr.race!=1), cps09mr.female==1)"
   ]
  },
  {
   "cell_type": "markdown",
   "metadata": {},
   "source": [
    "Performing the OLS regression of $\\boldsymbol{Y}$ on $\\boldsymbol{X}$ using ```Stata```:"
   ]
  },
  {
   "cell_type": "code",
   "execution_count": null,
   "metadata": {},
   "outputs": [],
   "source": [
    "%%stata -d cps09mr -force\n",
    "qui reg wage education experience exp2 if mnwf==1"
   ]
  },
  {
   "cell_type": "markdown",
   "metadata": {},
   "source": [
    "Printing the OLS estimates $\\widehat{\\beta}$"
   ]
  },
  {
   "cell_type": "code",
   "execution_count": null,
   "metadata": {},
   "outputs": [],
   "source": [
    "%stata matrix list e(b)"
   ]
  },
  {
   "cell_type": "markdown",
   "metadata": {},
   "source": [
    "Printing the $TSS$"
   ]
  },
  {
   "cell_type": "code",
   "execution_count": null,
   "metadata": {},
   "outputs": [],
   "source": [
    "%stata display e(mss)+e(rss)"
   ]
  },
  {
   "cell_type": "markdown",
   "metadata": {},
   "source": [
    "Printing the $ESS$"
   ]
  },
  {
   "cell_type": "code",
   "execution_count": null,
   "metadata": {},
   "outputs": [],
   "source": [
    "%stata display e(mss)"
   ]
  },
  {
   "cell_type": "markdown",
   "metadata": {},
   "source": [
    "Printing the $RSS$"
   ]
  },
  {
   "cell_type": "code",
   "execution_count": null,
   "metadata": {},
   "outputs": [],
   "source": [
    "%stata display e(rss)"
   ]
  },
  {
   "cell_type": "markdown",
   "metadata": {},
   "source": [
    "Printing the $R^2$"
   ]
  },
  {
   "cell_type": "code",
   "execution_count": null,
   "metadata": {},
   "outputs": [],
   "source": [
    "%stata display e(mss)/(e(mss)+e(rss))"
   ]
  },
  {
   "cell_type": "markdown",
   "metadata": {},
   "source": [
    "# Leverage Values & LOO Regression"
   ]
  },
  {
   "cell_type": "code",
   "execution_count": null,
   "metadata": {},
   "outputs": [],
   "source": [
    "from statsmodels.regression.linear_model import OLS\n",
    "from statsmodels.stats.outliers_influence import OLSInfluence\n",
    "import patsy"
   ]
  },
  {
   "cell_type": "markdown",
   "metadata": {},
   "source": [
    "Creating the training data, i.e., $\\boldsymbol{Y}$ vector and $\\boldsymbol{X}$ matrix"
   ]
  },
  {
   "cell_type": "code",
   "execution_count": null,
   "metadata": {},
   "outputs": [],
   "source": [
    "f = 'wage ~ education + experience + exp2 '\n",
    "y, X = patsy.dmatrices(f, data=cps09mr.loc[cps09mr['mnwf']], return_type='dataframe')"
   ]
  },
  {
   "cell_type": "markdown",
   "metadata": {},
   "source": [
    "Performing the OLS regression of $\\boldsymbol{Y}$ on $\\boldsymbol{X}$ using ```Python```:"
   ]
  },
  {
   "cell_type": "code",
   "execution_count": null,
   "metadata": {},
   "outputs": [],
   "source": [
    "fit = OLS(y, X).fit()"
   ]
  },
  {
   "cell_type": "markdown",
   "metadata": {},
   "source": [
    "Extracting the leverage values"
   ]
  },
  {
   "cell_type": "code",
   "execution_count": null,
   "metadata": {},
   "outputs": [],
   "source": [
    "hii = OLSInfluence(fit).hat_matrix_diag"
   ]
  },
  {
   "cell_type": "markdown",
   "metadata": {},
   "source": [
    "Checking that $0\\le h_{ii} \\le 1$"
   ]
  },
  {
   "cell_type": "code",
   "execution_count": null,
   "metadata": {},
   "outputs": [],
   "source": [
    "print([hii.min(),hii.max()])"
   ]
  },
  {
   "cell_type": "markdown",
   "metadata": {},
   "source": [
    "Checking that $h_{ii}\\ge 1/n$ by checking that $\\min_{i=1,\\ldots,n}(h_{ii})\\ge 1/n$"
   ]
  },
  {
   "cell_type": "code",
   "execution_count": null,
   "metadata": {},
   "outputs": [],
   "source": [
    "(hii.min()>=1/hii.size)"
   ]
  },
  {
   "cell_type": "markdown",
   "metadata": {},
   "source": [
    "Checking that $\\sum_{i=1}^n h_{ii}=k$"
   ]
  },
  {
   "cell_type": "code",
   "execution_count": null,
   "metadata": {},
   "outputs": [],
   "source": [
    "hii.sum().round().astype(int)"
   ]
  },
  {
   "cell_type": "markdown",
   "metadata": {},
   "source": [
    "Extracting the matrix $\\widehat{\\beta}_{(-i)}$ and checking its dimension"
   ]
  },
  {
   "cell_type": "code",
   "execution_count": null,
   "metadata": {},
   "outputs": [],
   "source": [
    "bi = OLSInfluence(fit).dfbetas\n",
    "print(bi.shape)"
   ]
  },
  {
   "cell_type": "markdown",
   "metadata": {},
   "source": [
    "Extracting the LOO residuals $\\widetilde{e}_{i}$ and check its dimension"
   ]
  },
  {
   "cell_type": "code",
   "execution_count": null,
   "metadata": {},
   "outputs": [],
   "source": [
    "e_tilde = OLSInfluence(fit).resid_press\n",
    "print(e_tilde.size)"
   ]
  },
  {
   "cell_type": "markdown",
   "metadata": {},
   "source": [
    "Plotting the sets $\\{\\widehat{\\beta}_{(-i)}:i=1,\\ldots,n\\}$ and $\\{\\widetilde{e}_{i}:i=1,\\ldots,n\\}$ against their indexes $i=1,\\ldots,n$"
   ]
  },
  {
   "cell_type": "code",
   "execution_count": null,
   "metadata": {},
   "outputs": [],
   "source": [
    "import matplotlib.pyplot as plt\n",
    "fig, axs = plt.subplots(2)\n",
    "axs[0].plot(np.linspace(1,e_tilde.size,num=e_tilde.size).astype(int), bi[:,1])\n",
    "axs[0].set_title(r'$\\widehat{\\beta}_{-i}$ vs $i=1,\\ldots,n$')\n",
    "axs[1].plot(np.linspace(1,e_tilde.size,num=e_tilde.size).astype(int), e_tilde,'tab:orange')\n",
    "axs[1].set_title(r'$\\widetilde{e}_{i}$ vs $i=1,\\ldots,n$')\n",
    "# Hide x labels and tick labels for top plots\n",
    "for ax in axs.flat:\n",
    "    ax.label_outer()"
   ]
  },
  {
   "cell_type": "markdown",
   "metadata": {},
   "source": [
    "The '*prediction standard error*' is:"
   ]
  },
  {
   "cell_type": "code",
   "execution_count": null,
   "metadata": {},
   "outputs": [],
   "source": [
    "print(np.sqrt(np.mean(e_tilde**2)))"
   ]
  },
  {
   "cell_type": "markdown",
   "metadata": {},
   "source": [
    "## Residuals"
   ]
  },
  {
   "cell_type": "code",
   "execution_count": null,
   "metadata": {},
   "outputs": [],
   "source": [
    "residuos = pd.DataFrame({'e_hat': fit.resid, 'e_tilde': e_tilde, 'e_bar': fit.resid/np.sqrt(1-hii)})\n",
    "print(residuos)"
   ]
  },
  {
   "cell_type": "code",
   "execution_count": null,
   "metadata": {},
   "outputs": [],
   "source": [
    "from pystata import stata\n",
    "stata.pdataframe_to_data(residuos, force=True)\n",
    "stata.run('summarize')"
   ]
  },
  {
   "cell_type": "markdown",
   "metadata": {},
   "source": [
    "## Covariance Matrix Estimation"
   ]
  },
  {
   "cell_type": "markdown",
   "metadata": {},
   "source": [
    "**<span style=\"color:red\">Homoskedasticity:</span>**\n",
    "\n",
    "$$\n",
    "\\widehat{\\mathbf{V}}_{\\widehat{\\beta}}^{0}=\\left(\\mathbf{X}^{\\prime} \\mathbf{X}\\right)^{-1} s^{2}\n",
    "$$"
   ]
  },
  {
   "cell_type": "code",
   "execution_count": null,
   "metadata": {},
   "outputs": [],
   "source": [
    "print(fit.cov_params())"
   ]
  },
  {
   "cell_type": "code",
   "execution_count": null,
   "metadata": {},
   "outputs": [],
   "source": [
    "from pystata import stata\n",
    "stata.pdataframe_to_data(cps09mr, force=True)\n",
    "stata.run('''\n",
    "qui reg wage education experience exp2 if mnwf==1\n",
    "''',quietly=True)\n",
    "stata.run('matrix list e(V)')"
   ]
  },
  {
   "cell_type": "markdown",
   "metadata": {},
   "source": [
    "**<span style=\"color:red\">HC0:</span>**\n",
    "\n",
    "$$\n",
    "\\widehat{\\mathbf{V}}_{\\widehat{\\beta}}^{\\mathrm{HC0}}=\\left(\\mathbf{X}^{\\prime} \\mathbf{X}\\right)^{-1}\\left(\\sum_{i=1}^{n} X_{i} X_{i}^{\\prime}\\widehat{e}_{i}^{2} \\right)\\left(\\mathbf{X}^{\\prime} \\mathbf{X}\\right)^{-1}\n",
    "$$"
   ]
  },
  {
   "cell_type": "code",
   "execution_count": null,
   "metadata": {},
   "outputs": [],
   "source": [
    "print(fit.cov_HC0)"
   ]
  },
  {
   "cell_type": "markdown",
   "metadata": {},
   "source": [
    "**<span style=\"color:red\">HC1:</span>** (most common in *econometrics*)\n",
    "\n",
    "$$\n",
    "\\widehat{\\mathbf{V}}_{\\widehat{\\beta}}^{\\mathrm{HCl}}=\\left(\\frac{n}{n-k}\\right)\\left(\\mathbf{X}^{\\prime} \\mathbf{X}\\right)^{-1}\\left(\\sum_{i=1}^{n} X_{i} X_{i}^{\\prime}\\widehat{e}_{i}^{2} \\right)\\left(\\mathbf{X}^{\\prime} \\mathbf{X}\\right)^{-1}\n",
    "$$\n"
   ]
  },
  {
   "cell_type": "code",
   "execution_count": null,
   "metadata": {},
   "outputs": [],
   "source": [
    "print(fit.cov_HC1)"
   ]
  },
  {
   "cell_type": "code",
   "execution_count": null,
   "metadata": {},
   "outputs": [],
   "source": [
    "stata.run('''\n",
    "qui reg wage education experience exp2 if mnwf==1, robust\n",
    "''',quietly=True)\n",
    "stata.run('matrix list e(V)')"
   ]
  },
  {
   "cell_type": "markdown",
   "metadata": {},
   "source": [
    "**<span style=\"color:red\">HC2:</span>**\n",
    "\n",
    "$$\n",
    "\\widehat{\\mathbf{V}}_{\\widehat{\\beta}}^{\\mathrm{HC2}}=\\left(\\mathbf{X}^{\\prime} \\mathbf{X}\\right)^{-1}\\left(\\sum_{i=1}^{n} \\left(1-h_{i i}\\right)^{-1} X_{i}X_{i}^{\\prime}\\widehat{e}_{i}^{2} \\right)\\left(\\mathbf{X}^{\\prime} \\mathbf{X}\\right)^{-1}\n",
    "$$"
   ]
  },
  {
   "cell_type": "code",
   "execution_count": null,
   "metadata": {},
   "outputs": [],
   "source": [
    "print(fit.cov_HC2)"
   ]
  },
  {
   "cell_type": "code",
   "execution_count": null,
   "metadata": {},
   "outputs": [],
   "source": [
    "stata.run('''\n",
    "qui reg wage education experience exp2 if mnwf==1, vce(hc2)\n",
    "''',quietly=True)\n",
    "stata.run('matrix list e(V)')"
   ]
  },
  {
   "cell_type": "markdown",
   "metadata": {},
   "source": [
    "**<span style=\"color:red\">HC3:</span>**\n",
    "\n",
    "$$\n",
    "\\widehat{\\mathbf{V}}_{\\widehat{\\beta}}^{\\mathrm{HC3}}=\\left(\\mathbf{X}^{\\prime} \\mathbf{X}\\right)^{-1}\\left(\\sum_{i=1}^{n}  \\left(1-h_{i i}\\right)^{-2}X_{i}X_{i}^{\\prime}\\widehat{e}_{i}^{2}  \\right)\\left(\\mathbf{X}^{\\prime} \\mathbf{X}\\right)^{-1}\n",
    "$$"
   ]
  },
  {
   "cell_type": "code",
   "execution_count": null,
   "metadata": {},
   "outputs": [],
   "source": [
    "print(fit.cov_HC3)"
   ]
  },
  {
   "cell_type": "code",
   "execution_count": null,
   "metadata": {},
   "outputs": [],
   "source": [
    "stata.run('''\n",
    "qui reg wage education experience exp2 if mnwf==1, vce(hc3)\n",
    "''',quietly=True)\n",
    "stata.run('matrix list e(V)')"
   ]
  },
  {
   "cell_type": "markdown",
   "metadata": {},
   "source": [
    "## Standard Errors"
   ]
  },
  {
   "cell_type": "markdown",
   "metadata": {},
   "source": [
    "**<span style=\"color:red\">Homoskedasticity:</span>**"
   ]
  },
  {
   "cell_type": "code",
   "execution_count": null,
   "metadata": {},
   "outputs": [],
   "source": [
    "print(fit.bse)"
   ]
  },
  {
   "cell_type": "markdown",
   "metadata": {},
   "source": [
    "**<span style=\"color:red\">HC0:</span>**"
   ]
  },
  {
   "cell_type": "code",
   "execution_count": null,
   "metadata": {},
   "outputs": [],
   "source": [
    "print(fit.HC0_se)"
   ]
  },
  {
   "cell_type": "markdown",
   "metadata": {},
   "source": [
    "**<span style=\"color:red\">HC1:</span>**"
   ]
  },
  {
   "cell_type": "code",
   "execution_count": null,
   "metadata": {},
   "outputs": [],
   "source": [
    "print(fit.HC1_se)"
   ]
  },
  {
   "cell_type": "markdown",
   "metadata": {},
   "source": [
    "**<span style=\"color:red\">HC2:</span>**"
   ]
  },
  {
   "cell_type": "code",
   "execution_count": null,
   "metadata": {},
   "outputs": [],
   "source": [
    "print(fit.HC2_se)"
   ]
  },
  {
   "cell_type": "markdown",
   "metadata": {},
   "source": [
    "**<span style=\"color:red\">HC3:</span>**"
   ]
  },
  {
   "cell_type": "code",
   "execution_count": null,
   "metadata": {},
   "outputs": [],
   "source": [
    "print(fit.HC3_se)"
   ]
  },
  {
   "cell_type": "markdown",
   "metadata": {},
   "source": [
    "## Measures of Fit"
   ]
  },
  {
   "cell_type": "markdown",
   "metadata": {},
   "source": [
    "**<span style=\"color:red\">R-squared:</span>**\n",
    "$$\n",
    "R^{2}=1-\\frac{\\sum_{i=1}^{n} \\widehat{e}_{i}^{2}}{\\sum_{i=1}^{n}\\left(y_{i}-\\bar{y}\\right)^{2}}\n",
    "$$"
   ]
  },
  {
   "cell_type": "code",
   "execution_count": null,
   "metadata": {},
   "outputs": [],
   "source": [
    "print(fit.rsquared)"
   ]
  },
  {
   "cell_type": "code",
   "execution_count": null,
   "metadata": {},
   "outputs": [],
   "source": [
    "from sfi import Scalar\n",
    "rsquared=Scalar.getValue('e(r2)')\n",
    "print(rsquared)"
   ]
  },
  {
   "cell_type": "markdown",
   "metadata": {},
   "source": [
    "**<span style=\"color:red\">Adjusted R-squared:</span>**\n",
    "\n",
    "$$\n",
    "\\bar{R}^{2}=1-\\frac{(n-1) \\sum_{i=1}^{n} \\hat{e}_{i}^{2}}{(n-k) \\sum_{i=1}^{n}\\left(y_{i}-\\bar{y}\\right)^{2}}\n",
    "$$"
   ]
  },
  {
   "cell_type": "code",
   "execution_count": null,
   "metadata": {},
   "outputs": [],
   "source": [
    "print(fit.rsquared_adj)"
   ]
  },
  {
   "cell_type": "code",
   "execution_count": null,
   "metadata": {},
   "outputs": [],
   "source": [
    "radj=Scalar.getValue('e(r2_a)')\n",
    "print(radj)"
   ]
  },
  {
   "cell_type": "markdown",
   "metadata": {},
   "source": [
    "**<span style=\"color:red\">(Alternative) R-squared:</span>**\n",
    "\n",
    "$$\n",
    "\\widetilde{R}^{2}=1-\\frac{\\sum_{i=1}^{n} \\widetilde{e}_{i}^{2}}{\\sum_{i=1}^{n}\\left(y_{i}-\\bar{y}\\right)^{2}}\n",
    "$$"
   ]
  },
  {
   "cell_type": "code",
   "execution_count": null,
   "metadata": {},
   "outputs": [],
   "source": [
    "from statsmodels.stats.outliers_influence import OLSInfluence\n",
    "R2_tilde = 1 - (OLSInfluence(fit).resid_press**2).sum()/fit.centered_tss\n",
    "print(R2_tilde)"
   ]
  }
 ],
 "metadata": {
  "kernelspec": {
   "display_name": "Python 3",
   "language": "python",
   "name": "python3"
  },
  "language_info": {
   "codemirror_mode": {
    "name": "ipython",
    "version": 3
   },
   "file_extension": ".py",
   "mimetype": "text/x-python",
   "name": "python",
   "nbconvert_exporter": "python",
   "pygments_lexer": "ipython3",
   "version": "3.9.6"
  },
  "toc": {
   "base_numbering": 1,
   "nav_menu": {},
   "number_sections": true,
   "sideBar": true,
   "skip_h1_title": false,
   "title_cell": "Table of Contents",
   "title_sidebar": "Contents",
   "toc_cell": false,
   "toc_position": {},
   "toc_section_display": true,
   "toc_window_display": false
  },
  "vscode": {
   "interpreter": {
    "hash": "11938c6bc6919ae2720b4d5011047913343b08a43b18698fd82dedb0d4417594"
   }
  }
 },
 "nbformat": 4,
 "nbformat_minor": 4
}
