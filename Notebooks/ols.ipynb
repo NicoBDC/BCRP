{
 "cells": [
  {
   "cell_type": "code",
   "execution_count": 1,
   "metadata": {},
   "outputs": [
    {
     "name": "stdout",
     "output_type": "stream",
     "text": [
      "\n",
      "  ___  ____  ____  ____  ____ ®\n",
      " /__    /   ____/   /   ____/      17.0\n",
      "___/   /   /___/   /   /___/       MP—Parallel Edition\n",
      "\n",
      " Statistics and Data Science       Copyright 1985-2021 StataCorp LLC\n",
      "                                   StataCorp\n",
      "                                   4905 Lakeway Drive\n",
      "                                   College Station, Texas 77845 USA\n",
      "                                   800-STATA-PC        https://www.stata.com\n",
      "                                   979-696-4600        stata@stata.com\n",
      "\n",
      "Stata license: Single-user 4-core  perpetual\n",
      "Serial number: 501706303466\n",
      "  Licensed to: David Tomas Jacho-Chavez\n",
      "               Emory University\n",
      "\n",
      "Notes:\n",
      "      1. Unicode is supported; see help unicode_advice.\n",
      "      2. More than 2 billion observations are allowed; see help obs_advice.\n",
      "      3. Maximum number of variables is set to 5,000; see help set_maxvar.\n"
     ]
    }
   ],
   "source": [
    "import stata_setup\n",
    "stata_setup.config(\"C:/Program Files/Stata17/\", \"mp\")"
   ]
  },
  {
   "cell_type": "markdown",
   "metadata": {},
   "source": [
    "Loading the data set"
   ]
  },
  {
   "cell_type": "code",
   "execution_count": 2,
   "metadata": {},
   "outputs": [],
   "source": [
    "import pandas as pd\n",
    "import numpy as np\n",
    "cps09mr = pd.read_stata('https://www.ssc.wisc.edu/~bhansen/econometrics/cps09mar.dta')"
   ]
  },
  {
   "cell_type": "markdown",
   "metadata": {},
   "source": [
    "Constructing the relevant variables"
   ]
  },
  {
   "cell_type": "code",
   "execution_count": 3,
   "metadata": {},
   "outputs": [],
   "source": [
    "cps09mr['wage'] = np.log(cps09mr.earnings/(cps09mr.hours*cps09mr.week))\n",
    "cps09mr['experience'] = cps09mr.age - cps09mr.education - 6\n",
    "cps09mr['exp2'] = (cps09mr.experience**2)/100"
   ]
  },
  {
   "cell_type": "markdown",
   "metadata": {},
   "source": [
    "Filtering data based on marital status, race and gender"
   ]
  },
  {
   "cell_type": "code",
   "execution_count": 4,
   "metadata": {},
   "outputs": [],
   "source": [
    "cps09mr['mnwf'] = np.logical_and(np.logical_and(cps09mr.marital<=2, cps09mr.race!=1), cps09mr.female==1)"
   ]
  },
  {
   "cell_type": "markdown",
   "metadata": {},
   "source": [
    "Performing the OLS regression of $\\boldsymbol{Y}$ on $\\boldsymbol{X}$ using ```Stata```:"
   ]
  },
  {
   "cell_type": "code",
   "execution_count": 5,
   "metadata": {},
   "outputs": [],
   "source": [
    "%%stata -d cps09mr -force\n",
    "qui reg wage education experience exp2 if mnwf==1"
   ]
  },
  {
   "cell_type": "markdown",
   "metadata": {},
   "source": [
    "Printing the OLS estimates $\\widehat{\\beta}$"
   ]
  },
  {
   "cell_type": "code",
   "execution_count": 6,
   "metadata": {},
   "outputs": [
    {
     "name": "stdout",
     "output_type": "stream",
     "text": [
      "\n",
      "e(b)[1,4]\n",
      "     education  experience        exp2       _cons\n",
      "y1   .11635303   .00873874  -.01170667   1.0883169\n"
     ]
    }
   ],
   "source": [
    "%stata matrix list e(b)"
   ]
  },
  {
   "cell_type": "markdown",
   "metadata": {},
   "source": [
    "Printing the $TSS$"
   ]
  },
  {
   "cell_type": "code",
   "execution_count": 7,
   "metadata": {},
   "outputs": [
    {
     "name": "stdout",
     "output_type": "stream",
     "text": [
      "820.924\n"
     ]
    }
   ],
   "source": [
    "%stata display e(mss)+e(rss)"
   ]
  },
  {
   "cell_type": "markdown",
   "metadata": {},
   "source": [
    "Printing the $ESS$"
   ]
  },
  {
   "cell_type": "code",
   "execution_count": 8,
   "metadata": {},
   "outputs": [
    {
     "name": "stdout",
     "output_type": "stream",
     "text": [
      "198.6108\n"
     ]
    }
   ],
   "source": [
    "%stata display e(mss)"
   ]
  },
  {
   "cell_type": "markdown",
   "metadata": {},
   "source": [
    "Printing the $RSS$"
   ]
  },
  {
   "cell_type": "code",
   "execution_count": 9,
   "metadata": {},
   "outputs": [
    {
     "name": "stdout",
     "output_type": "stream",
     "text": [
      "622.3132\n"
     ]
    }
   ],
   "source": [
    "%stata display e(rss)"
   ]
  },
  {
   "cell_type": "markdown",
   "metadata": {},
   "source": [
    "Printing the $R^2$"
   ]
  },
  {
   "cell_type": "code",
   "execution_count": 10,
   "metadata": {},
   "outputs": [
    {
     "name": "stdout",
     "output_type": "stream",
     "text": [
      ".24193567\n"
     ]
    }
   ],
   "source": [
    "%stata display e(mss)/(e(mss)+e(rss))"
   ]
  },
  {
   "cell_type": "markdown",
   "metadata": {},
   "source": [
    "# Leverage Values & LOO Regression"
   ]
  },
  {
   "cell_type": "code",
   "execution_count": 11,
   "metadata": {},
   "outputs": [],
   "source": [
    "from statsmodels.regression.linear_model import OLS\n",
    "from statsmodels.stats.outliers_influence import OLSInfluence\n",
    "import patsy"
   ]
  },
  {
   "cell_type": "markdown",
   "metadata": {},
   "source": [
    "Creating the training data, i.e., $\\boldsymbol{Y}$ vector and $\\boldsymbol{X}$ matrix"
   ]
  },
  {
   "cell_type": "code",
   "execution_count": 12,
   "metadata": {},
   "outputs": [],
   "source": [
    "f = 'wage ~ education + experience + exp2 '\n",
    "y, X = patsy.dmatrices(f, data=cps09mr.loc[cps09mr['mnwf']], return_type='dataframe')"
   ]
  },
  {
   "cell_type": "markdown",
   "metadata": {},
   "source": [
    "Performing the OLS regression of $\\boldsymbol{Y}$ on $\\boldsymbol{X}$ using ```Python```:"
   ]
  },
  {
   "cell_type": "code",
   "execution_count": 13,
   "metadata": {},
   "outputs": [],
   "source": [
    "fit = OLS(y, X).fit()"
   ]
  },
  {
   "cell_type": "markdown",
   "metadata": {},
   "source": [
    "Extracting the leverage values"
   ]
  },
  {
   "cell_type": "code",
   "execution_count": 14,
   "metadata": {},
   "outputs": [],
   "source": [
    "hii = OLSInfluence(fit).hat_matrix_diag"
   ]
  },
  {
   "cell_type": "markdown",
   "metadata": {},
   "source": [
    "Checking that $0\\le h_{ii} \\le 1$"
   ]
  },
  {
   "cell_type": "code",
   "execution_count": 15,
   "metadata": {},
   "outputs": [
    {
     "name": "stdout",
     "output_type": "stream",
     "text": [
      "[0.0007869361641266887, 0.058601165774099975]\n"
     ]
    }
   ],
   "source": [
    "print([hii.min(),hii.max()])"
   ]
  },
  {
   "cell_type": "markdown",
   "metadata": {},
   "source": [
    "Checking that $h_{ii}\\ge 1/n$ by checking that $\\min_{i=1,\\ldots,n}(h_{ii})\\ge 1/n$"
   ]
  },
  {
   "cell_type": "code",
   "execution_count": 16,
   "metadata": {},
   "outputs": [
    {
     "data": {
      "text/plain": [
       "True"
      ]
     },
     "execution_count": 16,
     "metadata": {},
     "output_type": "execute_result"
    }
   ],
   "source": [
    "(hii.min()>=1/hii.size)"
   ]
  },
  {
   "cell_type": "markdown",
   "metadata": {},
   "source": [
    "Checking that $\\sum_{i=1}^n h_{ii}=k$"
   ]
  },
  {
   "cell_type": "code",
   "execution_count": 17,
   "metadata": {},
   "outputs": [
    {
     "data": {
      "text/plain": [
       "4"
      ]
     },
     "execution_count": 17,
     "metadata": {},
     "output_type": "execute_result"
    }
   ],
   "source": [
    "hii.sum().round().astype(int)"
   ]
  },
  {
   "cell_type": "markdown",
   "metadata": {},
   "source": [
    "Extracting the matrix $\\widehat{\\beta}_{(-i)}$ and checking its dimension"
   ]
  },
  {
   "cell_type": "code",
   "execution_count": 18,
   "metadata": {},
   "outputs": [
    {
     "name": "stdout",
     "output_type": "stream",
     "text": [
      "(2133, 4)\n"
     ]
    }
   ],
   "source": [
    "bi = OLSInfluence(fit).dfbetas\n",
    "print(bi.shape)"
   ]
  },
  {
   "cell_type": "markdown",
   "metadata": {},
   "source": [
    "Extracting the LOO residuals $\\widetilde{e}_{i}$ and check its dimension"
   ]
  },
  {
   "cell_type": "code",
   "execution_count": 19,
   "metadata": {},
   "outputs": [
    {
     "name": "stdout",
     "output_type": "stream",
     "text": [
      "2133\n"
     ]
    }
   ],
   "source": [
    "e_tilde = OLSInfluence(fit).resid_press\n",
    "print(e_tilde.size)"
   ]
  },
  {
   "cell_type": "markdown",
   "metadata": {},
   "source": [
    "Plotting the sets $\\{\\widehat{\\beta}_{(-i)}:i=1,\\ldots,n\\}$ and $\\{\\widetilde{e}_{i}:i=1,\\ldots,n\\}$ against their indexes $i=1,\\ldots,n$"
   ]
  },
  {
   "cell_type": "code",
   "execution_count": 20,
   "metadata": {},
   "outputs": [
    {
     "data": {
      "image/png": "[encoded data removed]",
      "text/plain": [
       "<Figure size 640x480 with 2 Axes>"
      ]
     },
     "metadata": {},
     "output_type": "display_data"
    }
   ],
   "source": [
    "import matplotlib.pyplot as plt\n",
    "fig, axs = plt.subplots(2)\n",
    "axs[0].plot(np.linspace(1,e_tilde.size,num=e_tilde.size).astype(int), bi[:,1])\n",
    "axs[0].set_title(r'$\\widehat{\\beta}_{-i}$ vs $i=1,\\ldots,n$')\n",
    "axs[1].plot(np.linspace(1,e_tilde.size,num=e_tilde.size).astype(int), e_tilde,'tab:orange')\n",
    "axs[1].set_title(r'$\\widetilde{e}_{i}$ vs $i=1,\\ldots,n$')\n",
    "# Hide x labels and tick labels for top plots\n",
    "for ax in axs.flat:\n",
    "    ax.label_outer()"
   ]
  },
  {
   "cell_type": "markdown",
   "metadata": {},
   "source": [
    "The '*prediction standard error*' is:"
   ]
  },
  {
   "cell_type": "code",
   "execution_count": 21,
   "metadata": {},
   "outputs": [
    {
     "name": "stdout",
     "output_type": "stream",
     "text": [
      "0.5412822771345772\n"
     ]
    }
   ],
   "source": [
    "print(np.sqrt(np.mean(e_tilde**2)))"
   ]
  },
  {
   "cell_type": "markdown",
   "metadata": {},
   "source": [
    "## Residuals"
   ]
  },
  {
   "cell_type": "code",
   "execution_count": 22,
   "metadata": {},
   "outputs": [
    {
     "name": "stdout",
     "output_type": "stream",
     "text": [
      "          e_hat   e_tilde     e_bar\n",
      "149   -0.169630 -0.169892 -0.169761\n",
      "156   -0.123202 -0.123369 -0.123285\n",
      "403    0.092012  0.092113  0.092063\n",
      "408   -0.797985 -0.798834 -0.798409\n",
      "433    0.639162  0.640033  0.639597\n",
      "...         ...       ...       ...\n",
      "50701  0.021207  0.021236  0.021222\n",
      "50721  0.789192  0.790566  0.789878\n",
      "50723  0.928002  0.928765  0.928383\n",
      "50725 -0.131072 -0.131185 -0.131129\n",
      "50728 -0.186138 -0.186461 -0.186299\n",
      "\n",
      "[2133 rows x 3 columns]\n"
     ]
    }
   ],
   "source": [
    "residuos = pd.DataFrame({'e_hat': fit.resid, 'e_tilde': e_tilde, 'e_bar': fit.resid/np.sqrt(1-hii)})\n",
    "print(residuos)"
   ]
  },
  {
   "cell_type": "code",
   "execution_count": 23,
   "metadata": {},
   "outputs": [
    {
     "name": "stdout",
     "output_type": "stream",
     "text": [
      "\n",
      "    Variable |        Obs        Mean    Std. dev.       Min        Max\n",
      "-------------+---------------------------------------------------------\n",
      "       e_hat |      2,133    1.30e-15    .5402701  -5.602127   2.459517\n",
      "     e_tilde |      2,133    .0000735    .5414092   -5.61756   2.494832\n",
      "       e_bar |      2,133    .0000364    .5408379  -5.609838   2.477112\n"
     ]
    }
   ],
   "source": [
    "from pystata import stata\n",
    "stata.pdataframe_to_data(residuos, force=True)\n",
    "stata.run('summarize')"
   ]
  },
  {
   "cell_type": "markdown",
   "metadata": {},
   "source": [
    "## Covariance Matrix Estimation"
   ]
  },
  {
   "cell_type": "markdown",
   "metadata": {},
   "source": [
    "**<span style=\"color:red\">Homoskedasticity:</span>**\n",
    "\n",
    "$$\n",
    "\\widehat{\\mathbf{V}}_{\\widehat{\\beta}}^{0}=\\left(\\mathbf{X}^{\\prime} \\mathbf{X}\\right)^{-1} s^{2}\n",
    "$$"
   ]
  },
  {
   "cell_type": "code",
   "execution_count": 24,
   "metadata": {},
   "outputs": [
    {
     "name": "stdout",
     "output_type": "stream",
     "text": [
      "            Intercept     education    experience      exp2\n",
      "Intercept    0.007564 -3.372091e-04 -1.903405e-04  0.000279\n",
      "education   -0.000337  2.150172e-05  4.161708e-07  0.000003\n",
      "experience  -0.000190  4.161708e-07  1.742673e-05 -0.000034\n",
      "exp2         0.000279  2.890836e-06 -3.352658e-05  0.000070\n"
     ]
    }
   ],
   "source": [
    "print(fit.cov_params())"
   ]
  },
  {
   "cell_type": "code",
   "execution_count": 25,
   "metadata": {},
   "outputs": [
    {
     "name": "stdout",
     "output_type": "stream",
     "text": [
      "\n",
      "\n",
      "symmetric e(V)[4,4]\n",
      "             education  experience        exp2       _cons\n",
      " education    .0000215\n",
      "experience   4.162e-07   .00001743\n",
      "      exp2   2.891e-06  -.00003353   .00006978\n",
      "     _cons  -.00033721  -.00019034   .00027868    .0075637\n"
     ]
    }
   ],
   "source": [
    "from pystata import stata\n",
    "stata.pdataframe_to_data(cps09mr, force=True)\n",
    "stata.run('''\n",
    "qui reg wage education experience exp2 if mnwf==1\n",
    "''',quietly=True)\n",
    "stata.run('matrix list e(V)')"
   ]
  },
  {
   "cell_type": "markdown",
   "metadata": {},
   "source": [
    "**<span style=\"color:red\">HC0:</span>**\n",
    "\n",
    "$$\n",
    "\\widehat{\\mathbf{V}}_{\\widehat{\\beta}}^{\\mathrm{HC0}}=\\left(\\mathbf{X}^{\\prime} \\mathbf{X}\\right)^{-1}\\left(\\sum_{i=1}^{n} X_{i} X_{i}^{\\prime}\\widehat{e}_{i}^{2} \\right)\\left(\\mathbf{X}^{\\prime} \\mathbf{X}\\right)^{-1}\n",
    "$$"
   ]
  },
  {
   "cell_type": "code",
   "execution_count": 26,
   "metadata": {},
   "outputs": [
    {
     "name": "stdout",
     "output_type": "stream",
     "text": [
      "[[ 1.10361051e-02 -5.22891570e-04 -2.53592430e-04  3.81219025e-04]\n",
      " [-5.22891570e-04  3.13965326e-05  4.04430096e-06 -3.38449216e-06]\n",
      " [-2.53592430e-04  4.04430096e-06  1.79086564e-05 -3.35259797e-05]\n",
      " [ 3.81219025e-04 -3.38449216e-06 -3.35259797e-05  6.77948740e-05]]\n"
     ]
    }
   ],
   "source": [
    "print(fit.cov_HC0)"
   ]
  },
  {
   "cell_type": "markdown",
   "metadata": {},
   "source": [
    "**<span style=\"color:red\">HC1:</span>** (most common in *econometrics*)\n",
    "\n",
    "$$\n",
    "\\widehat{\\mathbf{V}}_{\\widehat{\\beta}}^{\\mathrm{HCl}}=\\left(\\frac{n}{n-k}\\right)\\left(\\mathbf{X}^{\\prime} \\mathbf{X}\\right)^{-1}\\left(\\sum_{i=1}^{n} X_{i} X_{i}^{\\prime}\\widehat{e}_{i}^{2} \\right)\\left(\\mathbf{X}^{\\prime} \\mathbf{X}\\right)^{-1}\n",
    "$$\n"
   ]
  },
  {
   "cell_type": "code",
   "execution_count": 27,
   "metadata": {},
   "outputs": [
    {
     "name": "stdout",
     "output_type": "stream",
     "text": [
      "[[ 1.10568400e-02 -5.23873987e-04 -2.54068884e-04  3.81935265e-04]\n",
      " [-5.23873987e-04  3.14555210e-05  4.05189946e-06 -3.39085100e-06]\n",
      " [-2.54068884e-04  4.05189946e-06  1.79423035e-05 -3.35889688e-05]\n",
      " [ 3.81935265e-04 -3.39085100e-06 -3.35889688e-05  6.79222481e-05]]\n"
     ]
    }
   ],
   "source": [
    "print(fit.cov_HC1)"
   ]
  },
  {
   "cell_type": "code",
   "execution_count": 28,
   "metadata": {},
   "outputs": [
    {
     "name": "stdout",
     "output_type": "stream",
     "text": [
      "\n",
      "\n",
      "symmetric e(V)[4,4]\n",
      "             education  experience        exp2       _cons\n",
      " education   .00003146\n",
      "experience   4.052e-06   .00001794\n",
      "      exp2  -3.391e-06  -.00003359   .00006792\n",
      "     _cons  -.00052387  -.00025407   .00038194   .01105684\n"
     ]
    }
   ],
   "source": [
    "stata.run('''\n",
    "qui reg wage education experience exp2 if mnwf==1, robust\n",
    "''',quietly=True)\n",
    "stata.run('matrix list e(V)')"
   ]
  },
  {
   "cell_type": "markdown",
   "metadata": {},
   "source": [
    "**<span style=\"color:red\">HC2:</span>**\n",
    "\n",
    "$$\n",
    "\\widehat{\\mathbf{V}}_{\\widehat{\\beta}}^{\\mathrm{HC2}}=\\left(\\mathbf{X}^{\\prime} \\mathbf{X}\\right)^{-1}\\left(\\sum_{i=1}^{n} \\left(1-h_{i i}\\right)^{-1} X_{i}X_{i}^{\\prime}\\widehat{e}_{i}^{2} \\right)\\left(\\mathbf{X}^{\\prime} \\mathbf{X}\\right)^{-1}\n",
    "$$"
   ]
  },
  {
   "cell_type": "code",
   "execution_count": 29,
   "metadata": {},
   "outputs": [
    {
     "name": "stdout",
     "output_type": "stream",
     "text": [
      "[[ 1.11236454e-02 -5.26912800e-04 -2.56341144e-04  3.86741144e-04]\n",
      " [-5.26912800e-04  3.16232376e-05  4.10639944e-06 -3.49933778e-06]\n",
      " [-2.56341144e-04  4.10639944e-06  1.81038668e-05 -3.39468714e-05]\n",
      " [ 3.86741144e-04 -3.49933778e-06 -3.39468714e-05  6.87216398e-05]]\n"
     ]
    }
   ],
   "source": [
    "print(fit.cov_HC2)"
   ]
  },
  {
   "cell_type": "code",
   "execution_count": 30,
   "metadata": {},
   "outputs": [
    {
     "name": "stdout",
     "output_type": "stream",
     "text": [
      "\n",
      "\n",
      "symmetric e(V)[4,4]\n",
      "             education  experience        exp2       _cons\n",
      " education   .00003162\n",
      "experience   4.106e-06    .0000181\n",
      "      exp2  -3.499e-06  -.00003395   .00006872\n",
      "     _cons  -.00052691  -.00025634   .00038674   .01112365\n"
     ]
    }
   ],
   "source": [
    "stata.run('''\n",
    "qui reg wage education experience exp2 if mnwf==1, vce(hc2)\n",
    "''',quietly=True)\n",
    "stata.run('matrix list e(V)')"
   ]
  },
  {
   "cell_type": "markdown",
   "metadata": {},
   "source": [
    "**<span style=\"color:red\">HC3:</span>**\n",
    "\n",
    "$$\n",
    "\\widehat{\\mathbf{V}}_{\\widehat{\\beta}}^{\\mathrm{HC3}}=\\left(\\mathbf{X}^{\\prime} \\mathbf{X}\\right)^{-1}\\left(\\sum_{i=1}^{n}  \\left(1-h_{i i}\\right)^{-2}X_{i}X_{i}^{\\prime}\\widehat{e}_{i}^{2}  \\right)\\left(\\mathbf{X}^{\\prime} \\mathbf{X}\\right)^{-1}\n",
    "$$"
   ]
  },
  {
   "cell_type": "code",
   "execution_count": 31,
   "metadata": {},
   "outputs": [
    {
     "name": "stdout",
     "output_type": "stream",
     "text": [
      "[[ 1.12135844e-02 -5.31022229e-04 -2.59211496e-04  3.92529826e-04]\n",
      " [-5.31022229e-04  3.18538582e-05  4.17178950e-06 -3.62127186e-06]\n",
      " [-2.59211496e-04  4.17178950e-06  1.83073675e-05 -3.43862068e-05]\n",
      " [ 3.92529826e-04 -3.62127186e-06 -3.43862068e-05  6.96895317e-05]]\n"
     ]
    }
   ],
   "source": [
    "print(fit.cov_HC3)"
   ]
  },
  {
   "cell_type": "code",
   "execution_count": 32,
   "metadata": {},
   "outputs": [
    {
     "name": "stdout",
     "output_type": "stream",
     "text": [
      "\n",
      "\n",
      "symmetric e(V)[4,4]\n",
      "             education  experience        exp2       _cons\n",
      " education   .00003185\n",
      "experience   4.172e-06   .00001831\n",
      "      exp2  -3.621e-06  -.00003439   .00006969\n",
      "     _cons  -.00053102  -.00025921   .00039253   .01121358\n"
     ]
    }
   ],
   "source": [
    "stata.run('''\n",
    "qui reg wage education experience exp2 if mnwf==1, vce(hc3)\n",
    "''',quietly=True)\n",
    "stata.run('matrix list e(V)')"
   ]
  },
  {
   "cell_type": "markdown",
   "metadata": {},
   "source": [
    "## Standard Errors"
   ]
  },
  {
   "cell_type": "markdown",
   "metadata": {},
   "source": [
    "**<span style=\"color:red\">Homoskedasticity:</span>**"
   ]
  },
  {
   "cell_type": "code",
   "execution_count": 33,
   "metadata": {},
   "outputs": [
    {
     "name": "stdout",
     "output_type": "stream",
     "text": [
      "Intercept     0.086970\n",
      "education     0.004637\n",
      "experience    0.004175\n",
      "exp2          0.008353\n",
      "dtype: float64\n"
     ]
    }
   ],
   "source": [
    "print(fit.bse)"
   ]
  },
  {
   "cell_type": "markdown",
   "metadata": {},
   "source": [
    "**<span style=\"color:red\">HC0:</span>**"
   ]
  },
  {
   "cell_type": "code",
   "execution_count": 34,
   "metadata": {},
   "outputs": [
    {
     "name": "stdout",
     "output_type": "stream",
     "text": [
      "Intercept     0.105053\n",
      "education     0.005603\n",
      "experience    0.004232\n",
      "exp2          0.008234\n",
      "dtype: float64\n"
     ]
    }
   ],
   "source": [
    "print(fit.HC0_se)"
   ]
  },
  {
   "cell_type": "markdown",
   "metadata": {},
   "source": [
    "**<span style=\"color:red\">HC1:</span>**"
   ]
  },
  {
   "cell_type": "code",
   "execution_count": 35,
   "metadata": {},
   "outputs": [
    {
     "name": "stdout",
     "output_type": "stream",
     "text": [
      "Intercept     0.105152\n",
      "education     0.005609\n",
      "experience    0.004236\n",
      "exp2          0.008241\n",
      "dtype: float64\n"
     ]
    }
   ],
   "source": [
    "print(fit.HC1_se)"
   ]
  },
  {
   "cell_type": "markdown",
   "metadata": {},
   "source": [
    "**<span style=\"color:red\">HC2:</span>**"
   ]
  },
  {
   "cell_type": "code",
   "execution_count": 36,
   "metadata": {},
   "outputs": [
    {
     "name": "stdout",
     "output_type": "stream",
     "text": [
      "Intercept     0.105469\n",
      "education     0.005623\n",
      "experience    0.004255\n",
      "exp2          0.008290\n",
      "dtype: float64\n"
     ]
    }
   ],
   "source": [
    "print(fit.HC2_se)"
   ]
  },
  {
   "cell_type": "markdown",
   "metadata": {},
   "source": [
    "**<span style=\"color:red\">HC3:</span>**"
   ]
  },
  {
   "cell_type": "code",
   "execution_count": 37,
   "metadata": {},
   "outputs": [
    {
     "name": "stdout",
     "output_type": "stream",
     "text": [
      "Intercept     0.105894\n",
      "education     0.005644\n",
      "experience    0.004279\n",
      "exp2          0.008348\n",
      "dtype: float64\n"
     ]
    }
   ],
   "source": [
    "print(fit.HC3_se)"
   ]
  },
  {
   "cell_type": "markdown",
   "metadata": {},
   "source": [
    "## Measures of Fit"
   ]
  },
  {
   "cell_type": "markdown",
   "metadata": {},
   "source": [
    "**<span style=\"color:red\">R-squared:</span>**\n",
    "$$\n",
    "R^{2}=1-\\frac{\\sum_{i=1}^{n} \\widehat{e}_{i}^{2}}{\\sum_{i=1}^{n}\\left(y_{i}-\\bar{y}\\right)^{2}}\n",
    "$$"
   ]
  },
  {
   "cell_type": "code",
   "execution_count": 38,
   "metadata": {},
   "outputs": [
    {
     "name": "stdout",
     "output_type": "stream",
     "text": [
      "0.24193567211217404\n"
     ]
    }
   ],
   "source": [
    "print(fit.rsquared)"
   ]
  },
  {
   "cell_type": "code",
   "execution_count": 39,
   "metadata": {},
   "outputs": [
    {
     "name": "stdout",
     "output_type": "stream",
     "text": [
      "0.24193567211217348\n"
     ]
    }
   ],
   "source": [
    "from sfi import Scalar\n",
    "rsquared=Scalar.getValue('e(r2)')\n",
    "print(rsquared)"
   ]
  },
  {
   "cell_type": "markdown",
   "metadata": {},
   "source": [
    "**<span style=\"color:red\">Adjusted R-squared:</span>**\n",
    "\n",
    "$$\n",
    "\\bar{R}^{2}=1-\\frac{(n-1) \\sum_{i=1}^{n} \\hat{e}_{i}^{2}}{(n-k) \\sum_{i=1}^{n}\\left(y_{i}-\\bar{y}\\right)^{2}}\n",
    "$$"
   ]
  },
  {
   "cell_type": "code",
   "execution_count": 40,
   "metadata": {},
   "outputs": [
    {
     "name": "stdout",
     "output_type": "stream",
     "text": [
      "0.2408674743744269\n"
     ]
    }
   ],
   "source": [
    "print(fit.rsquared_adj)"
   ]
  },
  {
   "cell_type": "code",
   "execution_count": 41,
   "metadata": {},
   "outputs": [
    {
     "name": "stdout",
     "output_type": "stream",
     "text": [
      "0.24086747437442646\n"
     ]
    }
   ],
   "source": [
    "radj=Scalar.getValue('e(r2_a)')\n",
    "print(radj)"
   ]
  },
  {
   "cell_type": "markdown",
   "metadata": {},
   "source": [
    "**<span style=\"color:red\">(Alternative) R-squared:</span>**\n",
    "\n",
    "$$\n",
    "\\widetilde{R}^{2}=1-\\frac{\\sum_{i=1}^{n} \\widetilde{e}_{i}^{2}}{\\sum_{i=1}^{n}\\left(y_{i}-\\bar{y}\\right)^{2}}\n",
    "$$"
   ]
  },
  {
   "cell_type": "code",
   "execution_count": 42,
   "metadata": {},
   "outputs": [
    {
     "name": "stdout",
     "output_type": "stream",
     "text": [
      "0.2387356065956785\n"
     ]
    }
   ],
   "source": [
    "from statsmodels.stats.outliers_influence import OLSInfluence\n",
    "R2_tilde = 1 - (OLSInfluence(fit).resid_press**2).sum()/fit.centered_tss\n",
    "print(R2_tilde)"
   ]
  }
 ],
 "metadata": {
  "kernelspec": {
   "display_name": "Python 3 (ipykernel)",
   "language": "python",
   "name": "python3"
  },
  "language_info": {
   "codemirror_mode": {
    "name": "ipython",
    "version": 3
   },
   "file_extension": ".py",
   "mimetype": "text/x-python",
   "name": "python",
   "nbconvert_exporter": "python",
   "pygments_lexer": "ipython3",
   "version": "3.10.8"
  },
  "toc": {
   "base_numbering": 1,
   "nav_menu": {},
   "number_sections": true,
   "sideBar": true,
   "skip_h1_title": false,
   "title_cell": "Table of Contents",
   "title_sidebar": "Contents",
   "toc_cell": false,
   "toc_position": {},
   "toc_section_display": true,
   "toc_window_display": false
  }
 },
 "nbformat": 4,
 "nbformat_minor": 4
}
