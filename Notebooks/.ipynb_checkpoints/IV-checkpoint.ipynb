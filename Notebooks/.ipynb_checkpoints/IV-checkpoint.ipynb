{
 "cells": [
  {
   "cell_type": "code",
   "execution_count": 1,
   "id": "fa3dfbee-c28a-4690-aedd-a18c2db09314",
   "metadata": {},
   "outputs": [
    {
     "name": "stdout",
     "output_type": "stream",
     "text": [
      "\n",
      "  ___  ____  ____  ____  ____ ®\n",
      " /__    /   ____/   /   ____/      17.0\n",
      "___/   /   /___/   /   /___/       MP—Parallel Edition\n",
      "\n",
      " Statistics and Data Science       Copyright 1985-2021 StataCorp LLC\n",
      "                                   StataCorp\n",
      "                                   4905 Lakeway Drive\n",
      "                                   College Station, Texas 77845 USA\n",
      "                                   800-STATA-PC        https://www.stata.com\n",
      "                                   979-696-4600        stata@stata.com\n",
      "\n",
      "Stata license: Single-user 4-core  perpetual\n",
      "Serial number: 501706303466\n",
      "  Licensed to: David Tomas Jacho-Chavez\n",
      "               Emory University\n",
      "\n",
      "Notes:\n",
      "      1. Unicode is supported; see help unicode_advice.\n",
      "      2. More than 2 billion observations are allowed; see help obs_advice.\n",
      "      3. Maximum number of variables is set to 5,000; see help set_maxvar.\n"
     ]
    }
   ],
   "source": [
    "import stata_setup\n",
    "stata_setup.config(\"C:/Program Files/Stata17/\", \"mp\")"
   ]
  },
  {
   "cell_type": "markdown",
   "id": "9c83425e-49a4-4d8f-9e4f-1a862a33a88e",
   "metadata": {},
   "source": [
    "# Chapter 12"
   ]
  },
  {
   "cell_type": "markdown",
   "id": "5b99682b-ff1b-4e1a-8098-f9439bc5aadb",
   "metadata": {},
   "source": [
    "Loading the data set"
   ]
  },
  {
   "cell_type": "code",
   "execution_count": 2,
   "id": "683479a5-a5de-4f7f-bfcb-70cad4d95987",
   "metadata": {},
   "outputs": [
    {
     "name": "stdout",
     "output_type": "stream",
     "text": [
      "\n"
     ]
    }
   ],
   "source": [
    "from pystata import stata\n",
    "stata.run('''\n",
    "* Clear memory and load the data\n",
    "clear\n",
    "use \"https://www.ssc.wisc.edu/~bhansen/econometrics/Card1995.dta\", clear\n",
    "''',quietly=True)"
   ]
  },
  {
   "cell_type": "markdown",
   "id": "400f497e-57a7-428d-99fd-7e38466f466e",
   "metadata": {},
   "source": [
    "Construct relevant variables to be used for the analysis."
   ]
  },
  {
   "cell_type": "code",
   "execution_count": 3,
   "id": "d39d97b1-9dba-4723-bf72-e2cdb1b7ae74",
   "metadata": {},
   "outputs": [
    {
     "name": "stdout",
     "output_type": "stream",
     "text": [
      "\n"
     ]
    }
   ],
   "source": [
    "stata.run('''\n",
    "set more off\n",
    "gen exp = age76 - ed76 -6\n",
    "gen exp2 = (exp^2)/100\n",
    "gen age2 = (age76^2)/100\n",
    "* Dropping observations with missing wage\n",
    "drop if lwage76==.\n",
    "''',quietly=True)"
   ]
  },
  {
   "cell_type": "markdown",
   "id": "307e2221-323e-4c49-8d3f-580a36ea5809",
   "metadata": {},
   "source": [
    "The _structural model_ of interest is\n",
    "\n",
    "$$\n",
    "%\\begin{aligned}\n",
    "%\\texttt{lwage76} &= \\beta_1\\texttt{ed76} + \\beta_2\\texttt{exp} + \\beta_3\\texttt{exp2}\\\\\n",
    "%                 & + \\beta_4\\texttt{reg76r} + \\beta_5\\texttt{smsa76r} + \\beta_6+ e,\n",
    "%\\end{aligned}\n",
    "\\texttt{lwage76} = \\beta_1\\texttt{ed76} + \\beta_2\\texttt{exp} + \\beta_3\\texttt{exp2} + \\beta_4\\texttt{black} + \\beta_5\\texttt{reg76r} + \\beta_6\\texttt{smsa76r} + \\beta_7+ e,\n",
    "$$\n",
    "\n",
    "where\n",
    "\n",
    "* $\\texttt{lwage76}$: log of weekly earnings.\n",
    "* $\\texttt{ed76}$: years of schooling.\n",
    "* $\\texttt{exp}$: (potential) years of work experience.\n",
    "* $\\texttt{exp2}$: $\\texttt{exp}^2/100$.\n",
    "* $\\texttt{black}$: indicator if African American.\n",
    "* $\\texttt{reg76r}$: indicator for residence in the southern region of the U.S.\n",
    "* $\\texttt{smsa76r}$: indicator for residence in a standard metropolitan statistical area."
   ]
  },
  {
   "cell_type": "markdown",
   "id": "bc9d3f03-b151-4991-be23-7ef0dc27e07b",
   "metadata": {},
   "source": [
    "Available instruments for potential endogeneity:\n",
    "\n",
    "* $\\texttt{nearc4}$: grew up in same county as a 4-year college.\n",
    "* $\\texttt{nearc4a}$: grew up in same county as a 4-year _public_ college.\n",
    "* $\\texttt{nearc4b}$: grew up in same county as a 4-year _private_ college.\n",
    "* $\\texttt{age76}$: age in 1976 in years.\n",
    "* $\\texttt{age2}$: $\\texttt{age76}^2/100$."
   ]
  },
  {
   "cell_type": "markdown",
   "id": "43ed50dc-cfe9-441c-aa1f-8e03df618f5d",
   "metadata": {},
   "source": [
    "## (Estimated) Reduced Forms"
   ]
  },
  {
   "cell_type": "markdown",
   "id": "2de6c656-d94b-4cf4-afe4-8d68c6703ae6",
   "metadata": {},
   "source": [
    "### Scenario 1 - Options 1 & 2"
   ]
  },
  {
   "cell_type": "markdown",
   "id": "4d14218e-3d8d-48b4-bb31-5686cf1d0e83",
   "metadata": {},
   "source": [
    "**S1_lwage76_O1**: Regression of $\\texttt{lwage76}$ on $\\texttt{exp}$, $\\texttt{exp2}$, $\\texttt{black}$, $\\texttt{reg76r}$, $\\texttt{smsa76r}$, $\\texttt{nearc4}$.\n",
    "\n",
    "**S1_ed76_O1**: Regression of $\\texttt{ed76}$ on $\\texttt{exp}$, $\\texttt{exp2}$, $\\texttt{black}$, $\\texttt{reg76r}$, $\\texttt{smsa76r}$, $\\texttt{nearc4}$.\n",
    "\n",
    "**S1_lwage76_O2**: Regression of $\\texttt{lwage76}$ on $\\texttt{exp}$, $\\texttt{exp2}$, $\\texttt{black}$, $\\texttt{reg76r}$, $\\texttt{smsa76r}$, $\\texttt{nearc4a}$, $\\texttt{nearc4b}$.\n",
    "\n",
    "**S1_ed76_O2**: Regression of $\\texttt{ed76}$ on $\\texttt{exp}$, $\\texttt{exp2}$, $\\texttt{black}$, $\\texttt{reg76r}$, $\\texttt{smsa76r}$, $\\texttt{nearc4a}$, $\\texttt{nearc4b}$."
   ]
  },
  {
   "cell_type": "code",
   "execution_count": 4,
   "id": "b7172294-35de-4a5c-ba6f-9690698f7f4e",
   "metadata": {},
   "outputs": [
    {
     "name": "stdout",
     "output_type": "stream",
     "text": [
      "\n",
      "\n",
      "--------------------------------------------------------------\n",
      "    Variable | S1_lwag~1   S1_ed76~1   S1_lwag~2   S1_ed76~2  \n",
      "-------------+------------------------------------------------\n",
      "         exp |     0.053      -0.410       0.053      -0.413  \n",
      "        exp2 |    -0.219       0.073      -0.215       0.093  \n",
      "       black |    -0.264      -1.006      -0.264      -1.006  \n",
      "      reg76r |    -0.143      -0.291      -0.138      -0.267  \n",
      "     smsa76r |     0.185       0.404       0.184       0.400  \n",
      "      nearc4 |     0.045       0.337                          \n",
      "     nearc4a |                             0.064       0.430  \n",
      "     nearc4b |                            -0.000       0.123  \n",
      "       _cons |     5.957      16.659       5.956      16.657  \n",
      "--------------------------------------------------------------\n"
     ]
    }
   ],
   "source": [
    "stata.run('''\n",
    "quietly reg lwage76 exp exp2 black reg76r smsa76r nearc4, robust\n",
    "estimates store S1_lwage76_O1\n",
    "quietly reg ed76 exp exp2 black reg76r smsa76r nearc4, robust\n",
    "estimates store S1_ed76_O1\n",
    "quietly reg lwage76 exp exp2 black reg76r smsa76r nearc4a nearc4b, robust\n",
    "estimates store S1_lwage76_O2\n",
    "quietly reg ed76 exp exp2 black reg76r smsa76r nearc4a nearc4b, robust\n",
    "estimates store S1_ed76_O2\n",
    "''',quietly=True)\n",
    "%stata estimates table S1_lwage76_O1 S1_ed76_O1 S1_lwage76_O2 S1_ed76_O2, b(%9.3f)"
   ]
  },
  {
   "cell_type": "markdown",
   "id": "300a0309-0527-4404-8161-e96a1a3cc0f8",
   "metadata": {},
   "source": [
    "### Scenario 2 - Options 1 & 2"
   ]
  },
  {
   "cell_type": "markdown",
   "id": "33ba55af-137e-48c9-afb7-524b4f556494",
   "metadata": {},
   "source": [
    "**S2_lwage76_O1**: Regression of $\\texttt{lwage76}$ on $\\texttt{black}$, $\\texttt{reg76r}$, $\\texttt{smsa76r}$, $\\texttt{nearc4}$, $\\texttt{age76}$, $\\texttt{age2}$.\n",
    "\n",
    "**S2_ed76_O1**: Regression of $\\texttt{ed76}$ on $\\texttt{black}$, $\\texttt{reg76r}$, $\\texttt{smsa76r}$, $\\texttt{nearc4}$, $\\texttt{age76}$, $\\texttt{age2}$.\n",
    "\n",
    "**S2_exp_O1**: Regression of $\\texttt{exp}$ on $\\texttt{black}$, $\\texttt{reg76r}$, $\\texttt{smsa76r}$, $\\texttt{nearc4}$, $\\texttt{age76}$, $\\texttt{age2}$.\n",
    "\n",
    "**S2_exp2_O1**: Regression of $\\texttt{exp2}$ on $\\texttt{black}$, $\\texttt{reg76r}$, $\\texttt{smsa76r}$, $\\texttt{nearc4}$, $\\texttt{age76}$, $\\texttt{age2}$.\n"
   ]
  },
  {
   "cell_type": "code",
   "execution_count": 5,
   "id": "cc7258e2-9d66-477b-a1c4-1e518c16e431",
   "metadata": {},
   "outputs": [
    {
     "name": "stdout",
     "output_type": "stream",
     "text": [
      "\n",
      "\n",
      "--------------------------------------------------------------\n",
      "    Variable | S2_lwag~1   S2_ed76~1   S2_exp_O1   S2_exp2~1  \n",
      "-------------+------------------------------------------------\n",
      "       black |    -0.239      -1.468       1.468       0.282  \n",
      "      reg76r |    -0.142      -0.460       0.460       0.112  \n",
      "     smsa76r |     0.186       0.835      -0.835      -0.176  \n",
      "      nearc4 |     0.032       0.347      -0.347      -0.073  \n",
      "       age76 |     0.182       1.061      -0.061      -0.555  \n",
      "        age2 |    -0.249      -1.876       1.876       1.313  \n",
      "       _cons |     3.101      -1.869      -4.131       6.099  \n",
      "--------------------------------------------------------------\n"
     ]
    }
   ],
   "source": [
    "stata.run('''\n",
    "quietly reg lwage76 black reg76r smsa76r nearc4 age76 age2, robust\n",
    "estimates store S2_lwage76_O1\n",
    "quietly reg ed76 black reg76r smsa76r nearc4 age76 age2, robust\n",
    "estimates store S2_ed76_O1\n",
    "quietly reg exp black reg76r smsa76r nearc4 age76 age2, robust\n",
    "estimates store S2_exp_O1\n",
    "quietly reg exp2 black reg76r smsa76r nearc4 age76 age2, robust\n",
    "estimates store S2_exp2_O1\n",
    "''',quietly=True)\n",
    "%stata estimates table S2_lwage76_O1 S2_ed76_O1 S2_exp_O1 S2_exp2_O1, b(%9.3f)"
   ]
  },
  {
   "cell_type": "markdown",
   "id": "5863aee9-4635-43f7-bf4e-f5c5dc07ab2d",
   "metadata": {},
   "source": [
    "**S2_lwage76_O2**: Regression of $\\texttt{lwage76}$ on $\\texttt{black}$, $\\texttt{reg76r}$, $\\texttt{smsa76r}$, $\\texttt{nearc4a}$, $\\texttt{nearc4b}$, $\\texttt{age76}$, $\\texttt{age2}$.\n",
    "\n",
    "**S2_ed76_O2**: Regression of $\\texttt{ed76}$ on $\\texttt{black}$, $\\texttt{reg76r}$, $\\texttt{smsa76r}$, $\\texttt{nearc4a}$, $\\texttt{nearc4b}$, $\\texttt{age76}$, $\\texttt{age2}$.\n",
    "\n",
    "**S2_exp_O2**: Regression of $\\texttt{exp}$ on $\\texttt{black}$, $\\texttt{reg76r}$, $\\texttt{smsa76r}$, $\\texttt{nearc4a}$, $\\texttt{nearc4b}$, $\\texttt{age76}$, $\\texttt{age2}$.\n",
    "\n",
    "**S2_exp2_O2**: Regression of $\\texttt{exp2}$ on $\\texttt{black}$, $\\texttt{reg76r}$, $\\texttt{smsa76r}$, $\\texttt{nearc4a}$, $\\texttt{nearc4b}$, $\\texttt{age76}$, $\\texttt{age2}$."
   ]
  },
  {
   "cell_type": "code",
   "execution_count": 6,
   "id": "cc9e457a-9bd1-483c-b994-3842beb71c3a",
   "metadata": {},
   "outputs": [
    {
     "name": "stdout",
     "output_type": "stream",
     "text": [
      "\n",
      "\n",
      "------------------------------------------------------------------\n",
      "    Variable | S2_lwage~2   S2_ed76_O2   S2_exp_O2    S2_exp2_O2  \n",
      "-------------+----------------------------------------------------\n",
      "       black | -.23859215   -1.4681378    1.4681378     .2820042  \n",
      "      reg76r | -.13758305   -.42700612    .42700612    .10354738  \n",
      "     smsa76r |  .18523367     .8284784    -.8284784   -.17380163  \n",
      "     nearc4a |  .05073151    .46941488   -.46941488   -.10327114  \n",
      "     nearc4b | -.00943173    .06598527   -.06598527   -.00180781  \n",
      "       age76 |    .181765    1.0612174   -.06121738   -.55446262  \n",
      "        age2 | -.24908546   -1.8771542    1.8771542     1.313498  \n",
      "       _cons |  3.1007129    -1.869194    -4.130806    6.0993322  \n",
      "------------------------------------------------------------------\n"
     ]
    }
   ],
   "source": [
    "stata.run(\n",
    "'''\n",
    "quietly reg lwage76 black reg76r smsa76r nearc4a nearc4b age76 age2, robust\n",
    "estimates store S2_lwage76_O2\n",
    "quietly reg ed76 black reg76r smsa76r nearc4a nearc4b age76 age2, robust\n",
    "estimates store S2_ed76_O2\n",
    "quietly reg exp black reg76r smsa76r nearc4a nearc4b age76 age2, robust\n",
    "estimates store S2_exp_O2\n",
    "quietly reg exp2 black reg76r smsa76r nearc4a nearc4b age76 age2, robust\n",
    "estimates store S2_exp2_O2\n",
    "''',quietly=True)\n",
    "\n",
    "%stata estimates table S2_lwage76_O2 S2_ed76_O2 S2_exp_O2 S2_exp2_O2"
   ]
  },
  {
   "cell_type": "markdown",
   "id": "82ee7c0e-9759-409d-87ad-285696d25076",
   "metadata": {},
   "source": [
    "## Instrumental Variable Estimation ($\\ell = k$)"
   ]
  },
  {
   "cell_type": "code",
   "execution_count": 7,
   "id": "014cb297-240f-46aa-a35c-95e327b4d419",
   "metadata": {},
   "outputs": [
    {
     "name": "stdout",
     "output_type": "stream",
     "text": [
      "\n",
      "\n",
      "--------------------------------------\n",
      "    Variable |   S1_O1       S2_O1    \n",
      "-------------+------------------------\n",
      "        ed76 |     0.132       0.133  \n",
      "         exp |     0.107       0.056  \n",
      "        exp2 |    -0.228      -0.080  \n",
      "       black |    -0.131      -0.103  \n",
      "      reg76r |    -0.105      -0.098  \n",
      "     smsa76r |     0.131       0.108  \n",
      "       _cons |     3.753       4.066  \n",
      "--------------------------------------\n"
     ]
    }
   ],
   "source": [
    "stata.run(\n",
    "'''\n",
    "quietly ivregress 2sls lwage76 exp exp2 black reg76r smsa76r (ed76 = nearc4), robust\n",
    "estimates store S1_O1\n",
    "quietly ivregress 2sls lwage76 black reg76r smsa76r (ed76 exp exp2 = nearc4 age76 age2), robust perfect\n",
    "estimates store S2_O1\n",
    "''',quietly=True)\n",
    "\n",
    "%stata estimates table S1_O1 S2_O1, b(%9.3f)"
   ]
  },
  {
   "cell_type": "markdown",
   "id": "23030f9c-9de9-4285-abb3-4520d15cdff5",
   "metadata": {},
   "source": [
    "## Two-Stage Least Squares ($\\ell>k$)"
   ]
  },
  {
   "cell_type": "code",
   "execution_count": 8,
   "id": "6d09e86e-ea09-4b16-bf67-69ff5931bdcc",
   "metadata": {},
   "outputs": [
    {
     "name": "stdout",
     "output_type": "stream",
     "text": [
      "\n",
      "\n",
      "--------------------------------------\n",
      "    Variable |   S1_O2       S2_O2    \n",
      "-------------+------------------------\n",
      "        ed76 |     0.161       0.160  \n",
      "         exp |     0.119       0.047  \n",
      "        exp2 |    -0.231      -0.032  \n",
      "       black |    -0.102      -0.064  \n",
      "      reg76r |    -0.095      -0.086  \n",
      "     smsa76r |     0.116       0.083  \n",
      "       _cons |     3.268       3.748  \n",
      "--------------------------------------\n"
     ]
    }
   ],
   "source": [
    "stata.run(\n",
    "'''\n",
    "quietly ivregress 2sls lwage76 exp exp2 black reg76r smsa76r (ed76 = nearc4a nearc4b), robust\n",
    "estimates store S1_O2\n",
    "quietly ivregress 2sls lwage76 black reg76r smsa76r (ed76 exp exp2 = nearc4a nearc4b age76 age2), robust perfect\n",
    "estimates store S2_O2\n",
    "''',quietly=True)\n",
    "\n",
    "%stata estimates table S1_O2 S2_O2, b(%9.3f)"
   ]
  },
  {
   "cell_type": "code",
   "execution_count": 9,
   "id": "690d5db8-8dfd-45fd-b9a6-950270cea1d6",
   "metadata": {},
   "outputs": [
    {
     "name": "stdout",
     "output_type": "stream",
     "text": [
      "\n",
      "--------------------------------------\n",
      "    Variable |   S1_O2       S2_O2    \n",
      "-------------+------------------------\n",
      "        ed76 |     0.161       0.160  \n",
      "             |     0.040       0.041  \n",
      "         exp |     0.119       0.047  \n",
      "             |     0.018       0.025  \n",
      "        exp2 |    -0.231      -0.032  \n",
      "             |     0.037       0.127  \n",
      "       black |    -0.102      -0.064  \n",
      "             |     0.044       0.061  \n",
      "      reg76r |    -0.095      -0.086  \n",
      "             |     0.022       0.026  \n",
      "     smsa76r |     0.116       0.083  \n",
      "             |     0.026       0.041  \n",
      "       _cons |     3.268       3.748  \n",
      "             |     0.682       0.484  \n",
      "--------------------------------------\n",
      "                          Legend: b/se\n"
     ]
    }
   ],
   "source": [
    "%stata estimates table S1_O2 S2_O2, b(%9.3f) se"
   ]
  }
 ],
 "metadata": {
  "kernelspec": {
   "display_name": "Python 3 (ipykernel)",
   "language": "python",
   "name": "python3"
  },
  "language_info": {
   "codemirror_mode": {
    "name": "ipython",
    "version": 3
   },
   "file_extension": ".py",
   "mimetype": "text/x-python",
   "name": "python",
   "nbconvert_exporter": "python",
   "pygments_lexer": "ipython3",
   "version": "3.10.8"
  }
 },
 "nbformat": 4,
 "nbformat_minor": 5
}
