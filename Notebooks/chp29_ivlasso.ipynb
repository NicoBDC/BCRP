{
 "cells": [
  {
   "cell_type": "code",
   "execution_count": 1,
   "id": "e72b1924-704b-4bc1-acf8-2540afd3e535",
   "metadata": {},
   "outputs": [
    {
     "name": "stdout",
     "output_type": "stream",
     "text": [
      "\n",
      "  ___  ____  ____  ____  ____ ®\n",
      " /__    /   ____/   /   ____/      17.0\n",
      "___/   /   /___/   /   /___/       MP—Parallel Edition\n",
      "\n",
      " Statistics and Data Science       Copyright 1985-2021 StataCorp LLC\n",
      "                                   StataCorp\n",
      "                                   4905 Lakeway Drive\n",
      "                                   College Station, Texas 77845 USA\n",
      "                                   800-STATA-PC        https://www.stata.com\n",
      "                                   979-696-4600        stata@stata.com\n",
      "\n",
      "Stata license: Single-user 4-core  perpetual\n",
      "Serial number: 501706303466\n",
      "  Licensed to: David Tomas Jacho-Chavez\n",
      "               Emory University\n",
      "\n",
      "Notes:\n",
      "      1. Unicode is supported; see help unicode_advice.\n",
      "      2. More than 2 billion observations are allowed; see help obs_advice.\n",
      "      3. Maximum number of variables is set to 5,000; see help set_maxvar.\n"
     ]
    }
   ],
   "source": [
    "import stata_setup\n",
    "stata_setup.config(\"C:/Program Files/Stata17/\", \"mp\")"
   ]
  },
  {
   "cell_type": "markdown",
   "id": "26415951-c510-4238-bac7-4638316da56c",
   "metadata": {},
   "source": [
    "## Lasso IV"
   ]
  },
  {
   "cell_type": "code",
   "execution_count": 2,
   "id": "525047ef-b9b0-4621-ac2d-d5e09c82b37c",
   "metadata": {},
   "outputs": [
    {
     "name": "stdout",
     "output_type": "stream",
     "text": [
      "\n",
      ". use https://www.stata-press.com/data/r17/mroz, clear\n",
      "\n",
      ". vl create exogbase = (exper age husage kidslt6 kidsge6 city)\n",
      "note: $exogbase initialized with 6 variables.\n",
      "\n",
      ". note: $exogbase initialized with 6 variables.\n",
      "\n",
      ". vl create instbase = (motheduc fatheduc huseduc)\n",
      "note: $instbase initialized with 3 variables.\n",
      "\n",
      ". note: $instbase initialized with 3 variables.\n",
      "\n",
      ". \n"
     ]
    }
   ],
   "source": [
    "%%stata\n",
    "use https://www.stata-press.com/data/r17/mroz, clear\n",
    "vl create exogbase = (exper age husage kidslt6 kidsge6 city)\n",
    "note: $exogbase initialized with 6 variables.\n",
    "vl create instbase = (motheduc fatheduc huseduc)\n",
    "note: $instbase initialized with 3 variables."
   ]
  },
  {
   "cell_type": "markdown",
   "id": "4591589e-500b-4d48-8a53-021a5efdad36",
   "metadata": {},
   "source": [
    "Let's add ```c.instbase#c.instbase``` to the list of potential instruments. The ```#``` is the factor-variable operator for interaction. It can interact categorical variables, continuous variables, or both. The ```c.``` prefix tells the ```#``` operator to treat the lists as continuous variables. ```#``` assumes categorical variables unless told otherwise."
   ]
  },
  {
   "cell_type": "code",
   "execution_count": 3,
   "id": "4215b52b-df69-4c5d-863c-734835ffca31",
   "metadata": {},
   "outputs": [
    {
     "name": "stdout",
     "output_type": "stream",
     "text": [
      "\n",
      ". vl substitute inst = c.instbase c.instbase#c.instbase\n",
      "\n",
      ". macro list inst\n",
      "inst:           motheduc fatheduc huseduc c.motheduc#c.motheduc\n",
      "                c.motheduc#c.fatheduc c.motheduc#c.huseduc\n",
      "                c.fatheduc#c.fatheduc c.fatheduc#c.huseduc c.huseduc#c.huseduc\n",
      "\n",
      ". \n"
     ]
    }
   ],
   "source": [
    "%%stata\n",
    "vl substitute inst = c.instbase c.instbase#c.instbase\n",
    "macro list inst"
   ]
  },
  {
   "cell_type": "markdown",
   "id": "a50c1378-5073-45bc-bfb8-6aa23667c172",
   "metadata": {},
   "source": [
    "We count nine terms—three linear terms and six interactions (including quadratic terms)."
   ]
  },
  {
   "cell_type": "markdown",
   "id": "efa87e9f-b6dc-453e-9ffc-e3dcdd4f0e7a",
   "metadata": {},
   "source": [
    "IV Lasso can be implemented in Stata using the downloadable package [ivlasso](https://statalasso.github.io/docs/pdslasso/). You would need to run the following commands on your local Stata installation while connected to the internet\n",
    "```\n",
    "ssc install ranktest\n",
    "ssc install ivreg2\n",
    "ssc install lassopack\n",
    "net install pdslasso, ///\n",
    "\tfrom(\"https://raw.githubusercontent.com/statalasso/pdslasso/master/\") \n",
    "```\n"
   ]
  },
  {
   "cell_type": "code",
   "execution_count": 4,
   "id": "280390fc-5194-49d1-9a32-e234cf82bfcd",
   "metadata": {},
   "outputs": [
    {
     "name": "stdout",
     "output_type": "stream",
     "text": [
      "5.  (PDS/CHS) Selecting HD controls/IVs for endog regressor educ...\n",
      "Selected: c.motheduc#c.huseduc c.fatheduc#c.huseduc c.huseduc#c.huseduc\n",
      "7.  (CHS) Creating orthogonalized endogenous regressor educ...\n",
      "\n",
      "\n",
      "Estimation results:\n",
      "\n",
      "Specification:\n",
      "Regularization method:                 lasso\n",
      "Penalty loadings:                      heteroskedastic\n",
      "Number of observations:                428\n",
      "Exogenous (6):                         exper age husage kidslt6 kidsge6 city\n",
      "Endogenous (1):                        educ\n",
      "Unpenalized controls (1):              _cons\n",
      "High-dim instruments (9):              motheduc fatheduc huseduc\n",
      "                                       c.motheduc#c.motheduc\n",
      "                                       c.motheduc#c.fatheduc\n",
      "                                       c.motheduc#c.huseduc\n",
      "                                       c.fatheduc#c.fatheduc\n",
      "                                       c.fatheduc#c.huseduc c.huseduc#c.huseduc\n",
      "Selected instruments (3):              c.motheduc#c.huseduc\n",
      "                                       c.fatheduc#c.huseduc c.huseduc#c.huseduc\n",
      "\n",
      "Structural equation:\n",
      "\n",
      "IV using CHS lasso-orthogonalized vars\n",
      "------------------------------------------------------------------------------\n",
      "             |               Robust\n",
      "       lwage | Coefficient  std. err.      z    P>|z|     [95% conf. interval]\n",
      "-------------+----------------------------------------------------------------\n",
      "        educ |   .0770684   .0222042     3.47   0.001     .0335489    .1205878\n",
      "       exper |   .0155895    .005177     3.01   0.003     .0054428    .0257362\n",
      "         age |  -.0039944   .0103375    -0.39   0.699    -.0242555    .0162668\n",
      "      husage |  -.0006752   .0092776    -0.07   0.942     -.018859    .0175086\n",
      "     kidslt6 |  -.0580253   .1088754    -0.53   0.594    -.2714172    .1553666\n",
      "     kidsge6 |  -.0230113   .0287876    -0.80   0.424    -.0794339    .0334113\n",
      "        city |   .0851439   .0652597     1.30   0.192    -.0427628    .2130506\n",
      "------------------------------------------------------------------------------\n",
      "\n",
      "IV using CHS post-lasso-orthogonalized vars\n",
      "------------------------------------------------------------------------------\n",
      "             |               Robust\n",
      "       lwage | Coefficient  std. err.      z    P>|z|     [95% conf. interval]\n",
      "-------------+----------------------------------------------------------------\n",
      "        educ |   .0770379    .022103     3.49   0.000     .0337167     .120359\n",
      "       exper |   .0155894   .0051772     3.01   0.003     .0054423    .0257364\n",
      "         age |  -.0039945   .0103375    -0.39   0.699    -.0242556    .0162666\n",
      "      husage |  -.0006758    .009278    -0.07   0.942    -.0188604    .0175088\n",
      "     kidslt6 |   -.058006   .1090187    -0.53   0.595    -.2716787    .1556667\n",
      "     kidsge6 |  -.0230178    .028822    -0.80   0.425    -.0795079    .0334723\n",
      "        city |   .0851661   .0652405     1.31   0.192     -.042703    .2130352\n",
      "------------------------------------------------------------------------------\n",
      "\n",
      "IV with PDS-selected variables and full regressor set\n",
      "------------------------------------------------------------------------------\n",
      "             |               Robust\n",
      "       lwage | Coefficient  std. err.      z    P>|z|     [95% conf. interval]\n",
      "-------------+----------------------------------------------------------------\n",
      "        educ |   .0767131   .0220963     3.47   0.001     .0334052     .120021\n",
      "       exper |   .0155884   .0051772     3.01   0.003     .0054412    .0257356\n",
      "         age |  -.0039955   .0103389    -0.39   0.699    -.0242593    .0162684\n",
      "      husage |  -.0006825   .0092797    -0.07   0.941    -.0188704    .0175054\n",
      "     kidslt6 |  -.0578002   .1090126    -0.53   0.596     -.271461    .1558606\n",
      "     kidsge6 |  -.0230868   .0288179    -0.80   0.423    -.0795688    .0333953\n",
      "        city |   .0854025   .0652437     1.31   0.191    -.0424728    .2132779\n",
      "       _cons |   .1985905   .3655969     0.54   0.587    -.5179663    .9151473\n",
      "------------------------------------------------------------------------------\n",
      "Standard errors and test statistics valid for the following variables only:\n",
      "    educ exper age husage kidslt6 kidsge6 city\n",
      "------------------------------------------------------------------------------\n"
     ]
    }
   ],
   "source": [
    "%%stata\n",
    "ivlasso lwage $exogbase (educ=$inst), robust"
   ]
  }
 ],
 "metadata": {
  "kernelspec": {
   "display_name": "Python 3 (ipykernel)",
   "language": "python",
   "name": "python3"
  },
  "language_info": {
   "codemirror_mode": {
    "name": "ipython",
    "version": 3
   },
   "file_extension": ".py",
   "mimetype": "text/x-python",
   "name": "python",
   "nbconvert_exporter": "python",
   "pygments_lexer": "ipython3",
   "version": "3.9.6"
  }
 },
 "nbformat": 4,
 "nbformat_minor": 5
}
