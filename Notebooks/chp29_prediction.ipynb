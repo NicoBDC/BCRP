{
 "cells": [
  {
   "cell_type": "code",
   "execution_count": null,
   "id": "eb2181f4-e15a-42fc-967e-483a3238aea5",
   "metadata": {},
   "outputs": [],
   "source": [
    "import stata_setup\n",
    "stata_setup.config(\"C:/Program Files/Stata17/\", \"mp\")"
   ]
  },
  {
   "cell_type": "markdown",
   "id": "9d20ce8a-757c-4d2a-a480-6a0d3d6aec7c",
   "metadata": {},
   "source": [
    "## Preparing the data"
   ]
  },
  {
   "cell_type": "code",
   "execution_count": null,
   "id": "1fe9c6c6-2b34-490f-a38c-709c2a282c7d",
   "metadata": {},
   "outputs": [],
   "source": [
    "%%stata\n",
    "use ../Data/breathe, clear\n",
    "quietly do ../Do/no2\n",
    "display \"$cc\"\n",
    "display \"$fc\""
   ]
  },
  {
   "cell_type": "markdown",
   "id": "4f3f1d3a-f3fb-40e1-94f3-d19f0fc5245c",
   "metadata": {},
   "source": [
    "We use ```splitsample``` with the option ```split(.75 .25)``` to generate the variable ```sample```, which is 1 for a 75% of the sample and 2 for the remaining 25% of the sample. The assignment of each observation in sample to 1 or 2 is random, but the ```rseed``` option makes the random assignment reproducible."
   ]
  },
  {
   "cell_type": "code",
   "execution_count": null,
   "id": "7641334f-9534-45f5-b25d-2f234a70c66e",
   "metadata": {},
   "outputs": [],
   "source": [
    "%%stata\n",
    "splitsample , generate(sample) split(.75 .25) rseed(52)\n",
    "label define slabel 1 \"Training\" 2 \"Validation\"\n",
    "label values sample slabel\n",
    "tabulate sample"
   ]
  },
  {
   "cell_type": "markdown",
   "id": "b5755949-0110-48bb-844b-adcd5e5443d8",
   "metadata": {},
   "source": [
    "## OLS"
   ]
  },
  {
   "cell_type": "code",
   "execution_count": null,
   "id": "01e5b4ae-0223-4c39-a1c9-99697546ec48",
   "metadata": {},
   "outputs": [],
   "source": [
    "%%stata\n",
    "quietly regress react no2_class $cc i.($fc) if sample==1\n",
    "estimate store ols"
   ]
  },
  {
   "cell_type": "markdown",
   "id": "4b9bb11b-b184-41d1-a494-582b6533ae64",
   "metadata": {
    "tags": []
   },
   "source": [
    "## Ridge"
   ]
  },
  {
   "cell_type": "code",
   "execution_count": null,
   "id": "a2f0f29e-19ea-46f7-ba23-6bdc375e1202",
   "metadata": {},
   "outputs": [],
   "source": [
    "%%stata\n",
    "quietly elasticnet linear react no2_class $cc i.($fc) if sample==1, alpha(0) lambda(0.1(.005)0.3) folds(781) nolog\n",
    "estimate store ridge"
   ]
  },
  {
   "cell_type": "markdown",
   "id": "b2dec894-b977-44ea-98e0-9315aff9d7d0",
   "metadata": {},
   "source": [
    "## Lasso"
   ]
  },
  {
   "cell_type": "code",
   "execution_count": null,
   "id": "2e0d8f24-223d-4c7d-b287-0babc1b6f625",
   "metadata": {},
   "outputs": [],
   "source": [
    "%%stata\n",
    "quietly lasso linear react no2_class $cc i.($fc) if sample==1, folds(20) rseed(52) nolog\n",
    "estimate store lasso"
   ]
  },
  {
   "cell_type": "markdown",
   "id": "f87d872e-2979-4b9f-950d-876348ef6057",
   "metadata": {},
   "source": [
    "## Elastic Net"
   ]
  },
  {
   "cell_type": "code",
   "execution_count": null,
   "id": "a955f5ef-f32b-4cdd-b180-12759c65982c",
   "metadata": {},
   "outputs": [],
   "source": [
    "%%stata\n",
    "quietly elasticnet linear react no2_class $cc i.($fc) if sample==1, alpha(.02 (0.02) .1) nolog folds(20) rseed(52)\n",
    "estimate store elasticnet"
   ]
  },
  {
   "cell_type": "markdown",
   "id": "3f126596-5656-49ee-b652-2d72e64d375c",
   "metadata": {},
   "source": [
    "## In- \\& Out-of-Sample Prediction"
   ]
  },
  {
   "cell_type": "code",
   "execution_count": null,
   "id": "07a4147e-017e-4b25-92c4-3ecb85db834f",
   "metadata": {},
   "outputs": [],
   "source": [
    "%%stata\n",
    "lassogof ols ridge lasso elasticnet, over(sample)"
   ]
  },
  {
   "cell_type": "markdown",
   "id": "c3eab2b0-6112-4122-9b6f-c1903a21d664",
   "metadata": {},
   "source": [
    "<strong>Postselection</strong> coefficients should not be used with <em>elasticnet</em> and, in particular, with <em>ridge regression</em>. Ridge works by shrinking the coefficient estimates, and these are the estimates that should be used for prediction. Because postselection coefficients are OLS regression coefficients for the selected coefficients and because ridge always selects all variables, postselection coefficients after ridge are OLS regression coefficients for all potential variables, which clearly we do not want to use for prediction.\n"
   ]
  }
 ],
 "metadata": {
  "kernelspec": {
   "display_name": "Python 3",
   "language": "python",
   "name": "python3"
  },
  "language_info": {
   "codemirror_mode": {
    "name": "ipython",
    "version": 3
   },
   "file_extension": ".py",
   "mimetype": "text/x-python",
   "name": "python",
   "nbconvert_exporter": "python",
   "pygments_lexer": "ipython3",
   "version": "3.9.6"
  },
  "vscode": {
   "interpreter": {
    "hash": "11938c6bc6919ae2720b4d5011047913343b08a43b18698fd82dedb0d4417594"
   }
  }
 },
 "nbformat": 4,
 "nbformat_minor": 5
}
