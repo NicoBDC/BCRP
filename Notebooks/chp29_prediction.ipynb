{
 "cells": [
  {
   "cell_type": "code",
   "execution_count": 1,
   "id": "eb2181f4-e15a-42fc-967e-483a3238aea5",
   "metadata": {},
   "outputs": [
    {
     "name": "stdout",
     "output_type": "stream",
     "text": [
      "\n",
      "  ___  ____  ____  ____  ____ ®\n",
      " /__    /   ____/   /   ____/      17.0\n",
      "___/   /   /___/   /   /___/       MP—Parallel Edition\n",
      "\n",
      " Statistics and Data Science       Copyright 1985-2021 StataCorp LLC\n",
      "                                   StataCorp\n",
      "                                   4905 Lakeway Drive\n",
      "                                   College Station, Texas 77845 USA\n",
      "                                   800-STATA-PC        https://www.stata.com\n",
      "                                   979-696-4600        stata@stata.com\n",
      "\n",
      "Stata license: Single-user 4-core  perpetual\n",
      "Serial number: 501706303466\n",
      "  Licensed to: David Tomas Jacho-Chavez\n",
      "               Emory University\n",
      "\n",
      "Notes:\n",
      "      1. Unicode is supported; see help unicode_advice.\n",
      "      2. More than 2 billion observations are allowed; see help obs_advice.\n",
      "      3. Maximum number of variables is set to 5,000; see help set_maxvar.\n"
     ]
    }
   ],
   "source": [
    "import stata_setup\n",
    "stata_setup.config(\"C:/Program Files/Stata17/\", \"mp\")"
   ]
  },
  {
   "cell_type": "markdown",
   "id": "9d20ce8a-757c-4d2a-a480-6a0d3d6aec7c",
   "metadata": {},
   "source": [
    "## Preparing the data"
   ]
  },
  {
   "cell_type": "code",
   "execution_count": 2,
   "id": "1fe9c6c6-2b34-490f-a38c-709c2a282c7d",
   "metadata": {},
   "outputs": [
    {
     "name": "stdout",
     "output_type": "stream",
     "text": [
      "\n",
      ". use https://www.stata-press.com/data/r17/breathe, clear\n",
      "(Nitrogen dioxide and attention)\n",
      "\n",
      ". quietly do https://www.stata-press.com/data/r17/no2\n",
      "\n",
      ". display \"$cc\"\n",
      "no2_home age age0 sev_home green_home noise_school sev_school precip siblings_o\n",
      "> ld siblings_young\n",
      "\n",
      ". display \"$fc\"\n",
      "sex grade overweight lbweight breastfeed msmoke meducation feducation\n",
      "\n",
      ". \n"
     ]
    }
   ],
   "source": [
    "%%stata\n",
    "use https://www.stata-press.com/data/r17/breathe, clear\n",
    "quietly do https://www.stata-press.com/data/r17/no2\n",
    "display \"$cc\"\n",
    "display \"$fc\""
   ]
  },
  {
   "cell_type": "markdown",
   "id": "4f3f1d3a-f3fb-40e1-94f3-d19f0fc5245c",
   "metadata": {},
   "source": [
    "We use ```splitsample``` with the option ```split(.75 .25)``` to generate the variable ```sample```, which is 1 for a 75% of the sample and 2 for the remaining 25% of the sample. The assignment of each observation in sample to 1 or 2 is random, but the ```rseed``` option makes the random assignment reproducible."
   ]
  },
  {
   "cell_type": "code",
   "execution_count": 3,
   "id": "7641334f-9534-45f5-b25d-2f234a70c66e",
   "metadata": {},
   "outputs": [
    {
     "name": "stdout",
     "output_type": "stream",
     "text": [
      "\n",
      ". splitsample , generate(sample) split(.75 .25) rseed(52)\n",
      "\n",
      ". label define slabel 1 \"Training\" 2 \"Validation\"\n",
      "\n",
      ". label values sample slabel\n",
      "\n",
      ". tabulate sample\n",
      "\n",
      "     sample |      Freq.     Percent        Cum.\n",
      "------------+-----------------------------------\n",
      "   Training |        817       75.02       75.02\n",
      " Validation |        272       24.98      100.00\n",
      "------------+-----------------------------------\n",
      "      Total |      1,089      100.00\n",
      "\n",
      ". \n"
     ]
    }
   ],
   "source": [
    "%%stata\n",
    "splitsample , generate(sample) split(.75 .25) rseed(52)\n",
    "label define slabel 1 \"Training\" 2 \"Validation\"\n",
    "label values sample slabel\n",
    "tabulate sample"
   ]
  },
  {
   "cell_type": "markdown",
   "id": "b5755949-0110-48bb-844b-adcd5e5443d8",
   "metadata": {},
   "source": [
    "## OLS"
   ]
  },
  {
   "cell_type": "code",
   "execution_count": 4,
   "id": "01e5b4ae-0223-4c39-a1c9-99697546ec48",
   "metadata": {},
   "outputs": [
    {
     "name": "stdout",
     "output_type": "stream",
     "text": [
      "\n",
      ". quietly regress react no2_class $cc i.($fc) if sample==1\n",
      "\n",
      ". estimate store ols\n",
      "\n",
      ". \n"
     ]
    }
   ],
   "source": [
    "%%stata\n",
    "quietly regress react no2_class $cc i.($fc) if sample==1\n",
    "estimate store ols"
   ]
  },
  {
   "cell_type": "markdown",
   "id": "4b9bb11b-b184-41d1-a494-582b6533ae64",
   "metadata": {
    "tags": []
   },
   "source": [
    "## Ridge"
   ]
  },
  {
   "cell_type": "code",
   "execution_count": 5,
   "id": "a2f0f29e-19ea-46f7-ba23-6bdc375e1202",
   "metadata": {},
   "outputs": [
    {
     "name": "stdout",
     "output_type": "stream",
     "text": [
      "\n",
      ". quietly elasticnet linear react no2_class $cc i.($fc) if sample==1, alpha(0) \n",
      "> lambda(0.1(.005)0.3) folds(781) nolog\n",
      "\n",
      ". estimate store ridge\n",
      "\n",
      ". \n"
     ]
    }
   ],
   "source": [
    "%%stata\n",
    "quietly elasticnet linear react no2_class $cc i.($fc) if sample==1, alpha(0) lambda(0.1(.005)0.3) folds(781) nolog\n",
    "estimate store ridge"
   ]
  },
  {
   "cell_type": "markdown",
   "id": "b2dec894-b977-44ea-98e0-9315aff9d7d0",
   "metadata": {},
   "source": [
    "## Lasso"
   ]
  },
  {
   "cell_type": "code",
   "execution_count": 6,
   "id": "2e0d8f24-223d-4c7d-b287-0babc1b6f625",
   "metadata": {},
   "outputs": [
    {
     "name": "stdout",
     "output_type": "stream",
     "text": [
      "\n",
      ". quietly lasso linear react no2_class $cc i.($fc) if sample==1, folds(20) rsee\n",
      "> d(52) nolog\n",
      "\n",
      ". estimate store lasso\n",
      "\n",
      ". \n"
     ]
    }
   ],
   "source": [
    "%%stata\n",
    "quietly lasso linear react no2_class $cc i.($fc) if sample==1, folds(20) rseed(52) nolog\n",
    "estimate store lasso"
   ]
  },
  {
   "cell_type": "markdown",
   "id": "f87d872e-2979-4b9f-950d-876348ef6057",
   "metadata": {},
   "source": [
    "## Elastic Net"
   ]
  },
  {
   "cell_type": "code",
   "execution_count": 7,
   "id": "a955f5ef-f32b-4cdd-b180-12759c65982c",
   "metadata": {},
   "outputs": [
    {
     "name": "stdout",
     "output_type": "stream",
     "text": [
      "\n",
      ". quietly elasticnet linear react no2_class $cc i.($fc) if sample==1, alpha(.02\n",
      ">  (0.02) .1) nolog folds(20) rseed(52)\n",
      "\n",
      ". estimate store elasticnet\n",
      "\n",
      ". \n"
     ]
    }
   ],
   "source": [
    "%%stata\n",
    "quietly elasticnet linear react no2_class $cc i.($fc) if sample==1, alpha(.02 (0.02) .1) nolog folds(20) rseed(52)\n",
    "estimate store elasticnet"
   ]
  },
  {
   "cell_type": "markdown",
   "id": "3f126596-5656-49ee-b652-2d72e64d375c",
   "metadata": {},
   "source": [
    "## In- \\& Out-of-Sample Prediction"
   ]
  },
  {
   "cell_type": "code",
   "execution_count": 8,
   "id": "07a4147e-017e-4b25-92c4-3ecb85db834f",
   "metadata": {},
   "outputs": [
    {
     "name": "stdout",
     "output_type": "stream",
     "text": [
      "\n",
      "Penalized coefficients\n",
      "-------------------------------------------------------------\n",
      "Name             sample |         MSE    R-squared        Obs\n",
      "------------------------+------------------------------------\n",
      "ols                     |\n",
      "               Training |    14749.69       0.2884        813\n",
      "             Validation |    16974.57       0.2386        271\n",
      "------------------------+------------------------------------\n",
      "ridge                   |\n",
      "               Training |    15490.39       0.2379        781\n",
      "             Validation |    18025.61       0.1916        255\n",
      "------------------------+------------------------------------\n",
      "lasso                   |\n",
      "               Training |    15863.91       0.2243        801\n",
      "             Validation |    18136.28       0.1936        266\n",
      "------------------------+------------------------------------\n",
      "elasticnet              |\n",
      "               Training |    15544.73       0.2352        781\n",
      "             Validation |    18055.63       0.1903        255\n",
      "-------------------------------------------------------------\n"
     ]
    }
   ],
   "source": [
    "%%stata\n",
    "lassogof ols ridge lasso elasticnet, over(sample)"
   ]
  },
  {
   "cell_type": "markdown",
   "id": "c3eab2b0-6112-4122-9b6f-c1903a21d664",
   "metadata": {},
   "source": [
    "<strong>Postselection</strong> coefficients should not be used with <em>elasticnet</em> and, in particular, with <em>ridge regression</em>. Ridge works by shrinking the coefficient estimates, and these are the estimates that should be used for prediction. Because postselection coefficients are OLS regression coefficients for the selected coefficients and because ridge always selects all variables, postselection coefficients after ridge are OLS regression coefficients for all potential variables, which clearly we do not want to use for prediction.\n"
   ]
  }
 ],
 "metadata": {
  "kernelspec": {
   "display_name": "Python 3 (ipykernel)",
   "language": "python",
   "name": "python3"
  },
  "language_info": {
   "codemirror_mode": {
    "name": "ipython",
    "version": 3
   },
   "file_extension": ".py",
   "mimetype": "text/x-python",
   "name": "python",
   "nbconvert_exporter": "python",
   "pygments_lexer": "ipython3",
   "version": "3.9.6"
  }
 },
 "nbformat": 4,
 "nbformat_minor": 5
}
