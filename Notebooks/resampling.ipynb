{
 "cells": [
  {
   "cell_type": "code",
   "execution_count": null,
   "id": "394601f6-b26e-40a8-9020-d24c892834b4",
   "metadata": {},
   "outputs": [],
   "source": [
    "import stata_setup\n",
    "stata_setup.config(\"C:/Program Files/Stata17/\", \"mp\")"
   ]
  },
  {
   "cell_type": "markdown",
   "id": "85d7b727-46ac-4bfc-bdbd-5d08b0d7d22d",
   "metadata": {},
   "source": [
    "## Resampling Methods"
   ]
  },
  {
   "cell_type": "code",
   "execution_count": null,
   "id": "62eee19d-0cbb-44b3-8552-5d09d4a183d5",
   "metadata": {},
   "outputs": [],
   "source": [
    "%%stata\n",
    "use ../Data/breathe, clear\n",
    "quietly do ../Do/no2"
   ]
  },
  {
   "cell_type": "markdown",
   "id": "0ca4da65-533b-4e31-ac68-1befded88a65",
   "metadata": {},
   "source": [
    "### Cross-Validation\n",
    "#### Validation Set Approach"
   ]
  },
  {
   "cell_type": "code",
   "execution_count": null,
   "id": "69ea103d-3c45-4d09-a344-36bb0b202eac",
   "metadata": {},
   "outputs": [],
   "source": [
    "%%stata\n",
    "splitsample , generate(sample) split(.80 .20) rseed(52)\n",
    "label define slabel 1 \"Training\" 2 \"Validation\"\n",
    "label values sample slabel\n",
    "tabulate sample"
   ]
  },
  {
   "cell_type": "code",
   "execution_count": null,
   "id": "1b3aae03-fe43-42b8-ab6f-fc070c8aed24",
   "metadata": {},
   "outputs": [],
   "source": [
    "%%stata\n",
    "quietly regress react no2_class $cc i.$fc if sample==1\n",
    "estimates store ols\n",
    "lassogof ols, over(sample)"
   ]
  },
  {
   "cell_type": "markdown",
   "id": "1df9bcda-ff86-402e-bd0d-55096f31a6d9",
   "metadata": {},
   "source": [
    "#### Leave-One-Out Cross-Validation"
   ]
  },
  {
   "cell_type": "markdown",
   "id": "8ebd1449-3951-4ccf-9e8d-e469c6245ec5",
   "metadata": {},
   "source": [
    "One needs to install the user-written package ```loocv``` by issuing the command ```ssc install loocv``` before executing the following code:"
   ]
  },
  {
   "cell_type": "code",
   "execution_count": null,
   "id": "cb7237b6-ac1b-4d50-9413-0bd2c0eb4094",
   "metadata": {},
   "outputs": [],
   "source": [
    "%%stata\n",
    "loocv regress react no2_class $cc i.$fc"
   ]
  },
  {
   "cell_type": "markdown",
   "id": "ec6c0dde-7da9-4f13-8069-e69e2c240e4f",
   "metadata": {},
   "source": [
    "Given the original sample $\\{Y_1,\\ldots,Y_n\\}$ and the loocv predictions $\\{\\widehat{Y}_1,\\ldots,\\widehat{Y}_n\\}$, then\n",
    "$$\n",
    "\\begin{align}\n",
    "\\text{Root Mean Squared Errors}&=&\\sqrt{n^{-1}\\sum_{i=1}^n(Y_i-\\widehat{Y}_i)^2}\\\\\n",
    "\\text{Mean Absolute Errors}&=&n^{-1}\\sum_{i=1}^n|Y_i-\\widehat{Y}_i|\\\\\n",
    "\\text{Pseudo-R2}&=&\\widehat{\\text{corr}}(Y_i,\\widehat{Y}_i)^2\n",
    "\\end{align}\n",
    "$$"
   ]
  },
  {
   "cell_type": "markdown",
   "id": "fffc4593-b59a-45de-98a7-29426a40fc65",
   "metadata": {},
   "source": [
    "#### _k_-Fold Cross-Validation"
   ]
  },
  {
   "cell_type": "markdown",
   "id": "ad7559b7-3ff3-4fcf-a94d-71f6a2c2c859",
   "metadata": {},
   "source": [
    "One needs to install the user-written package ```crossfold``` by issuing the command ```ssc install crossfold``` before executing the following code:"
   ]
  },
  {
   "cell_type": "code",
   "execution_count": null,
   "id": "2f84bb8f-6a10-4990-a62a-ffec71430119",
   "metadata": {},
   "outputs": [],
   "source": [
    "%%stata\n",
    "crossfold regress react no2_class $cc i.$fc, k(5) stub(fold)"
   ]
  },
  {
   "cell_type": "markdown",
   "id": "7c956b0b-593a-4572-80c1-85b47c928a70",
   "metadata": {},
   "source": [
    "Displaying the OLS estimates from the 3th fold"
   ]
  },
  {
   "cell_type": "code",
   "execution_count": null,
   "id": "b480d4ae-6995-475c-955a-ec43bcb3e241",
   "metadata": {},
   "outputs": [],
   "source": [
    "%%stata -eret steret\n",
    "estimates restore fold3"
   ]
  },
  {
   "cell_type": "code",
   "execution_count": null,
   "id": "3edf2902-1ee4-4516-b2ed-390239a70ddd",
   "metadata": {},
   "outputs": [],
   "source": [
    "steret['e(b)']"
   ]
  },
  {
   "cell_type": "code",
   "execution_count": null,
   "id": "d08b9dcd-9a85-4694-aa74-735996210381",
   "metadata": {},
   "outputs": [],
   "source": [
    "import pandas as pd\n",
    "from pystata import stata\n",
    "from sfi import Scalar, Matrix\n",
    "stata.run('qui crossfold regress react no2_class $cc i.$fc, k(5) stub(fold)')\n",
    "df_rmse = pd.DataFrame(sum(Matrix.get('r(fold)'),[]))\n",
    "rows = Matrix.getRowNames('r(fold)')\n",
    "\n",
    "stata.run('qui crossfold regress react no2_class $cc i.$fc, k(5) stub(fold) mae')\n",
    "df_mae = pd.DataFrame(sum(Matrix.get('r(fold)'),[]))\n",
    "\n",
    "stata.run('qui crossfold regress react no2_class $cc i.$fc, k(5) stub(fold) r2')\n",
    "df_r2 = pd.DataFrame(sum(Matrix.get('r(fold)'),[]))\n",
    "\n",
    "# Export to result with Dataframe format\n",
    "result = pd.concat([df_rmse,df_mae,df_r2],axis=1)\n",
    "result.columns = ['RMSE','MAE','pseudo R2']\n",
    "result.index = rows\n",
    "print(result)"
   ]
  },
  {
   "cell_type": "markdown",
   "id": "f4cf219a-e688-4554-adaa-787e3f0cd0f3",
   "metadata": {},
   "source": [
    "In this case $\\sqrt{CV_{(5)}}$ equals"
   ]
  },
  {
   "cell_type": "code",
   "execution_count": null,
   "id": "bda939e0-3af8-4654-bfe0-59bff0205adf",
   "metadata": {},
   "outputs": [],
   "source": [
    "import math as math\n",
    "import statistics as st\n",
    "print(math.sqrt(st.mean(result['RMSE']**2)))"
   ]
  }
 ],
 "metadata": {
  "kernelspec": {
   "display_name": "Python 3",
   "language": "python",
   "name": "python3"
  },
  "language_info": {
   "codemirror_mode": {
    "name": "ipython",
    "version": 3
   },
   "file_extension": ".py",
   "mimetype": "text/x-python",
   "name": "python",
   "nbconvert_exporter": "python",
   "pygments_lexer": "ipython3",
   "version": "3.9.6"
  },
  "vscode": {
   "interpreter": {
    "hash": "11938c6bc6919ae2720b4d5011047913343b08a43b18698fd82dedb0d4417594"
   }
  }
 },
 "nbformat": 4,
 "nbformat_minor": 5
}
