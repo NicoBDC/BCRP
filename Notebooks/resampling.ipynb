{
 "cells": [
  {
   "cell_type": "code",
   "execution_count": 1,
   "id": "394601f6-b26e-40a8-9020-d24c892834b4",
   "metadata": {},
   "outputs": [
    {
     "name": "stdout",
     "output_type": "stream",
     "text": [
      "\n",
      "  ___  ____  ____  ____  ____ ®\n",
      " /__    /   ____/   /   ____/      17.0\n",
      "___/   /   /___/   /   /___/       MP—Parallel Edition\n",
      "\n",
      " Statistics and Data Science       Copyright 1985-2021 StataCorp LLC\n",
      "                                   StataCorp\n",
      "                                   4905 Lakeway Drive\n",
      "                                   College Station, Texas 77845 USA\n",
      "                                   800-STATA-PC        https://www.stata.com\n",
      "                                   979-696-4600        stata@stata.com\n",
      "\n",
      "Stata license: Single-user 4-core  perpetual\n",
      "Serial number: 501706303466\n",
      "  Licensed to: David Tomas Jacho-Chavez\n",
      "               Emory University\n",
      "\n",
      "Notes:\n",
      "      1. Unicode is supported; see help unicode_advice.\n",
      "      2. More than 2 billion observations are allowed; see help obs_advice.\n",
      "      3. Maximum number of variables is set to 5,000; see help set_maxvar.\n"
     ]
    }
   ],
   "source": [
    "import stata_setup\n",
    "stata_setup.config(\"C:/Program Files/Stata17/\", \"mp\")"
   ]
  },
  {
   "cell_type": "markdown",
   "id": "85d7b727-46ac-4bfc-bdbd-5d08b0d7d22d",
   "metadata": {},
   "source": [
    "## Resampling Methods"
   ]
  },
  {
   "cell_type": "code",
   "execution_count": 2,
   "id": "62eee19d-0cbb-44b3-8552-5d09d4a183d5",
   "metadata": {},
   "outputs": [
    {
     "name": "stdout",
     "output_type": "stream",
     "text": [
      "\n",
      ". use https://www.stata-press.com/data/r17/breathe, clear\n",
      "(Nitrogen dioxide and attention)\n",
      "\n",
      ". quietly do https://www.stata-press.com/data/r17/no2\n",
      "\n",
      ". \n"
     ]
    }
   ],
   "source": [
    "%%stata\n",
    "use https://www.stata-press.com/data/r17/breathe, clear\n",
    "quietly do https://www.stata-press.com/data/r17/no2"
   ]
  },
  {
   "cell_type": "markdown",
   "id": "0ca4da65-533b-4e31-ac68-1befded88a65",
   "metadata": {},
   "source": [
    "### Cross-Validation\n",
    "#### Validation Set Approach"
   ]
  },
  {
   "cell_type": "code",
   "execution_count": 3,
   "id": "69ea103d-3c45-4d09-a344-36bb0b202eac",
   "metadata": {},
   "outputs": [
    {
     "name": "stdout",
     "output_type": "stream",
     "text": [
      "\n",
      ". splitsample , generate(sample) split(.80 .20) rseed(52)\n",
      "\n",
      ". label define slabel 1 \"Training\" 2 \"Validation\"\n",
      "\n",
      ". label values sample slabel\n",
      "\n",
      ". tabulate sample\n",
      "\n",
      "     sample |      Freq.     Percent        Cum.\n",
      "------------+-----------------------------------\n",
      "   Training |        871       79.98       79.98\n",
      " Validation |        218       20.02      100.00\n",
      "------------+-----------------------------------\n",
      "      Total |      1,089      100.00\n",
      "\n",
      ". \n"
     ]
    }
   ],
   "source": [
    "%%stata\n",
    "splitsample , generate(sample) split(.80 .20) rseed(52)\n",
    "label define slabel 1 \"Training\" 2 \"Validation\"\n",
    "label values sample slabel\n",
    "tabulate sample"
   ]
  },
  {
   "cell_type": "code",
   "execution_count": 4,
   "id": "1b3aae03-fe43-42b8-ab6f-fc070c8aed24",
   "metadata": {},
   "outputs": [
    {
     "name": "stdout",
     "output_type": "stream",
     "text": [
      "\n",
      ". quietly regress react no2_class $cc i.$fc if sample==1\n",
      "\n",
      ". estimates store ols\n",
      "\n",
      ". lassogof ols, over(sample)\n",
      "\n",
      "Penalized coefficients\n",
      "-------------------------------------------------------------\n",
      "Name             sample |         MSE    R-squared        Obs\n",
      "------------------------+------------------------------------\n",
      "ols                     |\n",
      "               Training |     15416.1       0.2710        866\n",
      "             Validation |    16086.88       0.2368        218\n",
      "-------------------------------------------------------------\n",
      "\n",
      ". \n"
     ]
    }
   ],
   "source": [
    "%%stata\n",
    "quietly regress react no2_class $cc i.$fc if sample==1\n",
    "estimates store ols\n",
    "lassogof ols, over(sample)"
   ]
  },
  {
   "cell_type": "markdown",
   "id": "1df9bcda-ff86-402e-bd0d-55096f31a6d9",
   "metadata": {},
   "source": [
    "#### Leave-One-Out Cross-Validation"
   ]
  },
  {
   "cell_type": "markdown",
   "id": "8ebd1449-3951-4ccf-9e8d-e469c6245ec5",
   "metadata": {},
   "source": [
    "One needs to install the user-written package ```loocv``` by issuing the command ```ssc install loocv``` before executing the following code:"
   ]
  },
  {
   "cell_type": "code",
   "execution_count": 5,
   "id": "cb7237b6-ac1b-4d50-9413-0bd2c0eb4094",
   "metadata": {},
   "outputs": [
    {
     "name": "stdout",
     "output_type": "stream",
     "text": [
      "\n",
      "\n",
      " Leave-One-Out Cross-Validation Results \n",
      "-----------------------------------------\n",
      "         Method          |    Value\n",
      "-------------------------+---------------\n",
      "Root Mean Squared Errors |   129.89159\n",
      "Mean Absolute Errors     |   103.40771\n",
      "Pseudo-R2                |   .19156592\n",
      "-----------------------------------------\n"
     ]
    }
   ],
   "source": [
    "%%stata\n",
    "loocv regress react no2_class $cc i.$fc"
   ]
  },
  {
   "cell_type": "markdown",
   "id": "ec6c0dde-7da9-4f13-8069-e69e2c240e4f",
   "metadata": {},
   "source": [
    "Given the original sample $\\{Y_1,\\ldots,Y_n\\}$ and the loocv predictions $\\{\\widehat{Y}_1,\\ldots,\\widehat{Y}_n\\}$, then\n",
    "$$\n",
    "\\begin{align}\n",
    "\\text{Root Mean Squared Errors}&=&\\sqrt{n^{-1}\\sum_{i=1}^n(Y_i-\\widehat{Y}_i)^2}\\\\\n",
    "\\text{Mean Absolute Errors}&=&n^{-1}\\sum_{i=1}^n|Y_i-\\widehat{Y}_i|\\\\\n",
    "\\text{Pseudo-R2}&=&\\widehat{\\text{corr}}(Y_i,\\widehat{Y}_i)^2\n",
    "\\end{align}\n",
    "$$"
   ]
  },
  {
   "cell_type": "markdown",
   "id": "fffc4593-b59a-45de-98a7-29426a40fc65",
   "metadata": {},
   "source": [
    "#### _k_-Fold Cross-Validation"
   ]
  },
  {
   "cell_type": "markdown",
   "id": "ad7559b7-3ff3-4fcf-a94d-71f6a2c2c859",
   "metadata": {},
   "source": [
    "One needs to install the user-written package ```crossfold``` by issuing the command ```ssc install crossfold``` before executing the following code:"
   ]
  },
  {
   "cell_type": "code",
   "execution_count": 6,
   "id": "2f84bb8f-6a10-4990-a62a-ffec71430119",
   "metadata": {},
   "outputs": [
    {
     "name": "stdout",
     "output_type": "stream",
     "text": [
      "\n",
      "             |      RMSE \n",
      "-------------+-----------\n",
      "       fold1 |  131.3796 \n",
      "       fold2 |  124.6447 \n",
      "       fold3 |   133.332 \n",
      "       fold4 |  130.5541 \n",
      "       fold5 |  130.4793 \n"
     ]
    }
   ],
   "source": [
    "%%stata\n",
    "crossfold regress react no2_class $cc i.$fc, k(5) stub(fold)"
   ]
  },
  {
   "cell_type": "markdown",
   "id": "7c956b0b-593a-4572-80c1-85b47c928a70",
   "metadata": {},
   "source": [
    "Displaying the OLS estimates from the 3th fold"
   ]
  },
  {
   "cell_type": "code",
   "execution_count": 7,
   "id": "b480d4ae-6995-475c-955a-ec43bcb3e241",
   "metadata": {},
   "outputs": [
    {
     "name": "stdout",
     "output_type": "stream",
     "text": [
      "(results fold3 are active now)\n"
     ]
    }
   ],
   "source": [
    "%%stata -eret steret\n",
    "estimates restore fold3"
   ]
  },
  {
   "cell_type": "code",
   "execution_count": 8,
   "id": "3edf2902-1ee4-4516-b2ed-390239a70ddd",
   "metadata": {},
   "outputs": [
    {
     "data": {
      "text/plain": [
       "array([[ 2.37222280e+00,  7.41469848e-02, -3.47806437e+01,\n",
       "         5.90589708e+00,  1.62783388e+01,  1.40383825e+02,\n",
       "        -7.14551905e-01, -2.24453765e+01,  2.74418460e+00,\n",
       "         8.09833618e-01,  1.15731112e+01,  0.00000000e+00,\n",
       "         5.32365515e+01, -3.92517016e+01,  4.04275675e+00,\n",
       "        -1.43916693e+01,  1.96385164e+00, -6.68714662e+00,\n",
       "        -8.07707088e+00, -2.31291040e+01,  1.11343328e+03]])"
      ]
     },
     "execution_count": 8,
     "metadata": {},
     "output_type": "execute_result"
    }
   ],
   "source": [
    "steret['e(b)']"
   ]
  },
  {
   "cell_type": "code",
   "execution_count": 9,
   "id": "d08b9dcd-9a85-4694-aa74-735996210381",
   "metadata": {},
   "outputs": [
    {
     "name": "stdout",
     "output_type": "stream",
     "text": [
      "             RMSE         MAE  pseudo R2\n",
      "fold1  131.971042  103.827229   0.173063\n",
      "fold2  131.089282  104.633933   0.219005\n",
      "fold3  131.865644  107.469575   0.174983\n",
      "fold4  135.504024  100.342675   0.230675\n",
      "fold5  121.367081  100.383902   0.191130\n"
     ]
    }
   ],
   "source": [
    "import pandas as pd\n",
    "from pystata import stata\n",
    "from sfi import Scalar, Matrix\n",
    "stata.run('qui crossfold regress react no2_class $cc i.$fc, k(5) stub(fold)')\n",
    "df_rmse = pd.DataFrame(sum(Matrix.get('r(fold)'),[]))\n",
    "rows = Matrix.getRowNames('r(fold)')\n",
    "\n",
    "stata.run('qui crossfold regress react no2_class $cc i.$fc, k(5) stub(fold) mae')\n",
    "df_mae = pd.DataFrame(sum(Matrix.get('r(fold)'),[]))\n",
    "\n",
    "stata.run('qui crossfold regress react no2_class $cc i.$fc, k(5) stub(fold) r2')\n",
    "df_r2 = pd.DataFrame(sum(Matrix.get('r(fold)'),[]))\n",
    "\n",
    "# Export to result with Dataframe format\n",
    "result = pd.concat([df_rmse,df_mae,df_r2],axis=1)\n",
    "result.columns = ['RMSE','MAE','pseudo R2']\n",
    "result.index = rows\n",
    "print(result)"
   ]
  },
  {
   "cell_type": "markdown",
   "id": "f4cf219a-e688-4554-adaa-787e3f0cd0f3",
   "metadata": {},
   "source": [
    "In this case $\\sqrt{CV_{(5)}}$ equals"
   ]
  },
  {
   "cell_type": "code",
   "execution_count": 10,
   "id": "bda939e0-3af8-4654-bfe0-59bff0205adf",
   "metadata": {},
   "outputs": [
    {
     "name": "stdout",
     "output_type": "stream",
     "text": [
      "130.4458605035774\n"
     ]
    }
   ],
   "source": [
    "import math as math\n",
    "import statistics as st\n",
    "print(math.sqrt(st.mean(result['RMSE']**2)))"
   ]
  }
 ],
 "metadata": {
  "kernelspec": {
   "display_name": "Python 3 (ipykernel)",
   "language": "python",
   "name": "python3"
  },
  "language_info": {
   "codemirror_mode": {
    "name": "ipython",
    "version": 3
   },
   "file_extension": ".py",
   "mimetype": "text/x-python",
   "name": "python",
   "nbconvert_exporter": "python",
   "pygments_lexer": "ipython3",
   "version": "3.10.8"
  }
 },
 "nbformat": 4,
 "nbformat_minor": 5
}
