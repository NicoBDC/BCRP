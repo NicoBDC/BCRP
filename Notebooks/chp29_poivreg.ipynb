{
 "cells": [
  {
   "cell_type": "code",
   "execution_count": 1,
   "id": "d18eef24-0a9e-4aba-bc81-79d2f549e72c",
   "metadata": {},
   "outputs": [
    {
     "name": "stdout",
     "output_type": "stream",
     "text": [
      "\n",
      "  ___  ____  ____  ____  ____ ®\n",
      " /__    /   ____/   /   ____/      17.0\n",
      "___/   /   /___/   /   /___/       MP—Parallel Edition\n",
      "\n",
      " Statistics and Data Science       Copyright 1985-2021 StataCorp LLC\n",
      "                                   StataCorp\n",
      "                                   4905 Lakeway Drive\n",
      "                                   College Station, Texas 77845 USA\n",
      "                                   800-STATA-PC        https://www.stata.com\n",
      "                                   979-696-4600        stata@stata.com\n",
      "\n",
      "Stata license: Single-user 4-core  perpetual\n",
      "Serial number: 501706303466\n",
      "  Licensed to: David Tomas Jacho-Chavez\n",
      "               Emory University\n",
      "\n",
      "Notes:\n",
      "      1. Unicode is supported; see help unicode_advice.\n",
      "      2. More than 2 billion observations are allowed; see help obs_advice.\n",
      "      3. Maximum number of variables is set to 5,000; see help set_maxvar.\n"
     ]
    }
   ],
   "source": [
    "import stata_setup\n",
    "stata_setup.config(\"C:/Program Files/Stata17/\", \"mp\")"
   ]
  },
  {
   "cell_type": "markdown",
   "id": "ce2a2849-e0b9-4f10-9975-ab4e8a90e880",
   "metadata": {},
   "source": [
    "## Partialing-Out IV"
   ]
  },
  {
   "cell_type": "code",
   "execution_count": 2,
   "id": "71afdedb-bd8a-4034-8e25-ad70bfe0633e",
   "metadata": {},
   "outputs": [
    {
     "name": "stdout",
     "output_type": "stream",
     "text": [
      "\n",
      ". use https://www.stata-press.com/data/r17/mroz, clear\n",
      "\n",
      ". vl create exogbase = (exper age husage kidslt6 kidsge6 city)\n",
      "note: $exogbase initialized with 6 variables.\n",
      "\n",
      ". note: $exogbase initialized with 6 variables.\n",
      "\n",
      ". vl create instbase = (motheduc fatheduc huseduc)\n",
      "note: $instbase initialized with 3 variables.\n",
      "\n",
      ". note: $instbase initialized with 3 variables.\n",
      "\n",
      ". \n"
     ]
    }
   ],
   "source": [
    "%%stata\n",
    "use https://www.stata-press.com/data/r17/mroz, clear\n",
    "vl create exogbase = (exper age husage kidslt6 kidsge6 city)\n",
    "note: $exogbase initialized with 6 variables.\n",
    "vl create instbase = (motheduc fatheduc huseduc)\n",
    "note: $instbase initialized with 3 variables."
   ]
  },
  {
   "cell_type": "markdown",
   "id": "5db0caa2-aaf6-4d29-b18f-f0652685caab",
   "metadata": {},
   "source": [
    "Let's add ```c.instbase#c.instbase``` to the list of potential instruments. The ```#``` is the factor-variable operator for interaction. It can interact categorical variables, continuous variables, or both. The ```c.``` prefix tells the ```#``` operator to treat the lists as continuous variables. ```#``` assumes categorical variables unless told otherwise."
   ]
  },
  {
   "cell_type": "code",
   "execution_count": 3,
   "id": "9c056735-827e-4c42-a7f6-adcd5d8954d5",
   "metadata": {},
   "outputs": [
    {
     "name": "stdout",
     "output_type": "stream",
     "text": [
      "\n",
      ". vl substitute inst = c.instbase c.instbase#c.instbase\n",
      "\n",
      ". macro list inst\n",
      "inst:           motheduc fatheduc huseduc c.motheduc#c.motheduc\n",
      "                c.motheduc#c.fatheduc c.motheduc#c.huseduc\n",
      "                c.fatheduc#c.fatheduc c.fatheduc#c.huseduc c.huseduc#c.huseduc\n",
      "\n",
      ". \n"
     ]
    }
   ],
   "source": [
    "%%stata\n",
    "vl substitute inst = c.instbase c.instbase#c.instbase\n",
    "macro list inst"
   ]
  },
  {
   "cell_type": "code",
   "execution_count": 4,
   "id": "9170c618-3278-4829-891d-8441f38580a6",
   "metadata": {},
   "outputs": [
    {
     "name": "stdout",
     "output_type": "stream",
     "text": [
      "\n",
      "Estimating lasso for lwage using plugin\n",
      "Estimating lasso for educ using plugin\n",
      "Estimating lasso for pred(educ) using plugin\n",
      "\n",
      "Partialing-out IV linear model     Number of obs                  =        428\n",
      "                                   Number of controls             =          6\n",
      "                                   Number of instruments          =          9\n",
      "                                   Number of selected controls    =          3\n",
      "                                   Number of selected instruments =          3\n",
      "                                   Wald chi2(1)                   =      12.80\n",
      "                                   Prob > chi2                    =     0.0003\n",
      "\n",
      "------------------------------------------------------------------------------\n",
      "             |               Robust\n",
      "       lwage | Coefficient  std. err.      z    P>|z|     [95% conf. interval]\n",
      "-------------+----------------------------------------------------------------\n",
      "        educ |   .0774891   .0216582     3.58   0.000     .0350397    .1199385\n",
      "------------------------------------------------------------------------------\n",
      "Endogenous: educ\n",
      "Note: Chi-squared test is a Wald test of the coefficients of the variables\n",
      "      of interest jointly equal to zero. Lassos select controls for model\n",
      "      estimation. Type lassoinfo to see number of selected variables in each\n",
      "      lasso.\n"
     ]
    }
   ],
   "source": [
    "%%stata\n",
    "poivregress lwage (educ=$inst), controls($exogbase) selection(plugin)"
   ]
  }
 ],
 "metadata": {
  "kernelspec": {
   "display_name": "Python 3 (ipykernel)",
   "language": "python",
   "name": "python3"
  },
  "language_info": {
   "codemirror_mode": {
    "name": "ipython",
    "version": 3
   },
   "file_extension": ".py",
   "mimetype": "text/x-python",
   "name": "python",
   "nbconvert_exporter": "python",
   "pygments_lexer": "ipython3",
   "version": "3.9.6"
  }
 },
 "nbformat": 4,
 "nbformat_minor": 5
}
