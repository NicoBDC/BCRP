{
 "cells": [
  {
   "cell_type": "code",
   "execution_count": 1,
   "id": "a1b938f9-22f8-4bea-9ad9-3f5cb552eff3",
   "metadata": {},
   "outputs": [
    {
     "name": "stdout",
     "output_type": "stream",
     "text": [
      "\n",
      "  ___  ____  ____  ____  ____ ®\n",
      " /__    /   ____/   /   ____/      17.0\n",
      "___/   /   /___/   /   /___/       MP—Parallel Edition\n",
      "\n",
      " Statistics and Data Science       Copyright 1985-2021 StataCorp LLC\n",
      "                                   StataCorp\n",
      "                                   4905 Lakeway Drive\n",
      "                                   College Station, Texas 77845 USA\n",
      "                                   800-STATA-PC        https://www.stata.com\n",
      "                                   979-696-4600        stata@stata.com\n",
      "\n",
      "Stata license: Single-user 4-core  perpetual\n",
      "Serial number: 501706303466\n",
      "  Licensed to: David Tomas Jacho-Chavez\n",
      "               Emory University\n",
      "\n",
      "Notes:\n",
      "      1. Unicode is supported; see help unicode_advice.\n",
      "      2. More than 2 billion observations are allowed; see help obs_advice.\n",
      "      3. Maximum number of variables is set to 5,000; see help set_maxvar.\n"
     ]
    }
   ],
   "source": [
    "import stata_setup\n",
    "stata_setup.config(\"C:/Program Files/Stata17/\", \"mp\")"
   ]
  },
  {
   "cell_type": "markdown",
   "id": "9210ce92-8ed6-4a2e-b3de-341b6b677ee7",
   "metadata": {},
   "source": [
    "## Ridge Regression"
   ]
  },
  {
   "cell_type": "markdown",
   "id": "7a3ea8a2-ed77-44ac-936f-89b1a8e26d40",
   "metadata": {},
   "source": [
    "The ridge regression estimator\n",
    "\n",
    "$$\n",
    "\\widehat{\\beta}_{\\text {ridge }}=\\left(\\boldsymbol{X}^{\\prime} \\boldsymbol{X}+\\lambda \\boldsymbol{I}_{p}\\right)^{-1} \\boldsymbol{X}^{\\prime} \\boldsymbol{Y}\n",
    "$$\n",
    "\n",
    "where $\\lambda>0$ is called the _ridge_ parameter."
   ]
  },
  {
   "cell_type": "code",
   "execution_count": 2,
   "id": "7726c11f-0f24-49dc-a394-a73a69c8abee",
   "metadata": {},
   "outputs": [
    {
     "name": "stdout",
     "output_type": "stream",
     "text": [
      "\n",
      ". use https://www.stata-press.com/data/r17/breathe, clear\n",
      "(Nitrogen dioxide and attention)\n",
      "\n",
      ". quietly do https://www.stata-press.com/data/r17/no2\n",
      "\n",
      ". display \"$cc\"\n",
      "no2_home age age0 sev_home green_home noise_school sev_school precip siblings_o\n",
      "> ld siblings_young\n",
      "\n",
      ". display \"$fc\"\n",
      "sex grade overweight lbweight breastfeed msmoke meducation feducation\n",
      "\n",
      ". quietly elasticnet linear react no2_class $cc i.($fc), alpha(0) lambda(5.34) \n",
      "> nolog\n",
      "\n",
      ". \n"
     ]
    }
   ],
   "source": [
    "%%stata -eret steret\n",
    "use https://www.stata-press.com/data/r17/breathe, clear\n",
    "quietly do https://www.stata-press.com/data/r17/no2\n",
    "display \"$cc\"\n",
    "display \"$fc\"\n",
    "quietly elasticnet linear react no2_class $cc i.($fc), alpha(0) lambda(5.34) nolog"
   ]
  },
  {
   "cell_type": "code",
   "execution_count": 3,
   "id": "81fe7d3d-b5f8-461c-b34d-1af805a14c2f",
   "metadata": {},
   "outputs": [
    {
     "data": {
      "text/plain": [
       "array([[ 2.29961589e-01,  7.19709255e-03, -7.79693859e+00,\n",
       "         5.74574982e-01,  6.06413940e+00, -3.52607533e+00,\n",
       "         6.68343036e-02, -1.89343420e+00, -1.73832297e-01,\n",
       "        -8.31931169e-01,  1.07094386e+00, -7.25895432e+00,\n",
       "         7.25895432e+00,  1.40836299e+01, -3.97196296e+00,\n",
       "        -1.25150209e+01, -8.32688611e-01,  8.32688611e-01,\n",
       "         2.31593189e+00, -2.31593189e+00,  6.41138933e-01,\n",
       "        -1.03166138e+00,  8.40362065e-01,  2.77440061e+00,\n",
       "        -2.77440061e+00, -1.52163825e+01,  8.46798521e+00,\n",
       "         7.06684098e-01, -2.51228437e+00, -3.81572420e+00,\n",
       "         7.17102626e+00,  3.04649534e+00, -4.66411406e+00,\n",
       "         7.98804501e+02]])"
      ]
     },
     "execution_count": 3,
     "metadata": {},
     "output_type": "execute_result"
    }
   ],
   "source": [
    "steret['e(b)']"
   ]
  },
  {
   "cell_type": "code",
   "execution_count": 4,
   "id": "f95b921d-414b-43de-b2f9-53c798088d3c",
   "metadata": {},
   "outputs": [
    {
     "name": "stdout",
     "output_type": "stream",
     "text": [
      "\n",
      "Elastic net linear model                         No. of obs        =      1,036\n",
      "                                                 No. of covariates =         33\n",
      "Selection: Cross-validation                      No. of CV folds   =      1,036\n",
      "\n",
      "-------------------------------------------------------------------------------\n",
      "               |                               No. of      Out-of-      CV mean\n",
      "               |                              nonzero       sample   prediction\n",
      "alpha       ID |     Description      lambda    coef.    R-squared        error\n",
      "---------------+---------------------------------------------------------------\n",
      "0.000          |\n",
      "             1 |    first lambda          .3       33       0.1982     16708.13\n",
      "            15 |   lambda before         .23       33       0.1985     16701.84\n",
      "          * 16 | selected lambda        .225       33       0.1985     16701.79\n",
      "            17 |    lambda after         .22       33       0.1985     16701.81\n",
      "            41 |     last lambda          .1       33       0.1973     16726.27\n",
      "-------------------------------------------------------------------------------\n",
      "* alpha and lambda selected by cross-validation.\n"
     ]
    }
   ],
   "source": [
    "%%stata\n",
    "elasticnet linear react no2_class $cc i.($fc), alpha(0) lambda(0.1(.005)0.3) folds(1036) nolog"
   ]
  },
  {
   "cell_type": "code",
   "execution_count": 5,
   "id": "4d86613b-236c-44cb-81ae-8992417949d8",
   "metadata": {},
   "outputs": [
    {
     "name": "stdout",
     "output_type": "stream",
     "text": [
      "\n",
      ". use https://www.stata-press.com/data/r17/breathe, clear\n",
      "(Nitrogen dioxide and attention)\n",
      "\n",
      ". quietly do https://www.stata-press.com/data/r17/no2\n",
      "\n",
      ". display \"$cc\"\n",
      "no2_home age age0 sev_home green_home noise_school sev_school precip siblings_o\n",
      "> ld siblings_young\n",
      "\n",
      ". display \"$fc\"\n",
      "sex grade overweight lbweight breastfeed msmoke meducation feducation\n",
      "\n",
      ". quietly elasticnet linear react no2_class $cc i.($fc), alpha(0) lambda(2.25) \n",
      "> nolog\n",
      "\n",
      ". matrix list r(table)\n",
      "\n",
      "r(table)[9,34]\n",
      "                                                                             \n",
      "           no2_class      no2_home           age          age0      sev_home\n",
      "     b     2.4089832    -.13157689    -28.594605     5.6168192     26.057464\n",
      "    se     .51922022     .29480143     11.411889     3.1498828     23.139224\n",
      "     t     4.6396176    -.44632377    -2.5056855     1.7831836     1.1261166\n",
      "pvalue     3.949e-06     .65545906     .01237783     .07485666     .26038369\n",
      "    ll     1.3901093    -.71007031    -50.988333    -.56424476    -19.348996\n",
      "    ul     3.4278572     .44691654    -6.2008775     11.797883     71.463923\n",
      "    df          1010          1010          1010          1010          1010\n",
      "  crit     1.9623155     1.9623155     1.9623155     1.9623155     1.9623155\n",
      " eform             0             0             0             0             0\n",
      "\n",
      "                                                                             \n",
      "          green_home  noise_school    sev_school        precip  siblings_old\n",
      "     b     85.955844     -.5248524    -11.369211     4.6707552     .76890006\n",
      "    se     75.500134     1.0562845     23.963293     4.1968888     6.6841491\n",
      "     t      1.138486    -.49688543    -.47444276      1.112909     .11503335\n",
      "pvalue     .25518758     .61937798     .63528677     .26601233     .90844155\n",
      "    ll    -62.199242     -2.597616    -58.392753     -3.564865     -12.34751\n",
      "    ul     234.11093     1.5479112     35.654331     12.906375      13.88531\n",
      "    df          1010          1010          1010          1010          1010\n",
      "  crit     1.9623155     1.9623155     1.9623155     1.9623155     1.9623155\n",
      " eform             0             0             0             0             0\n",
      "\n",
      "                                 0.           1o.            1.            2.\n",
      "        siblings_y~g           sex           sex         grade         grade\n",
      "     b     15.129332    -50.274932             0      85.31529     24.710022\n",
      "    se     6.5603922     8.0550789             .     25.658736     15.549198\n",
      "     t     2.3061627    -6.2413954             .     3.3249997     1.5891509\n",
      "pvalue     .02130329     6.373e-10             .     .00091599     .11233929\n",
      "    ll     2.2557725    -66.081539             .     34.964754    -5.8024112\n",
      "    ul     28.002892    -34.468326             .     135.66583     55.222455\n",
      "    df          1010          1010          1010          1010          1010\n",
      "  crit     1.9623155     1.9623155     1.9623155     1.9623155     1.9623155\n",
      " eform             0             0             0             0             0\n",
      "\n",
      "                  3o.            0.           1o.            0.           1o.\n",
      "               grade    overweight    overweight      lbweight      lbweight\n",
      "     b             0    -3.0362772             0     18.383756             0\n",
      "    se             .     9.5578013             .     14.530714             .\n",
      "     t             .    -.31767528             .     1.2651654             .\n",
      "pvalue             .     .75079693             .     .20610387             .\n",
      "    ll             .    -21.791699             .     -10.13009             .\n",
      "    ul             .     15.719145             .     46.897602             .\n",
      "    df          1010          1010          1010          1010          1010\n",
      "  crit     1.9623155     1.9623155     1.9623155     1.9623155     1.9623155\n",
      " eform             0             0             0             0             0\n",
      "\n",
      "                   1.            2.           3o.            0.           1o.\n",
      "          breastfeed    breastfeed    breastfeed        msmoke        msmoke\n",
      "     b    -.47697522    -6.4403278             0      20.45926             0\n",
      "    se     13.042874     9.2637855             .     21.294824             .\n",
      "     t     -.0365698    -.69521556             .     .96076212             .\n",
      "pvalue     .97083525     .48708014             .     .33690173             .\n",
      "    ll    -26.071209    -24.618798             .    -21.327903             .\n",
      "    ul     25.117258     11.738142             .     62.246423             .\n",
      "    df          1010          1010          1010          1010          1010\n",
      "  crit     1.9623155     1.9623155     1.9623155     1.9623155     1.9623155\n",
      " eform             0             0             0             0             0\n",
      "\n",
      "                   1.            2.            3.           4o.            1.\n",
      "          meducation    meducation    meducation    meducation    feducation\n",
      "     b    -107.85846     35.373771     8.1941646             0    -26.844086\n",
      "    se      61.24576     20.890411      11.04998             .     44.524458\n",
      "     t    -1.7610763     1.6933018     .74155471             .     -.6029065\n",
      "pvalue     .07852806     .09070639     .45852956             .     .54670624\n",
      "    ll    -228.04196    -5.6198073    -13.489382             .    -114.21512\n",
      "    ul     12.325049      76.36735     29.877712             .     60.526951\n",
      "    df          1010          1010          1010          1010          1010\n",
      "  crit     1.9623155     1.9623155     1.9623155     1.9623155     1.9623155\n",
      " eform             0             0             0             0             0\n",
      "\n",
      "                   2.            3.           4o.              \n",
      "          feducation    feducation    feducation         _cons\n",
      "     b     40.223024     28.852221             0     843.13367\n",
      "    se      18.46762     10.238256             .     128.36482\n",
      "     t     2.1780297     2.8180797             .     6.5682613\n",
      "pvalue     .02963458     .00492547             .     8.134e-11\n",
      "    ll     3.9837269     8.7615325             .     591.24139\n",
      "    ul     76.462322     48.942909             .     1095.0259\n",
      "    df          1010          1010          1010          1010\n",
      "  crit     1.9623155     1.9623155     1.9623155     1.9623155\n",
      " eform             0             0             0             0\n",
      "\n",
      ". \n"
     ]
    }
   ],
   "source": [
    "%%stata\n",
    "use https://www.stata-press.com/data/r17/breathe, clear\n",
    "quietly do https://www.stata-press.com/data/r17/no2\n",
    "display \"$cc\"\n",
    "display \"$fc\"\n",
    "quietly elasticnet linear react no2_class $cc i.($fc), alpha(0) lambda(0.225) nolog\n",
    "matrix list r(table)"
   ]
  },
  {
   "cell_type": "code",
   "execution_count": 6,
   "id": "05752cc3-3a9e-4fdf-bf15-4b747e572292",
   "metadata": {},
   "outputs": [
    {
     "name": "stdout",
     "output_type": "stream",
     "text": [
      "\n",
      ". predict reac_hat, xb\n",
      "(option penalized assumed; linear prediction with penalized coefficients)\n",
      "\n",
      ". gen ehat = react - reac_hat\n",
      "(53 missing values generated)\n",
      "\n",
      ". set scheme s1mono\n",
      "\n",
      ". histogram ehat\n",
      "(bin=30, start=-250.7589, width=25.362692)\n",
      "\n",
      ". \n"
     ]
    },
    {
     "data": {
      "image/png": "[encoded data removed]",
      "text/plain": [
       "<IPython.core.display.Image object>"
      ]
     },
     "metadata": {},
     "output_type": "display_data"
    }
   ],
   "source": [
    "%%stata\n",
    "predict reac_hat, xb\n",
    "gen ehat = react - reac_hat\n",
    "set scheme s1mono\n",
    "histogram ehat"
   ]
  }
 ],
 "metadata": {
  "kernelspec": {
   "display_name": "Python 3 (ipykernel)",
   "language": "python",
   "name": "python3"
  },
  "language_info": {
   "codemirror_mode": {
    "name": "ipython",
    "version": 3
   },
   "file_extension": ".py",
   "mimetype": "text/x-python",
   "name": "python",
   "nbconvert_exporter": "python",
   "pygments_lexer": "ipython3",
   "version": "3.10.8"
  },
  "vscode": {
   "interpreter": {
    "hash": "26de051ba29f2982a8de78e945f0abaf191376122a1563185a90213a26c5da77"
   }
  }
 },
 "nbformat": 4,
 "nbformat_minor": 5
}
