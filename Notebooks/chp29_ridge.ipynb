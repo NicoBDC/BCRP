{
 "cells": [
  {
   "cell_type": "code",
   "execution_count": null,
   "id": "a1b938f9-22f8-4bea-9ad9-3f5cb552eff3",
   "metadata": {},
   "outputs": [],
   "source": [
    "import stata_setup\n",
    "stata_setup.config(\"C:/Program Files/Stata17/\", \"mp\")"
   ]
  },
  {
   "cell_type": "markdown",
   "id": "9210ce92-8ed6-4a2e-b3de-341b6b677ee7",
   "metadata": {},
   "source": [
    "## Ridge Regression"
   ]
  },
  {
   "cell_type": "markdown",
   "id": "7a3ea8a2-ed77-44ac-936f-89b1a8e26d40",
   "metadata": {},
   "source": [
    "The ridge regression estimator\n",
    "\n",
    "$$\n",
    "\\widehat{\\beta}_{\\text {ridge }}=\\left(\\boldsymbol{X}^{\\prime} \\boldsymbol{X}+\\lambda \\boldsymbol{I}_{p}\\right)^{-1} \\boldsymbol{X}^{\\prime} \\boldsymbol{Y}\n",
    "$$\n",
    "\n",
    "where $\\lambda>0$ is called the _ridge_ parameter."
   ]
  },
  {
   "cell_type": "code",
   "execution_count": null,
   "id": "7726c11f-0f24-49dc-a394-a73a69c8abee",
   "metadata": {},
   "outputs": [],
   "source": [
    "%%stata -eret steret\n",
    "use ../Data/breathe, clear\n",
    "quietly do ../Do/no2\n",
    "display \"$cc\"\n",
    "display \"$fc\"\n",
    "quietly elasticnet linear react no2_class $cc i.($fc), alpha(0) lambda(5.34) nolog"
   ]
  },
  {
   "cell_type": "code",
   "execution_count": null,
   "id": "81fe7d3d-b5f8-461c-b34d-1af805a14c2f",
   "metadata": {},
   "outputs": [],
   "source": [
    "steret['e(b)']"
   ]
  },
  {
   "cell_type": "code",
   "execution_count": null,
   "id": "f95b921d-414b-43de-b2f9-53c798088d3c",
   "metadata": {},
   "outputs": [],
   "source": [
    "%%stata\n",
    "elasticnet linear react no2_class $cc i.($fc), alpha(0) lambda(0.1(.005)0.3) folds(1036) nolog"
   ]
  },
  {
   "cell_type": "code",
   "execution_count": null,
   "id": "4d86613b-236c-44cb-81ae-8992417949d8",
   "metadata": {},
   "outputs": [],
   "source": [
    "%%stata\n",
    "use ../Data/breathe, clear\n",
    "quietly do ../Do/no2\n",
    "display \"$cc\"\n",
    "display \"$fc\"\n",
    "quietly elasticnet linear react no2_class $cc i.($fc), alpha(0) lambda(0.225) nolog\n",
    "matrix list r(table)"
   ]
  },
  {
   "cell_type": "code",
   "execution_count": null,
   "id": "05752cc3-3a9e-4fdf-bf15-4b747e572292",
   "metadata": {},
   "outputs": [],
   "source": [
    "%%stata\n",
    "predict reac_hat, xb\n",
    "gen ehat = react - reac_hat\n",
    "set scheme s1mono\n",
    "histogram ehat"
   ]
  }
 ],
 "metadata": {
  "kernelspec": {
   "display_name": "Python 3",
   "language": "python",
   "name": "python3"
  },
  "language_info": {
   "codemirror_mode": {
    "name": "ipython",
    "version": 3
   },
   "file_extension": ".py",
   "mimetype": "text/x-python",
   "name": "python",
   "nbconvert_exporter": "python",
   "pygments_lexer": "ipython3",
   "version": "3.9.6"
  },
  "vscode": {
   "interpreter": {
    "hash": "11938c6bc6919ae2720b4d5011047913343b08a43b18698fd82dedb0d4417594"
   }
  }
 },
 "nbformat": 4,
 "nbformat_minor": 5
}
